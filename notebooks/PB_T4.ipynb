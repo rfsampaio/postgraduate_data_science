{
 "cells": [
  {
   "cell_type": "markdown",
   "metadata": {},
   "source": [
    "<head>\n",
    "  <meta name=\"author\" content=\"Rogério de Oliveira\">\n",
    "  <meta institution=\"author\" content=\"Universidade Presbiteriana Mackenzie\">\n",
    "</head>\n",
    "\n",
    "<img src=\"http://meusite.mackenzie.br/rogerio/mackenzie_logo/UPM.2_horizontal_vermelho.jpg\" width=300, align=\"right\">\n",
    "<!-- <h1 align=left><font size = 6, style=\"color:rgb(200,0,0)\"> optional title </font></h1> -->"
   ]
  },
  {
   "cell_type": "markdown",
   "metadata": {},
   "source": [
    "**CURSO DE PÓS-GRADUAÇÃO EM CIÊNCIA DE DADOS (BIG DATA PROCESSING AND ANALYTICS)**<p>\n",
    "**Componente curricular:** PROCESSAMENTO E BIG DATA - O PROCESSING EM UMA VISÃO PRÁTICA - 2022.2 - 01D - Trilha 4.<br>\n",
    "\n",
    "**Aluno:** ROBSON DE FREITAS SAMPAIO.<br>\n",
    "\n",
    "**URL deste notebook:** https://github.com/rfsampaio/postgraduate_data_science/blob/main/notebooks/PB_T4.ipynb<br>\n",
    "***"
   ]
  },
  {
   "cell_type": "markdown",
   "metadata": {
    "id": "nyDUaSAsbDnu"
   },
   "source": [
    "### **Atividade - Trilha 4**"
   ]
  },
  {
   "cell_type": "markdown",
   "metadata": {
    "id": "FDT0TyYybDn1"
   },
   "source": [
    "#### **Questão 1 - Trabalhando com o Apache Hive**\n",
    "\n",
    "Você deve criar um documento no formato PDF com os códigos usados em cada item da questão. Lembre-se que você deve usar o HQL."
   ]
  },
  {
   "cell_type": "markdown",
   "metadata": {},
   "source": [
    "**1. Crie um banco de dados no Hive chamado \"jogos\".**"
   ]
  },
  {
   "cell_type": "markdown",
   "metadata": {},
   "source": [
    "```\n",
    "   hive> create database jogos;\n",
    "   OK\n",
    "   Time taken: 2.083 seconds\n",
    "\n",
    "   hive> show databases;\n",
    "   OK\n",
    "   default\n",
    "   jogos\n",
    "   Time taken: 0.312 seconds, Fetched: 2 row(s)\n",
    "\n",
    "   hive> describe database jogos;\n",
    "   OK\n",
    "   jogos hdfs://quickstart.cloudera:8020/user/hive/warehouse/jogos.db cloudera USER\t\n",
    "   Time taken: 0.098 seconds, Fetched: 1 row(s)\n",
    "```"
   ]
  },
  {
   "cell_type": "markdown",
   "metadata": {},
   "source": [
    "**2. Crie uma tabela chamada \"video_game\". Essa tabela deve ter os campos abaixo e deve ser particionada com um campo chamado \"period\" que deve ser uma string.**\n",
    "- rank inteiro, \n",
    "- name string, \n",
    "- platform string, \n",
    "- year inteiro, \n",
    "- genre string, \n",
    "- publisher string, \n",
    "- na_sales float, \n",
    "- eu_sales float, \n",
    "- jp_sales float, \n",
    "- other_sales float, \n",
    "- global_sales float.\n",
    "\n",
    "Lembre-se de definir o formato dos campos."
   ]
  },
  {
   "cell_type": "markdown",
   "metadata": {},
   "source": [
    "   - Criando a tabela no database\n",
    "   \n",
    "```\n",
    "   hive> use jogos;\n",
    "   OK\n",
    "   Time taken: 0.043 seconds\n",
    "\n",
    "   hive> create table video_game (rank int, name string, platform string, year int, genre string, publisher string,\n",
    "   na_sales float, eu_sales float, jp_sales float, other_sales float, global_sales float)\n",
    "   partitioned by (period string) row format delimited fields terminated by ',';\n",
    "   OK\n",
    "   Time taken: 0.307 seconds\n",
    "\n",
    "   hive> describe video_game;\n",
    "   OK\n",
    "   rank                \tint                 \t                    \n",
    "   name                \tstring              \t                    \n",
    "   platform            \tstring              \t                    \n",
    "   year                \tint                 \t                    \n",
    "   genre               \tstring              \t                    \n",
    "   publisher           \tstring              \t                    \n",
    "   na_sales            \tfloat               \t                    \n",
    "   eu_sales            \tfloat               \t                    \n",
    "   jp_sales            \tfloat               \t                    \n",
    "   other_sales         \tfloat               \t                    \n",
    "   global_sales        \tfloat               \t                    \n",
    "   period              \tstring              \t                    \n",
    "\t \t \n",
    "   # Partition Information\t \t \n",
    "   # col_name           data_type      comment             \t \t \n",
    "   period               string              \t                    \n",
    "   Time taken: 0.264 seconds, Fetched: 17 row(s)\n",
    "```"
   ]
  },
  {
   "cell_type": "markdown",
   "metadata": {},
   "source": [
    "**3. Vamos trabalhar com informações sobre vendas de vídeo games fornecidas pelo Kaggle. Para tanto, baixe o \"CSV\" com os dados do site: https://gist.github.com/zhonglism/f146a9423e2c975de8d03c26451f841e**"
   ]
  },
  {
   "cell_type": "markdown",
   "metadata": {},
   "source": [
    "   - Baixando o arquivo \"vgsales.csv\" a partir de \"https://gist.github.com/zhonglism/f146a9423e2c975de8d03c26451f841e\" e salvando na pasta \"/home/cloudera/Downloads/\"."
   ]
  },
  {
   "cell_type": "markdown",
   "metadata": {},
   "source": [
    "**4. Carregue os dados chamado \"vgsales\" na tabela \"video_game\" do Hive na partição \"1980_2016\".**"
   ]
  },
  {
   "cell_type": "markdown",
   "metadata": {},
   "source": [
    "   - Carregando os dados do arquivo \"vgsales.csv\" no Hive.\n",
    "\n",
    "   ```\n",
    "      hive> load data local inpath '/home/cloudera/Downloads/vgsales.csv' into table video_game\n",
    "      partition (period='1980_2016');\n",
    "      Loading data to table jogos.video_game partition (period=1980_2016)\n",
    "      Partition jogos.video_game{period=1980_2016} stats: [numFiles=1, numRows=0, totalSize=1355781, rawDataSize=0]\n",
    "      OK\n",
    "      Time taken: 1.322 seconds\n",
    "   ```"
   ]
  },
  {
   "cell_type": "markdown",
   "metadata": {},
   "source": [
    "**5. Mostre as 10 primeiras linhas da base.**"
   ]
  },
  {
   "cell_type": "markdown",
   "metadata": {},
   "source": [
    "```\n",
    "hive> select * from video_game limit 10;\n",
    "OK\n",
    "NULL\tName\tPlatform\tNULL\tGenre\tPublisher\tNULL\tNULL\tNULL\tNULL\tNULL\t1980_2016\n",
    "1\tWii Sports\tWii\t2006\tSports\tNintendo\t41.49\t29.02\t3.77\t8.46\t82.74\t1980_2016\n",
    "2\tSuper Mario Bros.\tNES\t1985\tPlatform\tNintendo\t29.08\t3.58\t6.81\t0.77\t40.24\t1980_2016\n",
    "3\tMario Kart Wii\tWii\t2008\tRacing\tNintendo\t15.85\t12.88\t3.79\t3.31\t35.82\t1980_2016\n",
    "4\tWii Sports Resort\tWii\t2009\tSports\tNintendo\t15.75\t11.01\t3.28\t2.96\t33.0\t1980_2016\n",
    "5\tPokemon Red/Pokemon Blue\tGB\t1996\tRole-Playing\tNintendo\t11.27\t8.89\t10.22\t1.0\t31.371980_2016\n",
    "6\tTetris\tGB\t1989\tPuzzle\tNintendo\t23.2\t2.26\t4.22\t0.58\t30.26\t1980_2016\n",
    "7\tNew Super Mario Bros.\tDS\t2006\tPlatform\tNintendo\t11.38\t9.23\t6.5\t2.9\t30.01\t1980_2016\n",
    "8\tWii Play\tWii\t2006\tMisc\tNintendo\t14.03\t9.2\t2.93\t2.85\t29.02\t1980_2016\n",
    "9\tNew Super Mario Bros. Wii\tWii\t2009\tPlatform\tNintendo\t14.59\t7.06\t4.7\t2.26\t28.621980_2016\n",
    "Time taken: 0.546 seconds, Fetched: 10 row(s)\n",
    "```"
   ]
  },
  {
   "cell_type": "markdown",
   "metadata": {},
   "source": [
    "**6. Mostre todas as linhas ocorridas após o ano de 2010.**"
   ]
  },
  {
   "cell_type": "markdown",
   "metadata": {},
   "source": [
    "```\n",
    "hive> select * from video_game where year > 2010 limit 10;\n",
    "OK\n",
    "17\tGrand Theft Auto V\tPS3\t2013\tAction\tTake-Two Interactive\t7.01\t9.27\t0.97\t4.14\t21.4\t1980_2016\n",
    "24\tGrand Theft Auto V\tX360\t2013\tAction\tTake-Two Interactive\t9.63\t5.31\t0.06\t1.38\t16.38\t1980_2016\n",
    "30\tCall of Duty: Modern Warfare 3\tX360\t2011\tShooter\tActivision\t9.03\t4.28\t0.13\t1.32\t14.76\t1980_2016\n",
    "33\tPokemon X/Pokemon Y\t3DS\t2013\tRole-Playing\tNintendo\t5.17\t4.05\t4.34\t0.79\t14.35\t1980_2016\n",
    "34\tCall of Duty: Black Ops 3\tPS4\t2015\tShooter\tActivision\t5.77\t5.81\t0.35\t2.31\t14.24\t1980_2016\n",
    "35\tCall of Duty: Black Ops II\tPS3\t2012\tShooter\tActivision\t4.99\t5.88\t0.65\t2.52\t14.03\t1980_2016\n",
    "36\tCall of Duty: Black Ops II\tX360\t2012\tShooter\tActivision\t8.25\t4.3\t0.07\t1.12\t13.73\t1980_2016\n",
    "38\tCall of Duty: Modern Warfare 3\tPS3\t2011\tShooter\tActivision\t5.54\t5.82\t0.49\t1.62\t13.46\t1980_2016\n",
    "43\tMario Kart 7\t3DS\t2011\tRacing\tNintendo\t4.74\t3.91\t2.67\t0.89\t12.21\t1980_2016\n",
    "45\tGrand Theft Auto V\tPS4\t2014\tAction\tTake-Two Interactive\t3.8\t5.81\t0.36\t2.02\t11.98\t1980_2016\n",
    "Time taken: 0.797 seconds, Fetched: 10 row(s)\n",
    "```"
   ]
  },
  {
   "cell_type": "markdown",
   "metadata": {},
   "source": [
    "Para exibir todas as linhas, sem a limitação de 10 registros, execute:"
   ]
  },
  {
   "cell_type": "markdown",
   "metadata": {},
   "source": [
    "```\n",
    "hive> select * from video_game where year > 2010; \n",
    "```"
   ]
  },
  {
   "cell_type": "markdown",
   "metadata": {},
   "source": [
    "**7. Mostre todas as linhas como que possuem a plataforma \"Wii\" na partição \"1980_2016\".**"
   ]
  },
  {
   "cell_type": "markdown",
   "metadata": {},
   "source": [
    "```\n",
    "hive> select * from video_game where platform = 'Wii' and period = '1980_2016' limit 10;\n",
    "OK\n",
    "1\tWii Sports\tWii\t2006\tSports\tNintendo\t41.49\t29.02\t3.77\t8.46\t82.74\t1980_2016\n",
    "3\tMario Kart Wii\tWii\t2008\tRacing\tNintendo\t15.85\t12.88\t3.79\t3.31\t35.82\t1980_2016\n",
    "4\tWii Sports Resort\tWii\t2009\tSports\tNintendo\t15.75\t11.01\t3.28\t2.96\t33.0\t1980_2016\n",
    "8\tWii Play\tWii\t2006\tMisc\tNintendo\t14.03\t9.2\t2.93\t2.85\t29.02\t1980_2016\n",
    "9\tNew Super Mario Bros. Wii\tWii\t2009\tPlatform\tNintendo\t14.59\t7.06\t4.7\t2.26\t28.621980_2016\n",
    "14\tWii Fit\tWii\t2007\tSports\tNintendo\t8.94\t8.03\t3.6\t2.15\t22.72\t1980_2016\n",
    "15\tWii Fit Plus\tWii\t2009\tSports\tNintendo\t9.09\t8.59\t2.53\t1.79\t22.0\t1980_2016\n",
    "40\tSuper Smash Bros. Brawl\tWii\t2008\tFighting\tNintendo\t6.75\t2.61\t2.66\t1.02\t13.04\t1980_2016\n",
    "49\tSuper Mario Galaxy\tWii\t2007\tPlatform\tNintendo\t6.16\t3.4\t1.2\t0.76\t11.52\t1980_2016\n",
    "61\tJust Dance 3\tWii\t2011\tMisc\tUbisoft\t6.05\t3.15\t0.0\t1.07\t10.26\t1980_2016\n",
    "Time taken: 1.187 seconds, Fetched: 10 row(s)\n",
    "```"
   ]
  },
  {
   "cell_type": "markdown",
   "metadata": {},
   "source": [
    "Para exibir todas as linhas, sem a limitação de 10 registros, execute:"
   ]
  },
  {
   "cell_type": "markdown",
   "metadata": {},
   "source": [
    "```\n",
    "hive> select * from video_game where platform = 'Wii' and period = '1980_2016';\n",
    "```"
   ]
  }
 ],
 "metadata": {
  "colab": {
   "name": "Trilha7_ExercicioAprofundamento.ipynb",
   "provenance": []
  },
  "kernelspec": {
   "display_name": "R",
   "language": "R",
   "name": "ir"
  },
  "language_info": {
   "codemirror_mode": "r",
   "file_extension": ".r",
   "mimetype": "text/x-r-source",
   "name": "R",
   "pygments_lexer": "r",
   "version": "4.2.0"
  },
  "toc": {
   "base_numbering": 1,
   "nav_menu": {},
   "number_sections": true,
   "sideBar": true,
   "skip_h1_title": false,
   "title_cell": "Table of Contents",
   "title_sidebar": "Contents",
   "toc_cell": false,
   "toc_position": {},
   "toc_section_display": true,
   "toc_window_display": false
  },
  "vscode": {
   "interpreter": {
    "hash": "37ed6dae9db4498ef1a8e176fbcebe5d295d56bee001a8e3185c66917fbe56fb"
   }
  }
 },
 "nbformat": 4,
 "nbformat_minor": 1
}
