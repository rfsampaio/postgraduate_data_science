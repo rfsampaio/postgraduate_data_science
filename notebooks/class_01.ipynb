{
 "cells": [
  {
   "cell_type": "markdown",
   "id": "4955cbe9",
   "metadata": {},
   "source": [
    "## **1. Problema de Negócio**\n",
    "\n",
    "**1.1 Empresa:** House Rocket.\n",
    "\n",
    "**1.2 O que a empresa faz:** a House Rocket é uma plataforma de compra e venda de imóveis.\n",
    "\n",
    "**1.3 Qual o problema?** O CEO da empresa gostaria de maximizar os lucros encontrando bons negócios.\n",
    "\n",
    "**1.4 Qual a principal estratégia?** Fontes externas para encontrar bons negócios.\n",
    "\n",
    "**1.5 As necessidades do CEO da House Rocket:**\n",
    "1. Quantos imóveis estão disponíveis para compra?\n",
    "2. Quantos atributos os imóveis possuem? (número de quartos, metragem, etc.)\n",
    "3. Quais são os atributos dos imóveis? (número de quartos, metragem, etc.)\n",
    "4. Qual o imóvel mais caro do portfólio?\n",
    "5. Qual o imóvel com maior número de quartos?\n",
    "6. Qual a soma total de quartos de todos os imóveis disponíveis para compra?\n",
    "7. Quantos imóveis possuem 2 banheiros?\n",
    "8. Qual o preço médio de todos os imóveis?\n",
    "9. Qual o preço médio dos imóveis com 2 banheiros?\n",
    "10. Qual o preço mínimo entre os imóveis com 3 quartos?\n",
    "11. Quantos imóveis possuem mais de 300 m2 na sala de estar?\n",
    "12. Quantos imóveis possuem mais de 2 andares?\n",
    "13. Quantos imóveis possuem vista para a água?\n",
    "14. Dos imóveis com vista para a água, quantos possuem 3 quartos?\n",
    "15. Dos imóveis com mais de 300 m2 na sala de estar, quantos possuem 3 banheiros?"
   ]
  },
  {
   "cell_type": "markdown",
   "id": "1569100b-1938-4b58-93f5-fa1b834f85e9",
   "metadata": {},
   "source": [
    "## **2. Planejamento da Solução**\n",
    "\n",
    "**2.1 Planejamento do PRODUTO FINAL:**\n",
    "\n",
    "a. O que eu vou entregar? (Planilha, Texto, E-mail, Modelo de ML, etc.)\n",
    "- Resposta - Texto com perguntas e respostas.\n",
    "\n",
    "b. Como vai ser a entrega?\n",
    "- Resposta - Texto com perguntas e respostas.\n",
    "\t> Exemplo: \n",
    "\tQuantos imóveis estão disponíveis para compra?\n",
    "    Resposta: 2.300.\n",
    "\n",
    "**2.2 Planejamento do PROCESSO:**\n",
    "\n",
    "a. Onde estão os dados? (Excel, CSV, JSON, TXT, SGBD, API, etc.)\n",
    "- Resposta - [House Sales in King County, USA | Kaggle](https://www.kaggle.com/harlfoxem/housesalesprediction).\n",
    "\n",
    "b. Como coletar os dados? (Download manual, SQL, Python, Streamlit, etc.)\n",
    "- Resposta - Fazendo o download manual do dataset.\n",
    "\n",
    "**2.3 Planejamento das FERRAMENTAS:**\n",
    "\n",
    "a. Identificar quais ferramentas podem ser utilizadas?\n",
    "- Resposta - Excel, Python, etc.\n",
    "\n",
    "b. Escolher as ferramentas que serão utilizadas?\n",
    "- Resposta - Python e Jupyter Notebook."
   ]
  },
  {
   "cell_type": "markdown",
   "id": "1e81a8bf",
   "metadata": {},
   "source": [
    "## **3. Atendendo as necessidades de Negócio com Python e Jupyter Notebook.**"
   ]
  },
  {
   "cell_type": "markdown",
   "id": "b2663d80",
   "metadata": {},
   "source": [
    "Importando bibliotecas necessárias:"
   ]
  },
  {
   "cell_type": "code",
   "execution_count": 2,
   "id": "4ef4a7f3",
   "metadata": {
    "ExecuteTime": {
     "end_time": "2022-01-08T15:00:53.564499Z",
     "start_time": "2022-01-08T15:00:53.550571Z"
    },
    "execution": {
     "iopub.execute_input": "2022-01-13T13:55:05.982559Z",
     "iopub.status.busy": "2022-01-13T13:55:05.982018Z",
     "iopub.status.idle": "2022-01-13T13:55:06.735368Z",
     "shell.execute_reply": "2022-01-13T13:55:06.735368Z",
     "shell.execute_reply.started": "2022-01-13T13:55:05.982559Z"
    }
   },
   "outputs": [],
   "source": [
    "import numpy as np\n",
    "import pandas as pd"
   ]
  },
  {
   "cell_type": "markdown",
   "id": "30fa4917",
   "metadata": {},
   "source": [
    "Acessando o dataset:"
   ]
  },
  {
   "cell_type": "code",
   "execution_count": 3,
   "id": "45eb69f0",
   "metadata": {
    "ExecuteTime": {
     "end_time": "2022-01-08T15:00:55.679369Z",
     "start_time": "2022-01-08T15:00:55.630496Z"
    },
    "execution": {
     "iopub.execute_input": "2022-01-13T13:55:09.054779Z",
     "iopub.status.busy": "2022-01-13T13:55:09.054779Z",
     "iopub.status.idle": "2022-01-13T13:55:09.160274Z",
     "shell.execute_reply": "2022-01-13T13:55:09.160274Z",
     "shell.execute_reply.started": "2022-01-13T13:55:09.054779Z"
    }
   },
   "outputs": [],
   "source": [
    "df = pd.read_csv(\"../data/kc_house_data.csv\")"
   ]
  },
  {
   "cell_type": "markdown",
   "id": "9a94fcb2",
   "metadata": {},
   "source": [
    "Visualizando o cabeçalho do dataset:"
   ]
  },
  {
   "cell_type": "code",
   "execution_count": 4,
   "id": "81fcf310",
   "metadata": {
    "ExecuteTime": {
     "end_time": "2022-01-08T15:00:57.908143Z",
     "start_time": "2022-01-08T15:00:57.870246Z"
    },
    "execution": {
     "iopub.execute_input": "2022-01-13T13:55:11.538670Z",
     "iopub.status.busy": "2022-01-13T13:55:11.537674Z",
     "iopub.status.idle": "2022-01-13T13:55:11.592989Z",
     "shell.execute_reply": "2022-01-13T13:55:11.592989Z",
     "shell.execute_reply.started": "2022-01-13T13:55:11.538670Z"
    }
   },
   "outputs": [
    {
     "data": {
      "text/html": [
       "<div>\n",
       "<style scoped>\n",
       "    .dataframe tbody tr th:only-of-type {\n",
       "        vertical-align: middle;\n",
       "    }\n",
       "\n",
       "    .dataframe tbody tr th {\n",
       "        vertical-align: top;\n",
       "    }\n",
       "\n",
       "    .dataframe thead th {\n",
       "        text-align: right;\n",
       "    }\n",
       "</style>\n",
       "<table border=\"1\" class=\"dataframe\">\n",
       "  <thead>\n",
       "    <tr style=\"text-align: right;\">\n",
       "      <th></th>\n",
       "      <th>id</th>\n",
       "      <th>date</th>\n",
       "      <th>price</th>\n",
       "      <th>bedrooms</th>\n",
       "      <th>bathrooms</th>\n",
       "      <th>sqft_living</th>\n",
       "      <th>sqft_lot</th>\n",
       "      <th>floors</th>\n",
       "      <th>waterfront</th>\n",
       "      <th>view</th>\n",
       "      <th>...</th>\n",
       "      <th>grade</th>\n",
       "      <th>sqft_above</th>\n",
       "      <th>sqft_basement</th>\n",
       "      <th>yr_built</th>\n",
       "      <th>yr_renovated</th>\n",
       "      <th>zipcode</th>\n",
       "      <th>lat</th>\n",
       "      <th>long</th>\n",
       "      <th>sqft_living15</th>\n",
       "      <th>sqft_lot15</th>\n",
       "    </tr>\n",
       "  </thead>\n",
       "  <tbody>\n",
       "    <tr>\n",
       "      <th>0</th>\n",
       "      <td>7129300520</td>\n",
       "      <td>20141013T000000</td>\n",
       "      <td>221900.0</td>\n",
       "      <td>3</td>\n",
       "      <td>1.00</td>\n",
       "      <td>1180</td>\n",
       "      <td>5650</td>\n",
       "      <td>1.0</td>\n",
       "      <td>0</td>\n",
       "      <td>0</td>\n",
       "      <td>...</td>\n",
       "      <td>7</td>\n",
       "      <td>1180</td>\n",
       "      <td>0</td>\n",
       "      <td>1955</td>\n",
       "      <td>0</td>\n",
       "      <td>98178</td>\n",
       "      <td>47.5112</td>\n",
       "      <td>-122.257</td>\n",
       "      <td>1340</td>\n",
       "      <td>5650</td>\n",
       "    </tr>\n",
       "    <tr>\n",
       "      <th>1</th>\n",
       "      <td>6414100192</td>\n",
       "      <td>20141209T000000</td>\n",
       "      <td>538000.0</td>\n",
       "      <td>3</td>\n",
       "      <td>2.25</td>\n",
       "      <td>2570</td>\n",
       "      <td>7242</td>\n",
       "      <td>2.0</td>\n",
       "      <td>0</td>\n",
       "      <td>0</td>\n",
       "      <td>...</td>\n",
       "      <td>7</td>\n",
       "      <td>2170</td>\n",
       "      <td>400</td>\n",
       "      <td>1951</td>\n",
       "      <td>1991</td>\n",
       "      <td>98125</td>\n",
       "      <td>47.7210</td>\n",
       "      <td>-122.319</td>\n",
       "      <td>1690</td>\n",
       "      <td>7639</td>\n",
       "    </tr>\n",
       "    <tr>\n",
       "      <th>2</th>\n",
       "      <td>5631500400</td>\n",
       "      <td>20150225T000000</td>\n",
       "      <td>180000.0</td>\n",
       "      <td>2</td>\n",
       "      <td>1.00</td>\n",
       "      <td>770</td>\n",
       "      <td>10000</td>\n",
       "      <td>1.0</td>\n",
       "      <td>0</td>\n",
       "      <td>0</td>\n",
       "      <td>...</td>\n",
       "      <td>6</td>\n",
       "      <td>770</td>\n",
       "      <td>0</td>\n",
       "      <td>1933</td>\n",
       "      <td>0</td>\n",
       "      <td>98028</td>\n",
       "      <td>47.7379</td>\n",
       "      <td>-122.233</td>\n",
       "      <td>2720</td>\n",
       "      <td>8062</td>\n",
       "    </tr>\n",
       "    <tr>\n",
       "      <th>3</th>\n",
       "      <td>2487200875</td>\n",
       "      <td>20141209T000000</td>\n",
       "      <td>604000.0</td>\n",
       "      <td>4</td>\n",
       "      <td>3.00</td>\n",
       "      <td>1960</td>\n",
       "      <td>5000</td>\n",
       "      <td>1.0</td>\n",
       "      <td>0</td>\n",
       "      <td>0</td>\n",
       "      <td>...</td>\n",
       "      <td>7</td>\n",
       "      <td>1050</td>\n",
       "      <td>910</td>\n",
       "      <td>1965</td>\n",
       "      <td>0</td>\n",
       "      <td>98136</td>\n",
       "      <td>47.5208</td>\n",
       "      <td>-122.393</td>\n",
       "      <td>1360</td>\n",
       "      <td>5000</td>\n",
       "    </tr>\n",
       "    <tr>\n",
       "      <th>4</th>\n",
       "      <td>1954400510</td>\n",
       "      <td>20150218T000000</td>\n",
       "      <td>510000.0</td>\n",
       "      <td>3</td>\n",
       "      <td>2.00</td>\n",
       "      <td>1680</td>\n",
       "      <td>8080</td>\n",
       "      <td>1.0</td>\n",
       "      <td>0</td>\n",
       "      <td>0</td>\n",
       "      <td>...</td>\n",
       "      <td>8</td>\n",
       "      <td>1680</td>\n",
       "      <td>0</td>\n",
       "      <td>1987</td>\n",
       "      <td>0</td>\n",
       "      <td>98074</td>\n",
       "      <td>47.6168</td>\n",
       "      <td>-122.045</td>\n",
       "      <td>1800</td>\n",
       "      <td>7503</td>\n",
       "    </tr>\n",
       "  </tbody>\n",
       "</table>\n",
       "<p>5 rows × 21 columns</p>\n",
       "</div>"
      ],
      "text/plain": [
       "           id             date     price  bedrooms  bathrooms  sqft_living  \\\n",
       "0  7129300520  20141013T000000  221900.0         3       1.00         1180   \n",
       "1  6414100192  20141209T000000  538000.0         3       2.25         2570   \n",
       "2  5631500400  20150225T000000  180000.0         2       1.00          770   \n",
       "3  2487200875  20141209T000000  604000.0         4       3.00         1960   \n",
       "4  1954400510  20150218T000000  510000.0         3       2.00         1680   \n",
       "\n",
       "   sqft_lot  floors  waterfront  view  ...  grade  sqft_above  sqft_basement  \\\n",
       "0      5650     1.0           0     0  ...      7        1180              0   \n",
       "1      7242     2.0           0     0  ...      7        2170            400   \n",
       "2     10000     1.0           0     0  ...      6         770              0   \n",
       "3      5000     1.0           0     0  ...      7        1050            910   \n",
       "4      8080     1.0           0     0  ...      8        1680              0   \n",
       "\n",
       "   yr_built  yr_renovated  zipcode      lat     long  sqft_living15  \\\n",
       "0      1955             0    98178  47.5112 -122.257           1340   \n",
       "1      1951          1991    98125  47.7210 -122.319           1690   \n",
       "2      1933             0    98028  47.7379 -122.233           2720   \n",
       "3      1965             0    98136  47.5208 -122.393           1360   \n",
       "4      1987             0    98074  47.6168 -122.045           1800   \n",
       "\n",
       "   sqft_lot15  \n",
       "0        5650  \n",
       "1        7639  \n",
       "2        8062  \n",
       "3        5000  \n",
       "4        7503  \n",
       "\n",
       "[5 rows x 21 columns]"
      ]
     },
     "execution_count": 4,
     "metadata": {},
     "output_type": "execute_result"
    }
   ],
   "source": [
    "df.head()"
   ]
  },
  {
   "cell_type": "markdown",
   "id": "1a1301f7",
   "metadata": {},
   "source": [
    "Visualizando o rodapé do dataset:"
   ]
  },
  {
   "cell_type": "code",
   "execution_count": 5,
   "id": "91a5b63d",
   "metadata": {
    "execution": {
     "iopub.execute_input": "2022-01-13T13:55:14.929580Z",
     "iopub.status.busy": "2022-01-13T13:55:14.928585Z",
     "iopub.status.idle": "2022-01-13T13:55:14.962741Z",
     "shell.execute_reply": "2022-01-13T13:55:14.962741Z",
     "shell.execute_reply.started": "2022-01-13T13:55:14.929580Z"
    }
   },
   "outputs": [
    {
     "data": {
      "text/html": [
       "<div>\n",
       "<style scoped>\n",
       "    .dataframe tbody tr th:only-of-type {\n",
       "        vertical-align: middle;\n",
       "    }\n",
       "\n",
       "    .dataframe tbody tr th {\n",
       "        vertical-align: top;\n",
       "    }\n",
       "\n",
       "    .dataframe thead th {\n",
       "        text-align: right;\n",
       "    }\n",
       "</style>\n",
       "<table border=\"1\" class=\"dataframe\">\n",
       "  <thead>\n",
       "    <tr style=\"text-align: right;\">\n",
       "      <th></th>\n",
       "      <th>id</th>\n",
       "      <th>date</th>\n",
       "      <th>price</th>\n",
       "      <th>bedrooms</th>\n",
       "      <th>bathrooms</th>\n",
       "      <th>sqft_living</th>\n",
       "      <th>sqft_lot</th>\n",
       "      <th>floors</th>\n",
       "      <th>waterfront</th>\n",
       "      <th>view</th>\n",
       "      <th>...</th>\n",
       "      <th>grade</th>\n",
       "      <th>sqft_above</th>\n",
       "      <th>sqft_basement</th>\n",
       "      <th>yr_built</th>\n",
       "      <th>yr_renovated</th>\n",
       "      <th>zipcode</th>\n",
       "      <th>lat</th>\n",
       "      <th>long</th>\n",
       "      <th>sqft_living15</th>\n",
       "      <th>sqft_lot15</th>\n",
       "    </tr>\n",
       "  </thead>\n",
       "  <tbody>\n",
       "    <tr>\n",
       "      <th>21608</th>\n",
       "      <td>263000018</td>\n",
       "      <td>20140521T000000</td>\n",
       "      <td>360000.0</td>\n",
       "      <td>3</td>\n",
       "      <td>2.50</td>\n",
       "      <td>1530</td>\n",
       "      <td>1131</td>\n",
       "      <td>3.0</td>\n",
       "      <td>0</td>\n",
       "      <td>0</td>\n",
       "      <td>...</td>\n",
       "      <td>8</td>\n",
       "      <td>1530</td>\n",
       "      <td>0</td>\n",
       "      <td>2009</td>\n",
       "      <td>0</td>\n",
       "      <td>98103</td>\n",
       "      <td>47.6993</td>\n",
       "      <td>-122.346</td>\n",
       "      <td>1530</td>\n",
       "      <td>1509</td>\n",
       "    </tr>\n",
       "    <tr>\n",
       "      <th>21609</th>\n",
       "      <td>6600060120</td>\n",
       "      <td>20150223T000000</td>\n",
       "      <td>400000.0</td>\n",
       "      <td>4</td>\n",
       "      <td>2.50</td>\n",
       "      <td>2310</td>\n",
       "      <td>5813</td>\n",
       "      <td>2.0</td>\n",
       "      <td>0</td>\n",
       "      <td>0</td>\n",
       "      <td>...</td>\n",
       "      <td>8</td>\n",
       "      <td>2310</td>\n",
       "      <td>0</td>\n",
       "      <td>2014</td>\n",
       "      <td>0</td>\n",
       "      <td>98146</td>\n",
       "      <td>47.5107</td>\n",
       "      <td>-122.362</td>\n",
       "      <td>1830</td>\n",
       "      <td>7200</td>\n",
       "    </tr>\n",
       "    <tr>\n",
       "      <th>21610</th>\n",
       "      <td>1523300141</td>\n",
       "      <td>20140623T000000</td>\n",
       "      <td>402101.0</td>\n",
       "      <td>2</td>\n",
       "      <td>0.75</td>\n",
       "      <td>1020</td>\n",
       "      <td>1350</td>\n",
       "      <td>2.0</td>\n",
       "      <td>0</td>\n",
       "      <td>0</td>\n",
       "      <td>...</td>\n",
       "      <td>7</td>\n",
       "      <td>1020</td>\n",
       "      <td>0</td>\n",
       "      <td>2009</td>\n",
       "      <td>0</td>\n",
       "      <td>98144</td>\n",
       "      <td>47.5944</td>\n",
       "      <td>-122.299</td>\n",
       "      <td>1020</td>\n",
       "      <td>2007</td>\n",
       "    </tr>\n",
       "    <tr>\n",
       "      <th>21611</th>\n",
       "      <td>291310100</td>\n",
       "      <td>20150116T000000</td>\n",
       "      <td>400000.0</td>\n",
       "      <td>3</td>\n",
       "      <td>2.50</td>\n",
       "      <td>1600</td>\n",
       "      <td>2388</td>\n",
       "      <td>2.0</td>\n",
       "      <td>0</td>\n",
       "      <td>0</td>\n",
       "      <td>...</td>\n",
       "      <td>8</td>\n",
       "      <td>1600</td>\n",
       "      <td>0</td>\n",
       "      <td>2004</td>\n",
       "      <td>0</td>\n",
       "      <td>98027</td>\n",
       "      <td>47.5345</td>\n",
       "      <td>-122.069</td>\n",
       "      <td>1410</td>\n",
       "      <td>1287</td>\n",
       "    </tr>\n",
       "    <tr>\n",
       "      <th>21612</th>\n",
       "      <td>1523300157</td>\n",
       "      <td>20141015T000000</td>\n",
       "      <td>325000.0</td>\n",
       "      <td>2</td>\n",
       "      <td>0.75</td>\n",
       "      <td>1020</td>\n",
       "      <td>1076</td>\n",
       "      <td>2.0</td>\n",
       "      <td>0</td>\n",
       "      <td>0</td>\n",
       "      <td>...</td>\n",
       "      <td>7</td>\n",
       "      <td>1020</td>\n",
       "      <td>0</td>\n",
       "      <td>2008</td>\n",
       "      <td>0</td>\n",
       "      <td>98144</td>\n",
       "      <td>47.5941</td>\n",
       "      <td>-122.299</td>\n",
       "      <td>1020</td>\n",
       "      <td>1357</td>\n",
       "    </tr>\n",
       "  </tbody>\n",
       "</table>\n",
       "<p>5 rows × 21 columns</p>\n",
       "</div>"
      ],
      "text/plain": [
       "               id             date     price  bedrooms  bathrooms  \\\n",
       "21608   263000018  20140521T000000  360000.0         3       2.50   \n",
       "21609  6600060120  20150223T000000  400000.0         4       2.50   \n",
       "21610  1523300141  20140623T000000  402101.0         2       0.75   \n",
       "21611   291310100  20150116T000000  400000.0         3       2.50   \n",
       "21612  1523300157  20141015T000000  325000.0         2       0.75   \n",
       "\n",
       "       sqft_living  sqft_lot  floors  waterfront  view  ...  grade  \\\n",
       "21608         1530      1131     3.0           0     0  ...      8   \n",
       "21609         2310      5813     2.0           0     0  ...      8   \n",
       "21610         1020      1350     2.0           0     0  ...      7   \n",
       "21611         1600      2388     2.0           0     0  ...      8   \n",
       "21612         1020      1076     2.0           0     0  ...      7   \n",
       "\n",
       "       sqft_above  sqft_basement  yr_built  yr_renovated  zipcode      lat  \\\n",
       "21608        1530              0      2009             0    98103  47.6993   \n",
       "21609        2310              0      2014             0    98146  47.5107   \n",
       "21610        1020              0      2009             0    98144  47.5944   \n",
       "21611        1600              0      2004             0    98027  47.5345   \n",
       "21612        1020              0      2008             0    98144  47.5941   \n",
       "\n",
       "          long  sqft_living15  sqft_lot15  \n",
       "21608 -122.346           1530        1509  \n",
       "21609 -122.362           1830        7200  \n",
       "21610 -122.299           1020        2007  \n",
       "21611 -122.069           1410        1287  \n",
       "21612 -122.299           1020        1357  \n",
       "\n",
       "[5 rows x 21 columns]"
      ]
     },
     "execution_count": 5,
     "metadata": {},
     "output_type": "execute_result"
    }
   ],
   "source": [
    "df.tail()"
   ]
  },
  {
   "cell_type": "markdown",
   "id": "fc46a394-7ac2-4b37-98b1-57138ae28ba0",
   "metadata": {},
   "source": [
    "Visualizando a lista de colunas do dataset:"
   ]
  },
  {
   "cell_type": "code",
   "execution_count": 6,
   "id": "3cd26fe6-35f1-4373-a50e-eb9277a6145f",
   "metadata": {
    "execution": {
     "iopub.execute_input": "2022-01-13T13:55:20.083258Z",
     "iopub.status.busy": "2022-01-13T13:55:20.083258Z",
     "iopub.status.idle": "2022-01-13T13:55:20.094281Z",
     "shell.execute_reply": "2022-01-13T13:55:20.093285Z",
     "shell.execute_reply.started": "2022-01-13T13:55:20.083258Z"
    },
    "tags": []
   },
   "outputs": [
    {
     "data": {
      "text/plain": [
       "['id',\n",
       " 'date',\n",
       " 'price',\n",
       " 'bedrooms',\n",
       " 'bathrooms',\n",
       " 'sqft_living',\n",
       " 'sqft_lot',\n",
       " 'floors',\n",
       " 'waterfront',\n",
       " 'view',\n",
       " 'condition',\n",
       " 'grade',\n",
       " 'sqft_above',\n",
       " 'sqft_basement',\n",
       " 'yr_built',\n",
       " 'yr_renovated',\n",
       " 'zipcode',\n",
       " 'lat',\n",
       " 'long',\n",
       " 'sqft_living15',\n",
       " 'sqft_lot15']"
      ]
     },
     "execution_count": 6,
     "metadata": {},
     "output_type": "execute_result"
    }
   ],
   "source": [
    "df.columns.to_list()"
   ]
  },
  {
   "cell_type": "markdown",
   "id": "e76a3940-f3a1-4950-9c92-d42e8f067694",
   "metadata": {},
   "source": [
    "Visualizando os tipos das colunas do dataset:"
   ]
  },
  {
   "cell_type": "code",
   "execution_count": 7,
   "id": "bafbe710-d99f-4d53-97ef-1f5a3be34fa1",
   "metadata": {
    "execution": {
     "iopub.execute_input": "2022-01-13T13:55:43.498723Z",
     "iopub.status.busy": "2022-01-13T13:55:43.498723Z",
     "iopub.status.idle": "2022-01-13T13:55:43.525854Z",
     "shell.execute_reply": "2022-01-13T13:55:43.523430Z",
     "shell.execute_reply.started": "2022-01-13T13:55:43.498723Z"
    }
   },
   "outputs": [
    {
     "data": {
      "text/plain": [
       "id                 int64\n",
       "date              object\n",
       "price            float64\n",
       "bedrooms           int64\n",
       "bathrooms        float64\n",
       "sqft_living        int64\n",
       "sqft_lot           int64\n",
       "floors           float64\n",
       "waterfront         int64\n",
       "view               int64\n",
       "condition          int64\n",
       "grade              int64\n",
       "sqft_above         int64\n",
       "sqft_basement      int64\n",
       "yr_built           int64\n",
       "yr_renovated       int64\n",
       "zipcode            int64\n",
       "lat              float64\n",
       "long             float64\n",
       "sqft_living15      int64\n",
       "sqft_lot15         int64\n",
       "dtype: object"
      ]
     },
     "execution_count": 7,
     "metadata": {},
     "output_type": "execute_result"
    }
   ],
   "source": [
    "df.dtypes"
   ]
  },
  {
   "cell_type": "markdown",
   "id": "a94a416b",
   "metadata": {
    "toc-hr-collapsed": true
   },
   "source": [
    "## **4. As necessidades do CEO da House Rocket:**"
   ]
  },
  {
   "cell_type": "markdown",
   "id": "5d13c707",
   "metadata": {},
   "source": [
    "### 1. Quantos imóveis estão disponíveis para compra?\n",
    "  - Resposta - Contar o número de linhas do dataset."
   ]
  },
  {
   "cell_type": "code",
   "execution_count": 4,
   "id": "77f312c4",
   "metadata": {},
   "outputs": [
    {
     "data": {
      "text/plain": [
       "21613"
      ]
     },
     "execution_count": 4,
     "metadata": {},
     "output_type": "execute_result"
    }
   ],
   "source": [
    "df.shape[0]"
   ]
  },
  {
   "cell_type": "markdown",
   "id": "1666286e",
   "metadata": {},
   "source": [
    "### 2. Quantos atributos os imóveis possuem? (número de quartos, metragem, etc.)\n",
    "  - Resposta - Contar o número de colunas do dataset."
   ]
  },
  {
   "cell_type": "code",
   "execution_count": 7,
   "id": "32be4cf5",
   "metadata": {},
   "outputs": [
    {
     "data": {
      "text/plain": [
       "21"
      ]
     },
     "execution_count": 7,
     "metadata": {},
     "output_type": "execute_result"
    }
   ],
   "source": [
    "df.shape[1]"
   ]
  },
  {
   "cell_type": "markdown",
   "id": "838705e1",
   "metadata": {},
   "source": [
    "### 3. Quais são os atributos dos imóveis? (preço, número de quartos, número de banheiros, etc.)\n",
    "  - Resposta - Exibir o nome das colunas do dataset."
   ]
  },
  {
   "cell_type": "code",
   "execution_count": 9,
   "id": "f007edb1",
   "metadata": {},
   "outputs": [
    {
     "data": {
      "text/plain": [
       "['id',\n",
       " 'date',\n",
       " 'price',\n",
       " 'bedrooms',\n",
       " 'bathrooms',\n",
       " 'sqft_living',\n",
       " 'sqft_lot',\n",
       " 'floors',\n",
       " 'waterfront',\n",
       " 'view',\n",
       " 'condition',\n",
       " 'grade',\n",
       " 'sqft_above',\n",
       " 'sqft_basement',\n",
       " 'yr_built',\n",
       " 'yr_renovated',\n",
       " 'zipcode',\n",
       " 'lat',\n",
       " 'long',\n",
       " 'sqft_living15',\n",
       " 'sqft_lot15']"
      ]
     },
     "execution_count": 9,
     "metadata": {},
     "output_type": "execute_result"
    }
   ],
   "source": [
    "df.columns.tolist()\n",
    "# df.columns"
   ]
  },
  {
   "cell_type": "markdown",
   "id": "63d5a734",
   "metadata": {},
   "source": [
    "### 4. Qual o imóvel mais caro do portfólio?\n",
    "  - Resposta - Ordenar de forma descrescente as linhas do dataset pelo atributo \"price\" e exibir a primeira linha."
   ]
  },
  {
   "cell_type": "code",
   "execution_count": 153,
   "id": "9225a887",
   "metadata": {},
   "outputs": [
    {
     "data": {
      "text/html": [
       "<div>\n",
       "<style scoped>\n",
       "    .dataframe tbody tr th:only-of-type {\n",
       "        vertical-align: middle;\n",
       "    }\n",
       "\n",
       "    .dataframe tbody tr th {\n",
       "        vertical-align: top;\n",
       "    }\n",
       "\n",
       "    .dataframe thead th {\n",
       "        text-align: right;\n",
       "    }\n",
       "</style>\n",
       "<table border=\"1\" class=\"dataframe\">\n",
       "  <thead>\n",
       "    <tr style=\"text-align: right;\">\n",
       "      <th></th>\n",
       "      <th>id</th>\n",
       "      <th>date</th>\n",
       "      <th>price</th>\n",
       "      <th>bedrooms</th>\n",
       "      <th>bathrooms</th>\n",
       "      <th>sqft_living</th>\n",
       "      <th>sqft_lot</th>\n",
       "      <th>floors</th>\n",
       "      <th>waterfront</th>\n",
       "      <th>view</th>\n",
       "      <th>...</th>\n",
       "      <th>grade</th>\n",
       "      <th>sqft_above</th>\n",
       "      <th>sqft_basement</th>\n",
       "      <th>yr_built</th>\n",
       "      <th>yr_renovated</th>\n",
       "      <th>zipcode</th>\n",
       "      <th>lat</th>\n",
       "      <th>long</th>\n",
       "      <th>sqft_living15</th>\n",
       "      <th>sqft_lot15</th>\n",
       "    </tr>\n",
       "  </thead>\n",
       "  <tbody>\n",
       "    <tr>\n",
       "      <th>7252</th>\n",
       "      <td>6762700020</td>\n",
       "      <td>20141013T000000</td>\n",
       "      <td>7700000.0</td>\n",
       "      <td>6</td>\n",
       "      <td>8.0</td>\n",
       "      <td>12050</td>\n",
       "      <td>27600</td>\n",
       "      <td>2.5</td>\n",
       "      <td>0</td>\n",
       "      <td>3</td>\n",
       "      <td>...</td>\n",
       "      <td>13</td>\n",
       "      <td>8570</td>\n",
       "      <td>3480</td>\n",
       "      <td>1910</td>\n",
       "      <td>1987</td>\n",
       "      <td>98102</td>\n",
       "      <td>47.6298</td>\n",
       "      <td>-122.323</td>\n",
       "      <td>3940</td>\n",
       "      <td>8800</td>\n",
       "    </tr>\n",
       "  </tbody>\n",
       "</table>\n",
       "<p>1 rows × 21 columns</p>\n",
       "</div>"
      ],
      "text/plain": [
       "              id             date      price  bedrooms  bathrooms  \\\n",
       "7252  6762700020  20141013T000000  7700000.0         6        8.0   \n",
       "\n",
       "      sqft_living  sqft_lot  floors  waterfront  view  ...  grade  sqft_above  \\\n",
       "7252        12050     27600     2.5           0     3  ...     13        8570   \n",
       "\n",
       "      sqft_basement  yr_built  yr_renovated  zipcode      lat     long  \\\n",
       "7252           3480      1910          1987    98102  47.6298 -122.323   \n",
       "\n",
       "      sqft_living15  sqft_lot15  \n",
       "7252           3940        8800  \n",
       "\n",
       "[1 rows x 21 columns]"
      ]
     },
     "execution_count": 153,
     "metadata": {},
     "output_type": "execute_result"
    }
   ],
   "source": [
    "df[df[\"price\"] == df[\"price\"].max()]"
   ]
  },
  {
   "cell_type": "markdown",
   "id": "25836525",
   "metadata": {},
   "source": [
    "### 5. Qual o imóvel com maior número de quartos?\n",
    "  - Resposta - Ordenar de forma descrescente as linhas do dataset pelo atributo \"bedrooms\" e exibir a primeira linha."
   ]
  },
  {
   "cell_type": "code",
   "execution_count": 154,
   "id": "f21f32a1",
   "metadata": {},
   "outputs": [
    {
     "data": {
      "text/html": [
       "<div>\n",
       "<style scoped>\n",
       "    .dataframe tbody tr th:only-of-type {\n",
       "        vertical-align: middle;\n",
       "    }\n",
       "\n",
       "    .dataframe tbody tr th {\n",
       "        vertical-align: top;\n",
       "    }\n",
       "\n",
       "    .dataframe thead th {\n",
       "        text-align: right;\n",
       "    }\n",
       "</style>\n",
       "<table border=\"1\" class=\"dataframe\">\n",
       "  <thead>\n",
       "    <tr style=\"text-align: right;\">\n",
       "      <th></th>\n",
       "      <th>id</th>\n",
       "      <th>date</th>\n",
       "      <th>price</th>\n",
       "      <th>bedrooms</th>\n",
       "      <th>bathrooms</th>\n",
       "      <th>sqft_living</th>\n",
       "      <th>sqft_lot</th>\n",
       "      <th>floors</th>\n",
       "      <th>waterfront</th>\n",
       "      <th>view</th>\n",
       "      <th>...</th>\n",
       "      <th>grade</th>\n",
       "      <th>sqft_above</th>\n",
       "      <th>sqft_basement</th>\n",
       "      <th>yr_built</th>\n",
       "      <th>yr_renovated</th>\n",
       "      <th>zipcode</th>\n",
       "      <th>lat</th>\n",
       "      <th>long</th>\n",
       "      <th>sqft_living15</th>\n",
       "      <th>sqft_lot15</th>\n",
       "    </tr>\n",
       "  </thead>\n",
       "  <tbody>\n",
       "    <tr>\n",
       "      <th>15870</th>\n",
       "      <td>2402100895</td>\n",
       "      <td>20140625T000000</td>\n",
       "      <td>640000.0</td>\n",
       "      <td>33</td>\n",
       "      <td>1.75</td>\n",
       "      <td>1620</td>\n",
       "      <td>6000</td>\n",
       "      <td>1.0</td>\n",
       "      <td>0</td>\n",
       "      <td>0</td>\n",
       "      <td>...</td>\n",
       "      <td>7</td>\n",
       "      <td>1040</td>\n",
       "      <td>580</td>\n",
       "      <td>1947</td>\n",
       "      <td>0</td>\n",
       "      <td>98103</td>\n",
       "      <td>47.6878</td>\n",
       "      <td>-122.331</td>\n",
       "      <td>1330</td>\n",
       "      <td>4700</td>\n",
       "    </tr>\n",
       "  </tbody>\n",
       "</table>\n",
       "<p>1 rows × 21 columns</p>\n",
       "</div>"
      ],
      "text/plain": [
       "               id             date     price  bedrooms  bathrooms  \\\n",
       "15870  2402100895  20140625T000000  640000.0        33       1.75   \n",
       "\n",
       "       sqft_living  sqft_lot  floors  waterfront  view  ...  grade  \\\n",
       "15870         1620      6000     1.0           0     0  ...      7   \n",
       "\n",
       "       sqft_above  sqft_basement  yr_built  yr_renovated  zipcode      lat  \\\n",
       "15870        1040            580      1947             0    98103  47.6878   \n",
       "\n",
       "          long  sqft_living15  sqft_lot15  \n",
       "15870 -122.331           1330        4700  \n",
       "\n",
       "[1 rows x 21 columns]"
      ]
     },
     "execution_count": 154,
     "metadata": {},
     "output_type": "execute_result"
    }
   ],
   "source": [
    "df[df[\"bedrooms\"] == df[\"bedrooms\"].max()]"
   ]
  },
  {
   "cell_type": "markdown",
   "id": "a531eb9a",
   "metadata": {},
   "source": [
    "### 6. Qual a soma total de quartos de todos os imóveis disponíveis para compra?\n",
    "  - Resposta - Calcular o valor total do atributo \"bedrooms\"."
   ]
  },
  {
   "cell_type": "code",
   "execution_count": 155,
   "id": "f1a3f539",
   "metadata": {},
   "outputs": [
    {
     "data": {
      "text/plain": [
       "72854"
      ]
     },
     "execution_count": 155,
     "metadata": {},
     "output_type": "execute_result"
    }
   ],
   "source": [
    "df[\"bedrooms\"].sum()"
   ]
  },
  {
   "cell_type": "markdown",
   "id": "0350ea7b",
   "metadata": {},
   "source": [
    "### 7. Quantos imóveis possuem 2 banheiros?\n",
    "  - Resposta - Contar linhas do dataset onde o atributo \"bathrooms\" é igual a 2."
   ]
  },
  {
   "cell_type": "code",
   "execution_count": 19,
   "id": "092fe6e7",
   "metadata": {
    "ExecuteTime": {
     "end_time": "2022-01-08T15:10:44.233327Z",
     "start_time": "2022-01-08T15:10:44.227565Z"
    }
   },
   "outputs": [
    {
     "data": {
      "text/plain": [
       "1930"
      ]
     },
     "execution_count": 19,
     "metadata": {},
     "output_type": "execute_result"
    }
   ],
   "source": [
    "df[(df[\"bathrooms\"] == 2)].shape[0]"
   ]
  },
  {
   "cell_type": "markdown",
   "id": "ec909821",
   "metadata": {},
   "source": [
    "### 8. Qual o preço médio de todos os imóveis?\n",
    "  - Resposta - Calcular o valor médio do atributo \"price\"."
   ]
  },
  {
   "cell_type": "code",
   "execution_count": 17,
   "id": "c6159a0a",
   "metadata": {
    "ExecuteTime": {
     "end_time": "2022-01-08T15:09:40.183846Z",
     "start_time": "2022-01-08T15:09:40.165894Z"
    }
   },
   "outputs": [
    {
     "data": {
      "text/plain": [
       "540088.1417665294"
      ]
     },
     "execution_count": 17,
     "metadata": {},
     "output_type": "execute_result"
    }
   ],
   "source": [
    "df[\"price\"].mean()"
   ]
  },
  {
   "cell_type": "markdown",
   "id": "76c56ec0",
   "metadata": {},
   "source": [
    "### 9. Qual o preço médio dos imóveis com 2 banheiros?\n",
    "  - Resposta - Calcular o valor médio do atributo \"price\" nas linhas onde o atributo \"bathrooms\" é igual a 2."
   ]
  },
  {
   "cell_type": "code",
   "execution_count": 16,
   "id": "0e0f1e92",
   "metadata": {
    "ExecuteTime": {
     "end_time": "2022-01-08T15:09:14.579093Z",
     "start_time": "2022-01-08T15:09:14.565131Z"
    }
   },
   "outputs": [
    {
     "data": {
      "text/plain": [
       "457889.7186528497"
      ]
     },
     "execution_count": 16,
     "metadata": {},
     "output_type": "execute_result"
    }
   ],
   "source": [
    "df.query(\"bathrooms == 2\")[\"price\"].mean()"
   ]
  },
  {
   "cell_type": "markdown",
   "id": "30217d20",
   "metadata": {},
   "source": [
    "### 10. Qual o preço mínimo entre os imóveis com 3 quartos?\n",
    "  - Resposta - Obter o valor mínimo do atributo \"price\" nas linhas onde o atributo \"bedrooms\" é igual a 3."
   ]
  },
  {
   "cell_type": "code",
   "execution_count": 15,
   "id": "6bd67a1f",
   "metadata": {
    "ExecuteTime": {
     "end_time": "2022-01-08T15:07:57.603750Z",
     "start_time": "2022-01-08T15:07:57.583804Z"
    }
   },
   "outputs": [
    {
     "data": {
      "text/plain": [
       "82000.0"
      ]
     },
     "execution_count": 15,
     "metadata": {},
     "output_type": "execute_result"
    }
   ],
   "source": [
    "df.query(\"bedrooms == 3\")[\"price\"].min()"
   ]
  },
  {
   "cell_type": "markdown",
   "id": "a7360fed",
   "metadata": {},
   "source": [
    "### 11. Quantos imóveis possuem mais de 300 m2 na sala de estar?\n",
    "  - Resposta - Contar linhas do dataset onde o resultado do valor do atributo \"sqft_living\" dividido por 10.7639104 seja maior que 300."
   ]
  },
  {
   "cell_type": "code",
   "execution_count": 12,
   "id": "99de5196",
   "metadata": {
    "ExecuteTime": {
     "end_time": "2022-01-08T15:04:42.883500Z",
     "start_time": "2022-01-08T15:04:42.866479Z"
    }
   },
   "outputs": [
    {
     "data": {
      "text/plain": [
       "2258"
      ]
     },
     "execution_count": 12,
     "metadata": {},
     "output_type": "execute_result"
    }
   ],
   "source": [
    "df[(df[\"sqft_living\"] * 0.09290304 > 300)].shape[0]"
   ]
  },
  {
   "cell_type": "markdown",
   "id": "80e162e8",
   "metadata": {},
   "source": [
    "### 12. Quantos imóveis possuem mais de 2 andares?\n",
    "  - Resposta - Contar linhas do dataset onde o atributo \"floors\" seja maior que 2."
   ]
  },
  {
   "cell_type": "code",
   "execution_count": 11,
   "id": "df153fca",
   "metadata": {
    "ExecuteTime": {
     "end_time": "2022-01-08T15:04:14.141961Z",
     "start_time": "2022-01-08T15:04:14.131988Z"
    }
   },
   "outputs": [
    {
     "data": {
      "text/plain": [
       "782"
      ]
     },
     "execution_count": 11,
     "metadata": {},
     "output_type": "execute_result"
    }
   ],
   "source": [
    "df[(df[\"floors\"] > 2)].shape[0]"
   ]
  },
  {
   "cell_type": "markdown",
   "id": "e48e7a68",
   "metadata": {},
   "source": [
    "### 13. Quantos imóveis possuem vista para a água?\n",
    "  - Resposta - Contar linhas do dataset onde o atributo \"waterfront\" seja diferente de 0."
   ]
  },
  {
   "cell_type": "code",
   "execution_count": 10,
   "id": "c01e7696",
   "metadata": {
    "ExecuteTime": {
     "end_time": "2022-01-08T15:03:46.057193Z",
     "start_time": "2022-01-08T15:03:46.037247Z"
    }
   },
   "outputs": [
    {
     "data": {
      "text/plain": [
       "163"
      ]
     },
     "execution_count": 10,
     "metadata": {},
     "output_type": "execute_result"
    }
   ],
   "source": [
    "df[(df[\"waterfront\"] != 0)].shape[0]"
   ]
  },
  {
   "cell_type": "markdown",
   "id": "480db16c",
   "metadata": {},
   "source": [
    "### 14. Dos imóveis com vista para a água, quantos possuem 3 quartos?\n",
    "  - Resposta - Contar linhas do dataset onde o atributo \"waterfront\" seja diferente de 0 e o atributo \"bedrooms\" seja igual a 3."
   ]
  },
  {
   "cell_type": "code",
   "execution_count": 8,
   "id": "37e4d217",
   "metadata": {
    "ExecuteTime": {
     "end_time": "2022-01-08T15:03:07.067598Z",
     "start_time": "2022-01-08T15:03:07.047652Z"
    }
   },
   "outputs": [
    {
     "data": {
      "text/plain": [
       "64"
      ]
     },
     "execution_count": 8,
     "metadata": {},
     "output_type": "execute_result"
    }
   ],
   "source": [
    "df[(df[\"waterfront\"] != 0) & (df[\"bedrooms\"] == 3)].shape[0]"
   ]
  },
  {
   "cell_type": "markdown",
   "id": "9b25a8de",
   "metadata": {},
   "source": [
    "### 15. Dos imóveis com mais de 300 m2 na sala de estar, quantos possuem 3 banheiros?\n",
    "  - Resposta - Contar linhas do dataset onde o resultado do valor do atributo \"sqft_living\" dividido por 10.7639104 seja maior que 300 e o atributo \"bathrooms\" seja igual a 3."
   ]
  },
  {
   "cell_type": "code",
   "execution_count": 9,
   "id": "754a5db1",
   "metadata": {
    "ExecuteTime": {
     "end_time": "2022-01-08T15:03:19.663944Z",
     "start_time": "2022-01-08T15:03:19.652973Z"
    }
   },
   "outputs": [
    {
     "data": {
      "text/plain": [
       "185"
      ]
     },
     "execution_count": 9,
     "metadata": {},
     "output_type": "execute_result"
    }
   ],
   "source": [
    "df[(df[\"sqft_living\"] * 0.09290304 > 300) & (df[\"bathrooms\"] == 3)].shape[0]"
   ]
  }
 ],
 "metadata": {
  "kernelspec": {
   "display_name": "Python 3 (ipykernel)",
   "language": "python",
   "name": "python3"
  },
  "language_info": {
   "codemirror_mode": {
    "name": "ipython",
    "version": 3
   },
   "file_extension": ".py",
   "mimetype": "text/x-python",
   "name": "python",
   "nbconvert_exporter": "python",
   "pygments_lexer": "ipython3",
   "version": "3.9.7"
  },
  "widgets": {
   "application/vnd.jupyter.widget-state+json": {
    "state": {},
    "version_major": 2,
    "version_minor": 0
   }
  }
 },
 "nbformat": 4,
 "nbformat_minor": 5
}
