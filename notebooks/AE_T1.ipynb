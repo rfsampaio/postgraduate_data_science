{
 "cells": [
  {
   "cell_type": "markdown",
   "metadata": {},
   "source": [
    "<head>\n",
    "  <meta name=\"author\" content=\"Rogério de Oliveira\">\n",
    "  <meta institution=\"author\" content=\"Universidade Presbiteriana Mackenzie\">\n",
    "</head>\n",
    "\n",
    "<img src=\"http://meusite.mackenzie.br/rogerio/mackenzie_logo/UPM.2_horizontal_vermelho.jpg\" width=300, align=\"right\">\n",
    "<!-- <h1 align=left><font size = 6, style=\"color:rgb(200,0,0)\"> optional title </font></h1> -->"
   ]
  },
  {
   "cell_type": "markdown",
   "metadata": {},
   "source": [
    "**CURSO DE PÓS-GRADUAÇÃO EM CIÊNCIA DE DADOS (BIG DATA PROCESSING AND ANALYTICS)**<p>\n",
    "**Componente curricular:** BIG DATA ANALYTICS: ANÁLISE ESTATÍSTICA - 91162 - 2022.2 - 01D - Trilha 1.<br>\n",
    "\n",
    "**Aluno:** ROBSON DE FREITAS SAMPAIO.<br>\n",
    "\n",
    "**URL deste notebook:** https://github.com/rfsampaio/postgraduate_data_science/blob/main/notebooks/AE_T1.ipynb<br>\n",
    "***"
   ]
  },
  {
   "cell_type": "markdown",
   "metadata": {
    "id": "nyDUaSAsbDnu"
   },
   "source": [
    "### **Atividade - Trilha 1**"
   ]
  },
  {
   "cell_type": "markdown",
   "metadata": {
    "id": "FDT0TyYybDn1"
   },
   "source": [
    "A Pelican Stores, uma divisão da National Clothing, é uma cadeia de lojas de roupas femininas que opera em todos os Estados Unidos. Recentemente, a cadeia realizou uma promoção na qual cupons de desconto foram enviados aos clientes de outras lojas da National Clothing. Dados coletados para uma amostra de 100 transações de cartões de crédito nas lojas Pelican Stores durante um dia, durante a promoção, estão no arquivo \"PelicanStores.csv\". A Tabela abaixo mostra uma parte do conjunto de dados. O método de pagamento chamado \"Cartão Proprietário\" se refere a cobranças feitas utilizando um cartão de crédito da National Clothing. Os clientes que fizeram uma compra utilizando um cupom de descontos são denominados clientes promocionais e os clientes que fizeram uma compra sem utilizar um cupom de desconto são chamados clientes regulares. Como os cupons promocionais não foram enviados aos clientes Pelican Stores regulares, a administração considera as negociações feitas para pessoas apresentando cupons promocionais como vendas que, de outro modo, não teriam sido efetuadas. Naturalmente, a Pelican também espera que os clientes promocionais continuem a comprar em suas lojas.\n",
    "\n",
    "| Cliente | Tipo de Cliente | Itens | Vendas líquidas | Método de Pagamento | Gênero | Estado Civil | Idade |\n",
    "| --- | --- | --- | --- | --- | --- | --- | --- |\n",
    "| 1 | Regular | 1 | 39,5 | Discover | Masculino | Casado | 32 |\n",
    "| 2 | Promocional | 1 | 102,4 | Cartão Proprietário | Feminino | Casado | 36 |\n",
    "| 3 | Regular | 1 | 22,5 | Cartão Proprietário | Feminino | Casado | 32 |\n",
    "| 4 | Promocional | 5 | 100,4 | Cartão Proprietário | Feminino | Casado | 28 |\n",
    "| 5 | Regular | 2 | 54 | MasterCard | Feminino | Casado | 34 |\n",
    "| 6 | Regular | 1 | 44,5 | MasterCard | Feminino | Casado | 44 |\n",
    "| 7 | Promocional | 2 | 78 | Cartão Proprietário | Feminino | Casado | 30 |\n",
    "| 8 | Regular | 1 | 22,5 | Visa | Feminino | Casado | 40 |\n",
    "| 9 | Promocional | 2 | 56,52 | Cartão Proprietário | Feminino | Casado | 46 |\n",
    "| 10 | Regular | 1 | 44,5 | Cartão Proprietário | Feminino | Casado | 36 |\n",
    "| 11 | Regular | 1 | 29,5 | Cartão Proprietário | Feminino | Casado | 48 |\n",
    "\n",
    "A maioria das variáveis mostradas na tabela acima são autoexplicativas, mas duas das variáveis exigem algum esclarecimento.\n",
    "\n",
    "- Itens -- O número total de itens comprados;\n",
    "- Vendas líquidas -- A quantia total ($) cobrada pelo cartão de crédito.\n",
    "\n",
    "A administração da Pelican gostaria de utilizar esses dados amostrais para aprender a respeito do perfil de seus clientes e avaliar a promoção envolvendo cupons de desconto.\n",
    "\n",
    "Mas antes de obter estas informações, o analista precisa construir um dicionário de dados, indicando para cada variável (em um formato de tabela, com estas colunas):\n",
    "- a. Nome da Variável;\n",
    "- b. Descrição da Variável -- o que ela mede/significa;\n",
    "- c. Tipo da Variável (quantitativa, qualitativa, discreta, contínua);\n",
    "- d. Tipo de Mensuração da Variável (nominal, ordinal, intervalar ou racional);\n",
    "- e. Valores possíveis da variável.\n",
    "\n",
    "Depois de construído o dicionário de dados, determine as medidas de posição e variabilidade para as variáveis apropriadas. Para isso, utilize o conjunto de dados completo, fornecido no arquivo \"PelicanStores.csv\"."
   ]
  },
  {
   "cell_type": "markdown",
   "metadata": {},
   "source": [
    "### **Carregando bibliotecas necessárias:**"
   ]
  },
  {
   "cell_type": "code",
   "execution_count": 2,
   "metadata": {
    "vscode": {
     "languageId": "r"
    }
   },
   "outputs": [],
   "source": [
    "library(tidyverse)"
   ]
  },
  {
   "cell_type": "markdown",
   "metadata": {},
   "source": [
    "### **Resolução:**"
   ]
  },
  {
   "cell_type": "markdown",
   "metadata": {},
   "source": [
    "**Dicionário de dados do dataset \"PelicanStores.csv\":**"
   ]
  },
  {
   "cell_type": "markdown",
   "metadata": {},
   "source": [
    "| Nome da Variável | Descrição | Tipo de Variável | Tipo de Mensuração | Valores Possíveis |\n",
    "| --- | --- | --- | --- | --- |\n",
    "| Cliente | Código identificador do Cliente | Numérica. | Nominal. | De 1 a 100. |\n",
    "| Tipo de Cliente | Tipo de captação do Cliente | Categórica. | Ordinal | \"Regular\" ou \"Promocional\". |\n",
    "| Itens | O número total de itens comprados | Numérica. | Razão. | 1 a 17. |\n",
    "| Vendas Líquidas  | A quantia total ($) cobrada pelo cartão de crédito | Numérica. | Razão. | 13,23 a 287,59. |\n",
    "| Método de Pagamento | Método de Pagamento utilizado pelo Cliente | Categórica. | Ordinal | \"Cartao Proprietario\", \"Discover\", \"American Express\", \"MasterCard\" e \"Visa\". |\n",
    "| Gênero | Gênero do Cliente | Categórica. | Ordinal | \"Masculino\" ou \"Feminino\". |\n",
    "| Estado Civil | Estado Civil do Cliente | Categórica. | Ordinal | \"Casado\" ou \"Solteiro\". |\n",
    "| Idade | Idade do Cliente | Numérica. | Razão. | De 20 a 78. |"
   ]
  },
  {
   "cell_type": "markdown",
   "metadata": {},
   "source": [
    "**Carregamento dos dados do dataset \"PelicanStores.csv\":**"
   ]
  },
  {
   "cell_type": "code",
   "execution_count": 3,
   "metadata": {
    "vscode": {
     "languageId": "r"
    }
   },
   "outputs": [
    {
     "name": "stdout",
     "output_type": "stream",
     "text": [
      "'data.frame':\t100 obs. of  8 variables:\n",
      " $ Cliente            : int  1 2 3 4 5 6 7 8 9 10 ...\n",
      " $ Tipo.de.Cliente    : chr  \"Regular\" \"Promocional\" \"Regular\" \"Promocional\" ...\n",
      " $ Itens              : int  1 1 1 5 2 1 2 1 2 1 ...\n",
      " $ Vendas.Liquidas    : num  39.5 102.4 22.5 100.4 54 ...\n",
      " $ Metodo.de.Pagamento: chr  \"Discover\" \"Cartao Proprietario\" \"Cartao Proprietario\" \"Cartao Proprietario\" ...\n",
      " $ Genero             : chr  \"Masculino\" \"Feminino\" \"Feminino\" \"Feminino\" ...\n",
      " $ Estado.Civil       : chr  \"Casado\" \"Casado\" \"Casado\" \"Casado\" ...\n",
      " $ Idade              : int  32 36 32 28 34 44 30 40 46 36 ...\n"
     ]
    }
   ],
   "source": [
    "# definindo o diretório de datasets\n",
    "setwd('../data')\n",
    "\n",
    "# lendo o dataset\n",
    "pelican <- read.csv('PelicanStores.csv', sep=',', header=T)\n",
    "\n",
    "# verificando a estrutura do dataset\n",
    "str(pelican)"
   ]
  },
  {
   "cell_type": "code",
   "execution_count": 4,
   "metadata": {
    "vscode": {
     "languageId": "r"
    }
   },
   "outputs": [
    {
     "data": {
      "text/html": [
       "<table class=\"dataframe\">\n",
       "<caption>A data.frame: 11 × 8</caption>\n",
       "<thead>\n",
       "\t<tr><th></th><th scope=col>Cliente</th><th scope=col>Tipo.de.Cliente</th><th scope=col>Itens</th><th scope=col>Vendas.Liquidas</th><th scope=col>Metodo.de.Pagamento</th><th scope=col>Genero</th><th scope=col>Estado.Civil</th><th scope=col>Idade</th></tr>\n",
       "\t<tr><th></th><th scope=col>&lt;int&gt;</th><th scope=col>&lt;chr&gt;</th><th scope=col>&lt;int&gt;</th><th scope=col>&lt;dbl&gt;</th><th scope=col>&lt;chr&gt;</th><th scope=col>&lt;chr&gt;</th><th scope=col>&lt;chr&gt;</th><th scope=col>&lt;int&gt;</th></tr>\n",
       "</thead>\n",
       "<tbody>\n",
       "\t<tr><th scope=row>1</th><td> 1</td><td>Regular    </td><td>1</td><td> 39.50</td><td>Discover           </td><td>Masculino</td><td>Casado</td><td>32</td></tr>\n",
       "\t<tr><th scope=row>2</th><td> 2</td><td>Promocional</td><td>1</td><td>102.40</td><td>Cartao Proprietario</td><td>Feminino </td><td>Casado</td><td>36</td></tr>\n",
       "\t<tr><th scope=row>3</th><td> 3</td><td>Regular    </td><td>1</td><td> 22.50</td><td>Cartao Proprietario</td><td>Feminino </td><td>Casado</td><td>32</td></tr>\n",
       "\t<tr><th scope=row>4</th><td> 4</td><td>Promocional</td><td>5</td><td>100.40</td><td>Cartao Proprietario</td><td>Feminino </td><td>Casado</td><td>28</td></tr>\n",
       "\t<tr><th scope=row>5</th><td> 5</td><td>Regular    </td><td>2</td><td> 54.00</td><td>MasterCard         </td><td>Feminino </td><td>Casado</td><td>34</td></tr>\n",
       "\t<tr><th scope=row>6</th><td> 6</td><td>Regular    </td><td>1</td><td> 44.50</td><td>MasterCard         </td><td>Feminino </td><td>Casado</td><td>44</td></tr>\n",
       "\t<tr><th scope=row>7</th><td> 7</td><td>Promocional</td><td>2</td><td> 78.00</td><td>Cartao Proprietario</td><td>Feminino </td><td>Casado</td><td>30</td></tr>\n",
       "\t<tr><th scope=row>8</th><td> 8</td><td>Regular    </td><td>1</td><td> 22.50</td><td>Visa               </td><td>Feminino </td><td>Casado</td><td>40</td></tr>\n",
       "\t<tr><th scope=row>9</th><td> 9</td><td>Promocional</td><td>2</td><td> 56.52</td><td>Cartao Proprietario</td><td>Feminino </td><td>Casado</td><td>46</td></tr>\n",
       "\t<tr><th scope=row>10</th><td>10</td><td>Regular    </td><td>1</td><td> 44.50</td><td>Cartao Proprietario</td><td>Feminino </td><td>Casado</td><td>36</td></tr>\n",
       "\t<tr><th scope=row>11</th><td>11</td><td>Regular    </td><td>1</td><td> 29.50</td><td>Cartao Proprietario</td><td>Feminino </td><td>Casado</td><td>48</td></tr>\n",
       "</tbody>\n",
       "</table>\n"
      ],
      "text/latex": [
       "A data.frame: 11 × 8\n",
       "\\begin{tabular}{r|llllllll}\n",
       "  & Cliente & Tipo.de.Cliente & Itens & Vendas.Liquidas & Metodo.de.Pagamento & Genero & Estado.Civil & Idade\\\\\n",
       "  & <int> & <chr> & <int> & <dbl> & <chr> & <chr> & <chr> & <int>\\\\\n",
       "\\hline\n",
       "\t1 &  1 & Regular     & 1 &  39.50 & Discover            & Masculino & Casado & 32\\\\\n",
       "\t2 &  2 & Promocional & 1 & 102.40 & Cartao Proprietario & Feminino  & Casado & 36\\\\\n",
       "\t3 &  3 & Regular     & 1 &  22.50 & Cartao Proprietario & Feminino  & Casado & 32\\\\\n",
       "\t4 &  4 & Promocional & 5 & 100.40 & Cartao Proprietario & Feminino  & Casado & 28\\\\\n",
       "\t5 &  5 & Regular     & 2 &  54.00 & MasterCard          & Feminino  & Casado & 34\\\\\n",
       "\t6 &  6 & Regular     & 1 &  44.50 & MasterCard          & Feminino  & Casado & 44\\\\\n",
       "\t7 &  7 & Promocional & 2 &  78.00 & Cartao Proprietario & Feminino  & Casado & 30\\\\\n",
       "\t8 &  8 & Regular     & 1 &  22.50 & Visa                & Feminino  & Casado & 40\\\\\n",
       "\t9 &  9 & Promocional & 2 &  56.52 & Cartao Proprietario & Feminino  & Casado & 46\\\\\n",
       "\t10 & 10 & Regular     & 1 &  44.50 & Cartao Proprietario & Feminino  & Casado & 36\\\\\n",
       "\t11 & 11 & Regular     & 1 &  29.50 & Cartao Proprietario & Feminino  & Casado & 48\\\\\n",
       "\\end{tabular}\n"
      ],
      "text/markdown": [
       "\n",
       "A data.frame: 11 × 8\n",
       "\n",
       "| <!--/--> | Cliente &lt;int&gt; | Tipo.de.Cliente &lt;chr&gt; | Itens &lt;int&gt; | Vendas.Liquidas &lt;dbl&gt; | Metodo.de.Pagamento &lt;chr&gt; | Genero &lt;chr&gt; | Estado.Civil &lt;chr&gt; | Idade &lt;int&gt; |\n",
       "|---|---|---|---|---|---|---|---|---|\n",
       "| 1 |  1 | Regular     | 1 |  39.50 | Discover            | Masculino | Casado | 32 |\n",
       "| 2 |  2 | Promocional | 1 | 102.40 | Cartao Proprietario | Feminino  | Casado | 36 |\n",
       "| 3 |  3 | Regular     | 1 |  22.50 | Cartao Proprietario | Feminino  | Casado | 32 |\n",
       "| 4 |  4 | Promocional | 5 | 100.40 | Cartao Proprietario | Feminino  | Casado | 28 |\n",
       "| 5 |  5 | Regular     | 2 |  54.00 | MasterCard          | Feminino  | Casado | 34 |\n",
       "| 6 |  6 | Regular     | 1 |  44.50 | MasterCard          | Feminino  | Casado | 44 |\n",
       "| 7 |  7 | Promocional | 2 |  78.00 | Cartao Proprietario | Feminino  | Casado | 30 |\n",
       "| 8 |  8 | Regular     | 1 |  22.50 | Visa                | Feminino  | Casado | 40 |\n",
       "| 9 |  9 | Promocional | 2 |  56.52 | Cartao Proprietario | Feminino  | Casado | 46 |\n",
       "| 10 | 10 | Regular     | 1 |  44.50 | Cartao Proprietario | Feminino  | Casado | 36 |\n",
       "| 11 | 11 | Regular     | 1 |  29.50 | Cartao Proprietario | Feminino  | Casado | 48 |\n",
       "\n"
      ],
      "text/plain": [
       "   Cliente Tipo.de.Cliente Itens Vendas.Liquidas Metodo.de.Pagamento Genero   \n",
       "1   1      Regular         1      39.50          Discover            Masculino\n",
       "2   2      Promocional     1     102.40          Cartao Proprietario Feminino \n",
       "3   3      Regular         1      22.50          Cartao Proprietario Feminino \n",
       "4   4      Promocional     5     100.40          Cartao Proprietario Feminino \n",
       "5   5      Regular         2      54.00          MasterCard          Feminino \n",
       "6   6      Regular         1      44.50          MasterCard          Feminino \n",
       "7   7      Promocional     2      78.00          Cartao Proprietario Feminino \n",
       "8   8      Regular         1      22.50          Visa                Feminino \n",
       "9   9      Promocional     2      56.52          Cartao Proprietario Feminino \n",
       "10 10      Regular         1      44.50          Cartao Proprietario Feminino \n",
       "11 11      Regular         1      29.50          Cartao Proprietario Feminino \n",
       "   Estado.Civil Idade\n",
       "1  Casado       32   \n",
       "2  Casado       36   \n",
       "3  Casado       32   \n",
       "4  Casado       28   \n",
       "5  Casado       34   \n",
       "6  Casado       44   \n",
       "7  Casado       30   \n",
       "8  Casado       40   \n",
       "9  Casado       46   \n",
       "10 Casado       36   \n",
       "11 Casado       48   "
      ]
     },
     "metadata": {},
     "output_type": "display_data"
    }
   ],
   "source": [
    "# verificando o início do dataset\n",
    "head(pelican, 11)"
   ]
  },
  {
   "cell_type": "code",
   "execution_count": 5,
   "metadata": {
    "vscode": {
     "languageId": "r"
    }
   },
   "outputs": [
    {
     "data": {
      "text/html": [
       "<table class=\"dataframe\">\n",
       "<caption>A data.frame: 11 × 8</caption>\n",
       "<thead>\n",
       "\t<tr><th></th><th scope=col>Cliente</th><th scope=col>Tipo.de.Cliente</th><th scope=col>Itens</th><th scope=col>Vendas.Liquidas</th><th scope=col>Metodo.de.Pagamento</th><th scope=col>Genero</th><th scope=col>Estado.Civil</th><th scope=col>Idade</th></tr>\n",
       "\t<tr><th></th><th scope=col>&lt;int&gt;</th><th scope=col>&lt;chr&gt;</th><th scope=col>&lt;int&gt;</th><th scope=col>&lt;dbl&gt;</th><th scope=col>&lt;chr&gt;</th><th scope=col>&lt;chr&gt;</th><th scope=col>&lt;chr&gt;</th><th scope=col>&lt;int&gt;</th></tr>\n",
       "</thead>\n",
       "<tbody>\n",
       "\t<tr><th scope=row>90</th><td> 90</td><td>Promocional</td><td> 6</td><td> 57.60</td><td>Cartao Proprietario</td><td>Feminino</td><td>Casado</td><td>42</td></tr>\n",
       "\t<tr><th scope=row>91</th><td> 91</td><td>Promocional</td><td> 4</td><td> 95.20</td><td>Cartao Proprietario</td><td>Feminino</td><td>Casado</td><td>54</td></tr>\n",
       "\t<tr><th scope=row>92</th><td> 92</td><td>Promocional</td><td> 1</td><td> 22.42</td><td>Cartao Proprietario</td><td>Feminino</td><td>Casado</td><td>54</td></tr>\n",
       "\t<tr><th scope=row>93</th><td> 93</td><td>Regular    </td><td> 5</td><td>159.75</td><td>Cartao Proprietario</td><td>Feminino</td><td>Casado</td><td>72</td></tr>\n",
       "\t<tr><th scope=row>94</th><td> 94</td><td>Promocional</td><td>17</td><td>229.50</td><td>Cartao Proprietario</td><td>Feminino</td><td>Casado</td><td>30</td></tr>\n",
       "\t<tr><th scope=row>95</th><td> 95</td><td>Regular    </td><td> 3</td><td> 66.00</td><td>American Express   </td><td>Feminino</td><td>Casado</td><td>46</td></tr>\n",
       "\t<tr><th scope=row>96</th><td> 96</td><td>Regular    </td><td> 1</td><td> 39.50</td><td>MasterCard         </td><td>Feminino</td><td>Casado</td><td>44</td></tr>\n",
       "\t<tr><th scope=row>97</th><td> 97</td><td>Promocional</td><td> 9</td><td>253.00</td><td>Cartao Proprietario</td><td>Feminino</td><td>Casado</td><td>30</td></tr>\n",
       "\t<tr><th scope=row>98</th><td> 98</td><td>Promocional</td><td>10</td><td>287.59</td><td>Cartao Proprietario</td><td>Feminino</td><td>Casado</td><td>52</td></tr>\n",
       "\t<tr><th scope=row>99</th><td> 99</td><td>Promocional</td><td> 2</td><td> 47.60</td><td>Cartao Proprietario</td><td>Feminino</td><td>Casado</td><td>30</td></tr>\n",
       "\t<tr><th scope=row>100</th><td>100</td><td>Promocional</td><td> 1</td><td> 28.44</td><td>Cartao Proprietario</td><td>Feminino</td><td>Casado</td><td>44</td></tr>\n",
       "</tbody>\n",
       "</table>\n"
      ],
      "text/latex": [
       "A data.frame: 11 × 8\n",
       "\\begin{tabular}{r|llllllll}\n",
       "  & Cliente & Tipo.de.Cliente & Itens & Vendas.Liquidas & Metodo.de.Pagamento & Genero & Estado.Civil & Idade\\\\\n",
       "  & <int> & <chr> & <int> & <dbl> & <chr> & <chr> & <chr> & <int>\\\\\n",
       "\\hline\n",
       "\t90 &  90 & Promocional &  6 &  57.60 & Cartao Proprietario & Feminino & Casado & 42\\\\\n",
       "\t91 &  91 & Promocional &  4 &  95.20 & Cartao Proprietario & Feminino & Casado & 54\\\\\n",
       "\t92 &  92 & Promocional &  1 &  22.42 & Cartao Proprietario & Feminino & Casado & 54\\\\\n",
       "\t93 &  93 & Regular     &  5 & 159.75 & Cartao Proprietario & Feminino & Casado & 72\\\\\n",
       "\t94 &  94 & Promocional & 17 & 229.50 & Cartao Proprietario & Feminino & Casado & 30\\\\\n",
       "\t95 &  95 & Regular     &  3 &  66.00 & American Express    & Feminino & Casado & 46\\\\\n",
       "\t96 &  96 & Regular     &  1 &  39.50 & MasterCard          & Feminino & Casado & 44\\\\\n",
       "\t97 &  97 & Promocional &  9 & 253.00 & Cartao Proprietario & Feminino & Casado & 30\\\\\n",
       "\t98 &  98 & Promocional & 10 & 287.59 & Cartao Proprietario & Feminino & Casado & 52\\\\\n",
       "\t99 &  99 & Promocional &  2 &  47.60 & Cartao Proprietario & Feminino & Casado & 30\\\\\n",
       "\t100 & 100 & Promocional &  1 &  28.44 & Cartao Proprietario & Feminino & Casado & 44\\\\\n",
       "\\end{tabular}\n"
      ],
      "text/markdown": [
       "\n",
       "A data.frame: 11 × 8\n",
       "\n",
       "| <!--/--> | Cliente &lt;int&gt; | Tipo.de.Cliente &lt;chr&gt; | Itens &lt;int&gt; | Vendas.Liquidas &lt;dbl&gt; | Metodo.de.Pagamento &lt;chr&gt; | Genero &lt;chr&gt; | Estado.Civil &lt;chr&gt; | Idade &lt;int&gt; |\n",
       "|---|---|---|---|---|---|---|---|---|\n",
       "| 90 |  90 | Promocional |  6 |  57.60 | Cartao Proprietario | Feminino | Casado | 42 |\n",
       "| 91 |  91 | Promocional |  4 |  95.20 | Cartao Proprietario | Feminino | Casado | 54 |\n",
       "| 92 |  92 | Promocional |  1 |  22.42 | Cartao Proprietario | Feminino | Casado | 54 |\n",
       "| 93 |  93 | Regular     |  5 | 159.75 | Cartao Proprietario | Feminino | Casado | 72 |\n",
       "| 94 |  94 | Promocional | 17 | 229.50 | Cartao Proprietario | Feminino | Casado | 30 |\n",
       "| 95 |  95 | Regular     |  3 |  66.00 | American Express    | Feminino | Casado | 46 |\n",
       "| 96 |  96 | Regular     |  1 |  39.50 | MasterCard          | Feminino | Casado | 44 |\n",
       "| 97 |  97 | Promocional |  9 | 253.00 | Cartao Proprietario | Feminino | Casado | 30 |\n",
       "| 98 |  98 | Promocional | 10 | 287.59 | Cartao Proprietario | Feminino | Casado | 52 |\n",
       "| 99 |  99 | Promocional |  2 |  47.60 | Cartao Proprietario | Feminino | Casado | 30 |\n",
       "| 100 | 100 | Promocional |  1 |  28.44 | Cartao Proprietario | Feminino | Casado | 44 |\n",
       "\n"
      ],
      "text/plain": [
       "    Cliente Tipo.de.Cliente Itens Vendas.Liquidas Metodo.de.Pagamento Genero  \n",
       "90   90     Promocional      6     57.60          Cartao Proprietario Feminino\n",
       "91   91     Promocional      4     95.20          Cartao Proprietario Feminino\n",
       "92   92     Promocional      1     22.42          Cartao Proprietario Feminino\n",
       "93   93     Regular          5    159.75          Cartao Proprietario Feminino\n",
       "94   94     Promocional     17    229.50          Cartao Proprietario Feminino\n",
       "95   95     Regular          3     66.00          American Express    Feminino\n",
       "96   96     Regular          1     39.50          MasterCard          Feminino\n",
       "97   97     Promocional      9    253.00          Cartao Proprietario Feminino\n",
       "98   98     Promocional     10    287.59          Cartao Proprietario Feminino\n",
       "99   99     Promocional      2     47.60          Cartao Proprietario Feminino\n",
       "100 100     Promocional      1     28.44          Cartao Proprietario Feminino\n",
       "    Estado.Civil Idade\n",
       "90  Casado       42   \n",
       "91  Casado       54   \n",
       "92  Casado       54   \n",
       "93  Casado       72   \n",
       "94  Casado       30   \n",
       "95  Casado       46   \n",
       "96  Casado       44   \n",
       "97  Casado       30   \n",
       "98  Casado       52   \n",
       "99  Casado       30   \n",
       "100 Casado       44   "
      ]
     },
     "metadata": {},
     "output_type": "display_data"
    }
   ],
   "source": [
    "# verificando o final do dataset\n",
    "tail(pelican, 11)"
   ]
  },
  {
   "cell_type": "code",
   "execution_count": 6,
   "metadata": {
    "vscode": {
     "languageId": "r"
    }
   },
   "outputs": [
    {
     "data": {
      "text/plain": [
       "\n",
       "   American Express            Discover                Visa          MasterCard \n",
       "                  2                   4                  10                  14 \n",
       "Cartao Proprietario \n",
       "                 70 "
      ]
     },
     "metadata": {},
     "output_type": "display_data"
    }
   ],
   "source": [
    "# obtendo os valores possíveis para a variável \"Metodo de Pagamento\"\n",
    "tab <- table(pelican$Metodo.de.Pagamento)\n",
    "\n",
    "# ordenando os valores de forma ascendente\n",
    "tab[order(tab)]"
   ]
  },
  {
   "cell_type": "markdown",
   "metadata": {},
   "source": [
    "**Determinando as medidas de posição para as variáveis \"Itens\", \"Vendas.Liquidas\" e \"Idade\":**"
   ]
  },
  {
   "cell_type": "code",
   "execution_count": 7,
   "metadata": {
    "vscode": {
     "languageId": "r"
    }
   },
   "outputs": [
    {
     "data": {
      "text/html": [
       "<table class=\"dataframe\">\n",
       "<caption>A data.frame: 3 × 3</caption>\n",
       "<thead>\n",
       "\t<tr><th></th><th scope=col>media</th><th scope=col>mediana</th><th scope=col>moda</th></tr>\n",
       "\t<tr><th></th><th scope=col>&lt;dbl&gt;</th><th scope=col>&lt;dbl&gt;</th><th scope=col>&lt;dbl&gt;</th></tr>\n",
       "</thead>\n",
       "<tbody>\n",
       "\t<tr><th scope=row>Itens</th><td> 3.2200</td><td> 2.000</td><td> 1.0</td></tr>\n",
       "\t<tr><th scope=row>Vendas.Liquidas</th><td>77.6005</td><td>59.705</td><td>31.6</td></tr>\n",
       "\t<tr><th scope=row>Idade</th><td>43.0800</td><td>42.000</td><td>46.0</td></tr>\n",
       "</tbody>\n",
       "</table>\n"
      ],
      "text/latex": [
       "A data.frame: 3 × 3\n",
       "\\begin{tabular}{r|lll}\n",
       "  & media & mediana & moda\\\\\n",
       "  & <dbl> & <dbl> & <dbl>\\\\\n",
       "\\hline\n",
       "\tItens &  3.2200 &  2.000 &  1.0\\\\\n",
       "\tVendas.Liquidas & 77.6005 & 59.705 & 31.6\\\\\n",
       "\tIdade & 43.0800 & 42.000 & 46.0\\\\\n",
       "\\end{tabular}\n"
      ],
      "text/markdown": [
       "\n",
       "A data.frame: 3 × 3\n",
       "\n",
       "| <!--/--> | media &lt;dbl&gt; | mediana &lt;dbl&gt; | moda &lt;dbl&gt; |\n",
       "|---|---|---|---|\n",
       "| Itens |  3.2200 |  2.000 |  1.0 |\n",
       "| Vendas.Liquidas | 77.6005 | 59.705 | 31.6 |\n",
       "| Idade | 43.0800 | 42.000 | 46.0 |\n",
       "\n"
      ],
      "text/plain": [
       "                media   mediana moda\n",
       "Itens            3.2200  2.000   1.0\n",
       "Vendas.Liquidas 77.6005 59.705  31.6\n",
       "Idade           43.0800 42.000  46.0"
      ]
     },
     "metadata": {},
     "output_type": "display_data"
    }
   ],
   "source": [
    "# definindo quais variáveis serão utilizadas para os cálculos:\n",
    "# Itens = 3, Vendas.Liquidas = 4 e Idade = 8\n",
    "cols <- c(3, 4, 8)\n",
    "\n",
    "# função para calcular a moda\n",
    "getmode <- function(v) {\n",
    "  uniqv <- unique(v)\n",
    "  uniqv[which.max(tabulate(match(v, uniqv)))]\n",
    "}\n",
    "\n",
    "# criando um dataframe para os resultados de posição\n",
    "df_posicao <- data.frame(\n",
    "                  media = apply(pelican[,cols], 2, mean),\n",
    "                  mediana = apply(pelican[,cols], 2, median),\n",
    "                  moda = apply(pelican[,cols], 2, getmode))\n",
    "df_posicao"
   ]
  },
  {
   "cell_type": "markdown",
   "metadata": {},
   "source": [
    "**Determinando as medidas de variabilidade para as variáveis \"Itens\", \"Vendas.Liquidas\" e \"Idade\":**"
   ]
  },
  {
   "cell_type": "code",
   "execution_count": 8,
   "metadata": {
    "vscode": {
     "languageId": "r"
    }
   },
   "outputs": [
    {
     "data": {
      "text/html": [
       "<table class=\"dataframe\">\n",
       "<caption>A data.frame: 3 × 2</caption>\n",
       "<thead>\n",
       "\t<tr><th></th><th scope=col>variancia</th><th scope=col>desvio.padrao</th></tr>\n",
       "\t<tr><th></th><th scope=col>&lt;dbl&gt;</th><th scope=col>&lt;dbl&gt;</th></tr>\n",
       "</thead>\n",
       "<tbody>\n",
       "\t<tr><th scope=row>Itens</th><td>   7.486465</td><td> 2.73614</td></tr>\n",
       "\t<tr><th scope=row>Vendas.Liquidas</th><td>3098.585370</td><td>55.66494</td></tr>\n",
       "\t<tr><th scope=row>Idade</th><td> 153.488485</td><td>12.38905</td></tr>\n",
       "</tbody>\n",
       "</table>\n"
      ],
      "text/latex": [
       "A data.frame: 3 × 2\n",
       "\\begin{tabular}{r|ll}\n",
       "  & variancia & desvio.padrao\\\\\n",
       "  & <dbl> & <dbl>\\\\\n",
       "\\hline\n",
       "\tItens &    7.486465 &  2.73614\\\\\n",
       "\tVendas.Liquidas & 3098.585370 & 55.66494\\\\\n",
       "\tIdade &  153.488485 & 12.38905\\\\\n",
       "\\end{tabular}\n"
      ],
      "text/markdown": [
       "\n",
       "A data.frame: 3 × 2\n",
       "\n",
       "| <!--/--> | variancia &lt;dbl&gt; | desvio.padrao &lt;dbl&gt; |\n",
       "|---|---|---|\n",
       "| Itens |    7.486465 |  2.73614 |\n",
       "| Vendas.Liquidas | 3098.585370 | 55.66494 |\n",
       "| Idade |  153.488485 | 12.38905 |\n",
       "\n"
      ],
      "text/plain": [
       "                variancia   desvio.padrao\n",
       "Itens              7.486465  2.73614     \n",
       "Vendas.Liquidas 3098.585370 55.66494     \n",
       "Idade            153.488485 12.38905     "
      ]
     },
     "metadata": {},
     "output_type": "display_data"
    }
   ],
   "source": [
    "# criando um dataframe para os resultados de dispersão\n",
    "df_dispersao <- data.frame(\n",
    "                    variancia = apply(pelican[,cols], 2, var),\n",
    "                    desvio.padrao = apply(pelican[,cols], 2, sd))\n",
    "df_dispersao"
   ]
  }
 ],
 "metadata": {
  "colab": {
   "name": "Trilha7_ExercicioAprofundamento.ipynb",
   "provenance": []
  },
  "kernelspec": {
   "display_name": "R",
   "language": "R",
   "name": "ir"
  },
  "language_info": {
   "codemirror_mode": "r",
   "file_extension": ".r",
   "mimetype": "text/x-r-source",
   "name": "R",
   "pygments_lexer": "r",
   "version": "4.2.0"
  },
  "toc": {
   "base_numbering": 1,
   "nav_menu": {},
   "number_sections": true,
   "sideBar": true,
   "skip_h1_title": false,
   "title_cell": "Table of Contents",
   "title_sidebar": "Contents",
   "toc_cell": false,
   "toc_position": {},
   "toc_section_display": true,
   "toc_window_display": false
  },
  "vscode": {
   "interpreter": {
    "hash": "37ed6dae9db4498ef1a8e176fbcebe5d295d56bee001a8e3185c66917fbe56fb"
   }
  }
 },
 "nbformat": 4,
 "nbformat_minor": 1
}
