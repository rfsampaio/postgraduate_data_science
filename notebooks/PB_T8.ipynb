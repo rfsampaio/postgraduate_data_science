{
 "cells": [
  {
   "cell_type": "markdown",
   "metadata": {},
   "source": [
    "<head>\n",
    "  <meta name=\"author\" content=\"Rogério de Oliveira\">\n",
    "  <meta institution=\"author\" content=\"Universidade Presbiteriana Mackenzie\">\n",
    "</head>\n",
    "\n",
    "<img src=\"http://meusite.mackenzie.br/rogerio/mackenzie_logo/UPM.2_horizontal_vermelho.jpg\" width=300, align=\"right\">\n",
    "<!-- <h1 align=left><font size = 6, style=\"color:rgb(200,0,0)\"> optional title </font></h1> -->"
   ]
  },
  {
   "cell_type": "markdown",
   "metadata": {},
   "source": [
    "**CURSO DE PÓS-GRADUAÇÃO EM CIÊNCIA DE DADOS (BIG DATA PROCESSING AND ANALYTICS)**<p>\n",
    "**Componente curricular:** PROCESSAMENTO E BIG DATA - O PROCESSING EM UMA VISÃO PRÁTICA - 2022.2 - 01D - Trilha 8.<br>\n",
    "\n",
    "**Aluno:** ROBSON DE FREITAS SAMPAIO.<br>\n",
    "\n",
    "**URL deste notebook:** https://github.com/rfsampaio/postgraduate_data_science/blob/main/notebooks/PB_T8.ipynb<br>\n",
    "***"
   ]
  },
  {
   "cell_type": "markdown",
   "metadata": {
    "id": "nyDUaSAsbDnu"
   },
   "source": [
    "### **Atividade - Trilha 8**"
   ]
  },
  {
   "cell_type": "markdown",
   "metadata": {
    "id": "FDT0TyYybDn1"
   },
   "source": [
    "O objetivo dessa atividade de aprofundamento é trabalhar com o **\"PySpark\"**. Ela é composta por duas questões, na primeira você deve manipular um arquivo de texto e na segunda você trabalhará com um arquivo CSV. \n",
    "\n",
    "#### **Questão 1 - Trabalhando com arquivo de texto**"
   ]
  },
  {
   "cell_type": "markdown",
   "metadata": {},
   "source": [
    "Você utilizará o arquivo \"python_conceito.txt\". Para baixar esse arquivo acesse: https://drive.google.com/open?id=1rfnz97W6-BOm7iAQbmxL5KKIfY5BTOGC\n",
    "\n",
    "Salve o arquivo em uma pasta local, em seguida responda as seguintes questões utilizando o \"PySpark\":"
   ]
  },
  {
   "cell_type": "markdown",
   "metadata": {},
   "source": [
    "a) Quantas linhas tem o arquivo?"
   ]
  },
  {
   "cell_type": "markdown",
   "metadata": {},
   "source": [
    "```\n",
    "# criando o RDD\n",
    ">>> rdd_numeros = sc.parallelize([11,2, 5, 6, 8, 7, 9 ,13, 14]) \n",
    "\n",
    "# carregando o arquivo texto\n",
    ">>> txt = sc.textFile('file:///home/cloudera/testspark/python_conceito.txt')\n",
    "\n",
    "# contando quantas linhas têm o arquivo texto carregado\n",
    ">>> txt.count()\n",
    "7\n",
    "```"
   ]
  },
  {
   "cell_type": "markdown",
   "metadata": {},
   "source": [
    "b) Exiba todas as linhas que contém a palavra Python."
   ]
  },
  {
   "cell_type": "markdown",
   "metadata": {},
   "source": [
    "```\n",
    ">>> lines = txt.filter(lambda line: 'Python')\n",
    ">>> data = lines.collect()\n",
    ">>> for row in data:\n",
    "     print(row)\n",
    "     \n",
    "Python é uma linguagem de programação de alto nível,[5] interpretada, de script, imperativa, orientada a objetos, funcional, de tipagem dinâmica e forte.\n",
    "Foi lançada por Guido van Rossum em 1991.[1] Atualmente possui um modelo de desenvolvimento comunitário, aberto e gerenciado pela organização sem fins lucrativos Python Software Foundation.\n",
    "Apesar de várias partes da linguagem possuírem padrões e especificações formais, a linguagem como um todo não é formalmente especificada.\n",
    "A linguagem foi projetada com a filosofia de enfatizar a importância do esforço do programador sobre o esforço computacional. Prioriza a legibilidade do código sobre a velocidade ou expressividade. Combina uma sintaxe concisa e clara com os recursos poderosos de sua biblioteca padrão e por módulos e frameworks desenvolvidos por terceiros.\n",
    "Python é uma linguagem de propósito geral de alto nível, multiparadigma, suporta o paradigma orientado a objetos, imperativo, funcional e procedural.\n",
    "O nome Python teve a sua origem no grupo humorístico britânico Monty Python,[8] criador do programa Monty Python's Flying Circus, embora muitas pessoas façam associação com o réptil do mesmo nome (em português, píton ou pitão).\n",
    "Fonte: https://pt.wikipedia.org/wiki/Python\n",
    "```\n"
   ]
  },
  {
   "cell_type": "markdown",
   "metadata": {},
   "source": [
    "c) Aplique o processo de contagem de palavras e exiba as 10 primeiras ocorrências da contagem de palavras (não ordene os dados)."
   ]
  },
  {
   "cell_type": "markdown",
   "metadata": {},
   "source": [
    "```\n",
    ">>> words = txt.flatMap(lambda line: line.split(\" \")) \n",
    ">>> words_values = words.map(lambda word: (word, 1))\n",
    ">>> wordCounts = words_values.reduceByKey(lambda a,b:a +b)\n",
    ">>> data = wordCounts.collect()\n",
    ">>> data[0:10]\n",
    "\n",
    "[(u'velocidade', 1), (u'fins', 1), (u'projetada', 1), (u'objetos,', 2), (u'pit\\xe3o).', 1), (u'Circus,', 1), (u'suporta', 1), (u'Fonte:', 1), (u'origem', 1), (u'lucrativos', 1)]\n",
    "```"
   ]
  },
  {
   "cell_type": "markdown",
   "metadata": {},
   "source": [
    "#### **Questão 2 - Trabalhando com arquivo CSV**"
   ]
  },
  {
   "cell_type": "markdown",
   "metadata": {},
   "source": [
    "Baixe o arquivo \"vgsales_mod2.csv\" por meio do seguinte link: https://drive.google.com/open?id=1BIhybwnVz1KQdINMJH7X0V9WTj045TMk\n",
    "\n",
    "Salve o arquivo em uma pasta local, em seguida responda as seguintes questões utilizando o \"PySpark\":"
   ]
  },
  {
   "cell_type": "markdown",
   "metadata": {},
   "source": [
    "a) Carregue a base em um \"DataFrame\" do \"PySpark\" e informe a quantidade de linhas que a base possui. Os campos da base são: Id, Rank, Name, Platform, Year, Genre, Publisher, NA_Sales, EU_Sales, JP_Sales, Other_Sales, Global_Sales."
   ]
  },
  {
   "cell_type": "markdown",
   "metadata": {},
   "source": [
    "```\n",
    ">>> filepath = 'file:///home/cloudera//testspark/vgsales_mod2.csv'\n",
    ">>> lines = sc.textFile(filepath).map(lambda x: x.split(\",\"))\n",
    ">>> sales_rdd = lines.toDF(['Id', 'Rank', 'Name', 'Platform', 'Year', 'Genre', 'Publisher', 'NA_Sales', 'EU_Sales', 'JP_Sales', 'Other_Sales', 'Global_Sales'])\n",
    ">>> sales_rdd.count()\n",
    "\n",
    "16291\n",
    "```"
   ]
  },
  {
   "cell_type": "markdown",
   "metadata": {},
   "source": [
    "b) Exiba os dois primeiros registros da base. "
   ]
  },
  {
   "cell_type": "markdown",
   "metadata": {},
   "source": [
    "```\n",
    ">>> sales_rdd.head(2)\n",
    "\n",
    "[Row(Id=u'0', Rank=u'1', Name=u'Wii Sports', Platform=u'Wii', Year=u'2006', Genre=u'Sports', Publisher=u'Nintendo', NA_Sales=u'41', EU_Sales=u'29', JP_Sales=u'3', Other_Sales=u'8', Global_Sales=u'82'), Row(Id=u'1', Rank=u'2', Name=u'Super Mario Bros.', Platform=u'NES', Year=u'1985', Genre=u'Platform', Publisher=u'Nintendo', NA_Sales=u'29', EU_Sales=u'3', JP_Sales=u'6', Other_Sales=u'0', Global_Sales=u'40')]\n",
    "```"
   ]
  },
  {
   "cell_type": "markdown",
   "metadata": {},
   "source": [
    "c) Apresente a quantidade de registros que contém o gênero (Genre) do tipo \"Sports\"."
   ]
  },
  {
   "cell_type": "markdown",
   "metadata": {},
   "source": [
    "```\n",
    ">>> genre_sports = sales_rdd.where('Genre = \"Sports\"')\n",
    ">>> genre_sports.count()\n",
    "\n",
    "2304\n",
    "```"
   ]
  },
  {
   "cell_type": "markdown",
   "metadata": {},
   "source": [
    "d) Selecione apenas os jogos com venda global (Global_Sales) superior a 20. Em seguida apresente as 3 primeiras linhas."
   ]
  },
  {
   "cell_type": "markdown",
   "metadata": {},
   "source": [
    "```\n",
    ">>> global_sales = sales_rdd.where('Global_Sales > 20')\n",
    ">>> global_sales.head(3)\n",
    "\n",
    "[Row(Id=u'0', Rank=u'1', Name=u'Wii Sports', Platform=u'Wii', Year=u'2006', Genre=u'Sports', Publisher=u'Nintendo', NA_Sales=u'41', EU_Sales=u'29', JP_Sales=u'3', Other_Sales=u'8', Global_Sales=u'82'), Row(Id=u'1', Rank=u'2', Name=u'Super Mario Bros.', Platform=u'NES', Year=u'1985', Genre=u'Platform', Publisher=u'Nintendo', NA_Sales=u'29', EU_Sales=u'3', JP_Sales=u'6', Other_Sales=u'0', Global_Sales=u'40'), Row(Id=u'2', Rank=u'3', Name=u'Mario Kart Wii', Platform=u'Wii', Year=u'2008', Genre=u'Racing', Publisher=u'Nintendo', NA_Sales=u'15', EU_Sales=u'12', JP_Sales=u'3', Other_Sales=u'3', Global_Sales=u'35')]\n",
    "```"
   ]
  },
  {
   "cell_type": "markdown",
   "metadata": {},
   "source": [
    "e) Selecione jogos lançados após 2010 (use o campo Year). Em seguida apresente os 10 primeiros registros."
   ]
  },
  {
   "cell_type": "markdown",
   "metadata": {},
   "source": [
    "```\n",
    ">>> games = sales_rdd.where('Year > 2010')\n",
    ">>> games.head(10)\n",
    "\n",
    "[Row(Id=u'16', Rank=u'17', Name=u'Grand Theft Auto V', Platform=u'PS3', Year=u'2013', Genre=u'Action', Publisher=u'Take-Two Interactive', NA_Sales=u'7', EU_Sales=u'9', JP_Sales=u'0', Other_Sales=u'4', Global_Sales=u'21'), Row(Id=u'23', Rank=u'24', Name=u'Grand Theft Auto V', Platform=u'X360', Year=u'2013', Genre=u'Action', Publisher=u'Take-Two Interactive', NA_Sales=u'9', EU_Sales=u'5', JP_Sales=u'0', Other_Sales=u'1', Global_Sales=u'16'), Row(Id=u'29', Rank=u'30', Name=u'Call of Duty: Modern Warfare 3', Platform=u'X360', Year=u'2011', Genre=u'Shooter', Publisher=u'Activision', NA_Sales=u'9', EU_Sales=u'4', JP_Sales=u'0', Other_Sales=u'1', Global_Sales=u'14'), Row(Id=u'32', Rank=u'33', Name=u'Pokemon X/Pokemon Y', Platform=u'3DS', Year=u'2013', Genre=u'Role-Playing', Publisher=u'Nintendo', NA_Sales=u'5', EU_Sales=u'4', JP_Sales=u'4', Other_Sales=u'0', Global_Sales=u'14'), Row(Id=u'33', Rank=u'34', Name=u'Call of Duty: Black Ops 3', Platform=u'PS4', Year=u'2015', Genre=u'Shooter', Publisher=u'Activision', NA_Sales=u'5', EU_Sales=u'5', JP_Sales=u'0', Other_Sales=u'2', Global_Sales=u'14'), Row(Id=u'34', Rank=u'35', Name=u'Call of Duty: Black Ops II', Platform=u'PS3', Year=u'2012', Genre=u'Shooter', Publisher=u'Activision', NA_Sales=u'4', EU_Sales=u'5', JP_Sales=u'0', Other_Sales=u'2', Global_Sales=u'14'), Row(Id=u'35', Rank=u'36', Name=u'Call of Duty: Black Ops II', Platform=u'X360', Year=u'2012', Genre=u'Shooter', Publisher=u'Activision', NA_Sales=u'8', EU_Sales=u'4', JP_Sales=u'0', Other_Sales=u'1', Global_Sales=u'13'), Row(Id=u'37', Rank=u'38', Name=u'Call of Duty: Modern Warfare 3', Platform=u'PS3', Year=u'2011', Genre=u'Shooter', Publisher=u'Activision', NA_Sales=u'5', EU_Sales=u'5', JP_Sales=u'0', Other_Sales=u'1', Global_Sales=u'13'), Row(Id=u'42', Rank=u'43', Name=u'Mario Kart 7', Platform=u'3DS', Year=u'2011', Genre=u'Racing', Publisher=u'Nintendo', NA_Sales=u'4', EU_Sales=u'3', JP_Sales=u'2', Other_Sales=u'0', Global_Sales=u'12'), Row(Id=u'44', Rank=u'45', Name=u'Grand Theft Auto V', Platform=u'PS4', Year=u'2014', Genre=u'Action', Publisher=u'Take-Two Interactive', NA_Sales=u'3', EU_Sales=u'5', JP_Sales=u'0', Other_Sales=u'2', Global_Sales=u'11')]\n",
    "```"
   ]
  }
 ],
 "metadata": {
  "colab": {
   "name": "Trilha7_ExercicioAprofundamento.ipynb",
   "provenance": []
  },
  "kernelspec": {
   "display_name": "R",
   "language": "R",
   "name": "ir"
  },
  "language_info": {
   "codemirror_mode": "r",
   "file_extension": ".r",
   "mimetype": "text/x-r-source",
   "name": "R",
   "pygments_lexer": "r",
   "version": "4.2.0"
  },
  "toc": {
   "base_numbering": 1,
   "nav_menu": {},
   "number_sections": true,
   "sideBar": true,
   "skip_h1_title": false,
   "title_cell": "Table of Contents",
   "title_sidebar": "Contents",
   "toc_cell": false,
   "toc_position": {},
   "toc_section_display": true,
   "toc_window_display": false
  },
  "vscode": {
   "interpreter": {
    "hash": "37ed6dae9db4498ef1a8e176fbcebe5d295d56bee001a8e3185c66917fbe56fb"
   }
  }
 },
 "nbformat": 4,
 "nbformat_minor": 1
}
