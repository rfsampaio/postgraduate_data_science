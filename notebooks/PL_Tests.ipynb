{
  "cells": [
    {
      "cell_type": "markdown",
      "metadata": {
        "id": "nIfbye73nzZp"
      },
      "source": [
        "#### Testes"
      ]
    },
    {
      "cell_type": "code",
      "execution_count": 65,
      "metadata": {},
      "outputs": [
        {
          "data": {
            "text/html": [
              "<div>\n",
              "<style scoped>\n",
              "    .dataframe tbody tr th:only-of-type {\n",
              "        vertical-align: middle;\n",
              "    }\n",
              "\n",
              "    .dataframe tbody tr th {\n",
              "        vertical-align: top;\n",
              "    }\n",
              "\n",
              "    .dataframe thead th {\n",
              "        text-align: right;\n",
              "    }\n",
              "</style>\n",
              "<table border=\"1\" class=\"dataframe\">\n",
              "  <thead>\n",
              "    <tr style=\"text-align: right;\">\n",
              "      <th></th>\n",
              "      <th>mpg</th>\n",
              "      <th>cylinders</th>\n",
              "      <th>displacement</th>\n",
              "      <th>horsepower</th>\n",
              "      <th>weight</th>\n",
              "      <th>acceleration</th>\n",
              "      <th>model year</th>\n",
              "      <th>origin</th>\n",
              "      <th>car name</th>\n",
              "    </tr>\n",
              "  </thead>\n",
              "  <tbody>\n",
              "    <tr>\n",
              "      <th>116</th>\n",
              "      <td>16.0</td>\n",
              "      <td>8</td>\n",
              "      <td>400.0</td>\n",
              "      <td>230.0</td>\n",
              "      <td>4278</td>\n",
              "      <td>9.5</td>\n",
              "      <td>73</td>\n",
              "      <td>1</td>\n",
              "      <td>pontiac grand prix</td>\n",
              "    </tr>\n",
              "    <tr>\n",
              "      <th>8</th>\n",
              "      <td>14.0</td>\n",
              "      <td>8</td>\n",
              "      <td>455.0</td>\n",
              "      <td>225.0</td>\n",
              "      <td>4425</td>\n",
              "      <td>10.0</td>\n",
              "      <td>70</td>\n",
              "      <td>1</td>\n",
              "      <td>pontiac catalina</td>\n",
              "    </tr>\n",
              "    <tr>\n",
              "      <th>13</th>\n",
              "      <td>14.0</td>\n",
              "      <td>8</td>\n",
              "      <td>455.0</td>\n",
              "      <td>225.0</td>\n",
              "      <td>3086</td>\n",
              "      <td>10.0</td>\n",
              "      <td>70</td>\n",
              "      <td>1</td>\n",
              "      <td>buick estate wagon (sw)</td>\n",
              "    </tr>\n",
              "    <tr>\n",
              "      <th>95</th>\n",
              "      <td>12.0</td>\n",
              "      <td>8</td>\n",
              "      <td>455.0</td>\n",
              "      <td>225.0</td>\n",
              "      <td>4951</td>\n",
              "      <td>11.0</td>\n",
              "      <td>73</td>\n",
              "      <td>1</td>\n",
              "      <td>buick electra 225 custom</td>\n",
              "    </tr>\n",
              "    <tr>\n",
              "      <th>6</th>\n",
              "      <td>14.0</td>\n",
              "      <td>8</td>\n",
              "      <td>454.0</td>\n",
              "      <td>220.0</td>\n",
              "      <td>4354</td>\n",
              "      <td>9.0</td>\n",
              "      <td>70</td>\n",
              "      <td>1</td>\n",
              "      <td>chevrolet impala</td>\n",
              "    </tr>\n",
              "  </tbody>\n",
              "</table>\n",
              "</div>"
            ],
            "text/plain": [
              "      mpg  cylinders  displacement  horsepower  weight  acceleration  \\\n",
              "116  16.0          8         400.0       230.0    4278           9.5   \n",
              "8    14.0          8         455.0       225.0    4425          10.0   \n",
              "13   14.0          8         455.0       225.0    3086          10.0   \n",
              "95   12.0          8         455.0       225.0    4951          11.0   \n",
              "6    14.0          8         454.0       220.0    4354           9.0   \n",
              "\n",
              "     model year  origin                  car name  \n",
              "116          73       1        pontiac grand prix  \n",
              "8            70       1          pontiac catalina  \n",
              "13           70       1   buick estate wagon (sw)  \n",
              "95           73       1  buick electra 225 custom  \n",
              "6            70       1          chevrolet impala  "
            ]
          },
          "metadata": {},
          "output_type": "display_data"
        }
      ],
      "source": [
        "import numpy as np\n",
        "import pandas as pd\n",
        "import seaborn as sns\n",
        "import matplotlib.pyplot as plt\n",
        "%matplotlib inline\n",
        "\n",
        "df = pd.read_csv(\"../data/mpg.csv\")\n",
        "df = df.convert_dtypes()\n",
        "df[\"horsepower\"] = pd.to_numeric(df[\"horsepower\"],errors=\"coerce\")\n",
        "\n",
        "# display(df.dtypes)\n",
        "# display(df.head())\n",
        "# display(df.describe())\n",
        "# display(df.groupby(\"origin\").horsepower.mean())\n",
        "# df = df.groupby(\"origin\").horsepower.mean()\n",
        "# display(df)\n",
        "display(df.nlargest(5,\"horsepower\",))\n",
        "\n",
        "\n",
        "\n",
        "\n"
      ]
    },
    {
      "cell_type": "code",
      "execution_count": 2,
      "metadata": {},
      "outputs": [
        {
          "data": {
            "image/png": "[encoded data removed]",
            "text/plain": [
              "<Figure size 432x288 with 1 Axes>"
            ]
          },
          "metadata": {},
          "output_type": "display_data"
        }
      ],
      "source": [
        "import numpy as np\n",
        "\n",
        "import matplotlib.pyplot as plt\n",
        "%matplotlib inline\n",
        "\n",
        "import seaborn as sns\n",
        "\n",
        "# changing the theme to dark\n",
        "sns.set_style(\"dark\")\n",
        "plt.style.use('dark_background')\n",
        "\n",
        "x = np.arange(-10,10,0.01)\n",
        "\n",
        "plt.plot(x,np.sin(x),label='sin(x)')\n",
        "plt.plot(x,np.cos(4*x),label='cos(4x)')\n",
        "\n",
        "plt.title('Exemplo sin(x) & cos(4x)')\n",
        "plt.xlabel('Eixo x')\n",
        "plt.ylabel('Eixo y')\n",
        "plt.legend()\n",
        "plt.show()\n"
      ]
    },
    {
      "cell_type": "code",
      "execution_count": 51,
      "metadata": {},
      "outputs": [
        {
          "data": {
            "text/plain": [
              "<BarContainer object of 398 artists>"
            ]
          },
          "execution_count": 51,
          "metadata": {},
          "output_type": "execute_result"
        },
        {
          "data": {
            "image/png": "[encoded data removed]",
            "text/plain": [
              "<Figure size 432x288 with 1 Axes>"
            ]
          },
          "metadata": {
            "needs_background": "light"
          },
          "output_type": "display_data"
        }
      ],
      "source": [
        "mpg = pd.read_csv(\"../data/mpg.csv\")\n",
        "#mpg.head()\n",
        "\n",
        "#plt.box(mpg.weight)\n",
        "#plt.hist(mpg.weight, density=True)\n",
        "#plt.displot(mpg.weight, density=True)\n",
        "#plt.dist(mpg.weight, showfliers=True)\n",
        "#plt.boxplot(mpg.weight)\n",
        "\n",
        "#plt.corr(mpg.horsepower,mpg.mpg)\n",
        "#plt.boxplot(mpg.horsepower,mpg.mpg)\n",
        "#plt.plot(mpg.horsepower,mpg.mpg)\n",
        "#plt.scatter(mpg.horsepower,mpg.mpg)\n",
        "#plt.lineplot(mpg.horsepower,mpg.mpg)\n",
        "\n",
        "#plt.dist(mpg.weight)\n",
        "#plt.hist(mpg.weight, density=True)\n",
        "#plt.kde(mpg.weight)\n",
        "#plt.displot(mpg.weight, density=True)\n",
        "#plt.bar(mpg.weight, kde=True)\n",
        "\n",
        "#plt.xlim([4,9])\n",
        "#plt.bar(mpg.horsepower, mpg.cylinders)"
      ]
    },
    {
      "cell_type": "markdown",
      "metadata": {
        "id": "Vw285ytjpNJ0"
      },
      "source": [
        "#### Construção do Dicionário"
      ]
    },
    {
      "cell_type": "code",
      "execution_count": 4,
      "metadata": {
        "colab": {
          "base_uri": "https://localhost:8080/"
        },
        "id": "a5XxpMJe60li",
        "outputId": "b5c31896-7276-4601-a371-0968e50cc24e"
      },
      "outputs": [
        {
          "ename": "NameError",
          "evalue": "name 'texto' is not defined",
          "output_type": "error",
          "traceback": [
            "\u001b[1;31m---------------------------------------------------------------------------\u001b[0m",
            "\u001b[1;31mNameError\u001b[0m                                 Traceback (most recent call last)",
            "\u001b[1;32m~\\AppData\\Local\\Temp/ipykernel_2616/125178509.py\u001b[0m in \u001b[0;36m<module>\u001b[1;34m\u001b[0m\n\u001b[0;32m      1\u001b[0m \u001b[0mmydict\u001b[0m \u001b[1;33m=\u001b[0m \u001b[1;33m{\u001b[0m\u001b[1;33m}\u001b[0m                               \u001b[1;31m# crie um dicionário vazio\u001b[0m\u001b[1;33m\u001b[0m\u001b[1;33m\u001b[0m\u001b[0m\n\u001b[0;32m      2\u001b[0m \u001b[1;33m\u001b[0m\u001b[0m\n\u001b[1;32m----> 3\u001b[1;33m \u001b[1;32mfor\u001b[0m \u001b[0mline\u001b[0m \u001b[1;32min\u001b[0m \u001b[0mtexto\u001b[0m\u001b[1;33m:\u001b[0m\u001b[1;33m\u001b[0m\u001b[1;33m\u001b[0m\u001b[0m\n\u001b[0m\u001b[0;32m      4\u001b[0m \u001b[1;33m\u001b[0m\u001b[0m\n\u001b[0;32m      5\u001b[0m   \u001b[0mline\u001b[0m \u001b[1;33m=\u001b[0m \u001b[0mline\u001b[0m\u001b[1;33m.\u001b[0m\u001b[0mlower\u001b[0m\u001b[1;33m(\u001b[0m\u001b[1;33m)\u001b[0m                     \u001b[1;31m# converte para lower\u001b[0m\u001b[1;33m\u001b[0m\u001b[1;33m\u001b[0m\u001b[0m\n",
            "\u001b[1;31mNameError\u001b[0m: name 'texto' is not defined"
          ]
        }
      ],
      "source": [
        "mydict = {}                               # crie um dicionário vazio\n",
        "\n",
        "for line in texto:\n",
        "\n",
        "  line = line.lower()                     # converte para lower\n",
        "  words = line.split()                    # separa cada palavra\n",
        "  # print(words)\n",
        "\n",
        "  for word in words:                      # para cada palavra em words\n",
        "    if word not in mydict.keys():         # se palavra não está no dicionário \n",
        "      mydict[word] = 1                    # acrescenta a word com o valor 1\n",
        "    else:                                 # se a entrada já existe \n",
        "      mydict[word] =  mydict[word] + 1    # apenas soma 1 ao valor já existente\n",
        "\n",
        "# quantidade de palavras no dicionário\n",
        "#print(len(mydict.keys()))\n",
        "\n",
        "# imprime o dicionário\n",
        "# print(mydict)\n",
        "\n",
        "# ordenar, de forma decrescente, as palavras do dicionário pelo valor\n",
        "sorted_mydict = sorted(mydict.items(), key=lambda x: x[1], reverse=True)\n",
        "\n",
        "print(sorted_mydict)"
      ]
    },
    {
      "cell_type": "markdown",
      "metadata": {
        "id": "s44VMljhpSLK"
      },
      "source": [
        "#### Exibição dos Resultados"
      ]
    },
    {
      "cell_type": "code",
      "execution_count": 3,
      "metadata": {
        "colab": {
          "base_uri": "https://localhost:8080/",
          "height": 521
        },
        "id": "zMy6IqwC9GJt",
        "outputId": "281c40bf-8021-4841-dfa0-bdbf08ebe402"
      },
      "outputs": [
        {
          "ename": "NameError",
          "evalue": "name 'mydict' is not defined",
          "output_type": "error",
          "traceback": [
            "\u001b[1;31m---------------------------------------------------------------------------\u001b[0m",
            "\u001b[1;31mNameError\u001b[0m                                 Traceback (most recent call last)",
            "\u001b[1;32m~\\AppData\\Local\\Temp/ipykernel_2616/804009832.py\u001b[0m in \u001b[0;36m<module>\u001b[1;34m\u001b[0m\n\u001b[0;32m      8\u001b[0m \u001b[0mplt\u001b[0m\u001b[1;33m.\u001b[0m\u001b[0mstyle\u001b[0m\u001b[1;33m.\u001b[0m\u001b[0muse\u001b[0m\u001b[1;33m(\u001b[0m\u001b[1;34m'dark_background'\u001b[0m\u001b[1;33m)\u001b[0m\u001b[1;33m\u001b[0m\u001b[1;33m\u001b[0m\u001b[0m\n\u001b[0;32m      9\u001b[0m \u001b[1;33m\u001b[0m\u001b[0m\n\u001b[1;32m---> 10\u001b[1;33m \u001b[0mdf\u001b[0m \u001b[1;33m=\u001b[0m \u001b[0mpd\u001b[0m\u001b[1;33m.\u001b[0m\u001b[0mDataFrame\u001b[0m\u001b[1;33m(\u001b[0m\u001b[0mmydict\u001b[0m\u001b[1;33m.\u001b[0m\u001b[0mitems\u001b[0m\u001b[1;33m(\u001b[0m\u001b[1;33m)\u001b[0m\u001b[1;33m,\u001b[0m  \u001b[0mcolumns\u001b[0m\u001b[1;33m=\u001b[0m\u001b[1;33m[\u001b[0m\u001b[1;34m'word'\u001b[0m\u001b[1;33m,\u001b[0m \u001b[1;34m'count'\u001b[0m\u001b[1;33m]\u001b[0m\u001b[1;33m)\u001b[0m\u001b[1;33m.\u001b[0m\u001b[0msort_values\u001b[0m\u001b[1;33m(\u001b[0m\u001b[1;34m'count'\u001b[0m\u001b[1;33m,\u001b[0m\u001b[0mascending\u001b[0m\u001b[1;33m=\u001b[0m\u001b[1;32mFalse\u001b[0m\u001b[1;33m)\u001b[0m\u001b[1;33m\u001b[0m\u001b[1;33m\u001b[0m\u001b[0m\n\u001b[0m\u001b[0;32m     11\u001b[0m \u001b[0mdf\u001b[0m \u001b[1;33m=\u001b[0m \u001b[0mdf\u001b[0m\u001b[1;33m[\u001b[0m\u001b[0mdf\u001b[0m\u001b[1;33m[\u001b[0m\u001b[1;34m'count'\u001b[0m\u001b[1;33m]\u001b[0m \u001b[1;33m>\u001b[0m \u001b[1;36m4\u001b[0m\u001b[1;33m]\u001b[0m \u001b[1;31m# somente termos com mais de 4 ocorrências\u001b[0m\u001b[1;33m\u001b[0m\u001b[1;33m\u001b[0m\u001b[0m\n\u001b[0;32m     12\u001b[0m \u001b[1;31m# df = df.iloc[ np.int(len(df)/2) - 10 : np.int(len(df)/2) + 10 ] # para livros ou textos com muitos termos limita a um número mínimo de termos\u001b[0m\u001b[1;33m\u001b[0m\u001b[1;33m\u001b[0m\u001b[0m\n",
            "\u001b[1;31mNameError\u001b[0m: name 'mydict' is not defined"
          ]
        }
      ],
      "source": [
        "import pandas as pd\n",
        "import seaborn as sns\n",
        "import matplotlib as mpl\n",
        "import matplotlib.pyplot as plt\n",
        "\n",
        "# changing the theme to dark\n",
        "sns.set_style(\"dark\")\n",
        "plt.style.use('dark_background')\n",
        "\n",
        "df = pd.DataFrame(mydict.items(),  columns=['word', 'count']).sort_values('count',ascending=False)\n",
        "df = df[df['count'] > 4] # somente termos com mais de 4 ocorrências\n",
        "# df = df.iloc[ np.int(len(df)/2) - 10 : np.int(len(df)/2) + 10 ] # para livros ou textos com muitos termos limita a um número mínimo de termos\n",
        "\n",
        "plt.figure(figsize=(24,10))\n",
        "mpl.style.use(['seaborn'])\n",
        "\n",
        "# incluindo labels nas barras\n",
        "ax = sns.barplot(x=df.word,y=df['count'],data=df)\n",
        "for i in ax.containers:\n",
        "    ax.bar_label(i,)\n",
        "    \n",
        "plt.xticks(rotation=90) \n",
        "plt.show()"
      ]
    },
    {
      "cell_type": "markdown",
      "metadata": {},
      "source": [
        "O gráfico de distribuição de frequência acima confirma a Lei de Zipf."
      ]
    }
  ],
  "metadata": {
    "colab": {
      "collapsed_sections": [],
      "name": "PL_A1.ipynb",
      "provenance": []
    },
    "interpreter": {
      "hash": "bdb72a06a6e004c651902a281cf4f0d77638986a5dc8eeb5fe5a48cd85f67ec4"
    },
    "kernelspec": {
      "display_name": "Python 3.9.7 ('base')",
      "language": "python",
      "name": "python3"
    },
    "language_info": {
      "codemirror_mode": {
        "name": "ipython",
        "version": 3
      },
      "file_extension": ".py",
      "mimetype": "text/x-python",
      "name": "python",
      "nbconvert_exporter": "python",
      "pygments_lexer": "ipython3",
      "version": "3.9.7"
    }
  },
  "nbformat": 4,
  "nbformat_minor": 0
}
