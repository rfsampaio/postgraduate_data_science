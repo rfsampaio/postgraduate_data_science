{
 "cells": [
  {
   "cell_type": "markdown",
   "metadata": {},
   "source": [
    "<head>\n",
    "  <meta name=\"author\" content=\"Rogério de Oliveira\">\n",
    "  <meta institution=\"author\" content=\"Universidade Presbiteriana Mackenzie\">\n",
    "</head>\n",
    "\n",
    "<img src=\"http://meusite.mackenzie.br/rogerio/mackenzie_logo/UPM.2_horizontal_vermelho.jpg\" width=300, align=\"right\">\n",
    "<!-- <h1 align=left><font size = 6, style=\"color:rgb(200,0,0)\"> optional title </font></h1> -->"
   ]
  },
  {
   "attachments": {},
   "cell_type": "markdown",
   "metadata": {},
   "source": [
    "**CURSO DE PÓS-GRADUAÇÃO EM CIÊNCIA DE DADOS (BIG DATA PROCESSING AND ANALYTICS)**<p>\n",
    "**Componente curricular:** MINERAÇÃO E ANÁLISE DE DADOS [TURMA 01D] - 2023/1 - Trilha 2.<br>\n",
    "\n",
    "**Aluno:** ROBSON DE FREITAS SAMPAIO.<br>\n",
    "\n",
    "**URL deste notebook:** https://github.com/rfsampaio/postgraduate_data_science/blob/main/notebooks/MA_T2_B.ipynb<br>\n",
    "***"
   ]
  },
  {
   "attachments": {},
   "cell_type": "markdown",
   "metadata": {
    "id": "nyDUaSAsbDnu"
   },
   "source": [
    "## Atividade - Trilha 2 - Parte B - \"Multicolinearidade\", \"Hot encode\" e \"R2-ajustado\""
   ]
  },
  {
   "attachments": {},
   "cell_type": "markdown",
   "metadata": {
    "id": "FDT0TyYybDn1"
   },
   "source": [
    "#### Discussão do CASO: Estimando o Preço de Imóveis em São Paulo.\n",
    "\n",
    "Com base na Parte A desta atividade, **Pesquise e discuta apenas uma** das perguntas a seguir.\n",
    "\n",
    "Em seguida, com base nos seus resultados, responda o questionário do Moodle."
   ]
  },
  {
   "cell_type": "markdown",
   "metadata": {
    "id": "GJhqp5-_bDn3"
   },
   "source": [
    "### Passos:"
   ]
  },
  {
   "attachments": {},
   "cell_type": "markdown",
   "metadata": {
    "id": "mXeLBZ3nbDn4"
   },
   "source": [
    "#### 1. Qual a consequência prática da multicolinearidade no \"hot encode\" dos dados? Por quê?"
   ]
  },
  {
   "attachments": {},
   "cell_type": "markdown",
   "metadata": {},
   "source": [
    "``` No \"hot encode\", a multicolinearidade pode ocorrer quando há muitas categorias diferentes em uma variável categórica e cada categoria é transformada em uma variável binária. Se houver muitas categorias com poucas observações, pode ocorrer multicolinearidade entre as variáveis binárias correspondentes, o que pode levar a problemas em modelos de regressão. Para lidar com a multicolinearidade no \"hot encode\", é importante selecionar as categorias mais importantes e remover as menos relevantes. Também é possível usar técnicas de redução de dimensionalidade, como a Análise de Componentes Principais (PCA), para reduzir o número de variáveis explicativas e evitar a multicolinearidade. ```"
   ]
  },
  {
   "attachments": {},
   "cell_type": "markdown",
   "metadata": {},
   "source": [
    "#### 2. Na parte A desta atividade, você provavelmente selecionou, dentre os dois modelos, o que apresentava \"rsquared\" menor (não o \"rsquared_adj\") e, mesmo assim, esse é um melhor modelo. Por quê? Justifique."
   ]
  },
  {
   "attachments": {},
   "cell_type": "markdown",
   "metadata": {},
   "source": [
    "``` Sua resposta aqui em 1 (um) parágrafo. ```"
   ]
  },
  {
   "attachments": {},
   "cell_type": "markdown",
   "metadata": {},
   "source": [
    "#### Referências:"
   ]
  },
  {
   "attachments": {},
   "cell_type": "markdown",
   "metadata": {},
   "source": [
    "``` BRUCE, Peter; BRUCE, Andrew; GEDECK, Peter. Practical Statistics for Data Scientists. O'Reilly Media, Inc. (2020). ISBN: 9781492072942. ```"
   ]
  }
 ],
 "metadata": {
  "colab": {
   "name": "Trilha7_ExercicioAprofundamento.ipynb",
   "provenance": []
  },
  "kernelspec": {
   "display_name": "Python 3.10.4 ('ds')",
   "language": "python",
   "name": "python3"
  },
  "language_info": {
   "codemirror_mode": {
    "name": "ipython",
    "version": 3
   },
   "file_extension": ".py",
   "mimetype": "text/x-python",
   "name": "python",
   "nbconvert_exporter": "python",
   "pygments_lexer": "ipython3",
   "version": "3.10.4"
  },
  "toc": {
   "base_numbering": 1,
   "nav_menu": {},
   "number_sections": true,
   "sideBar": true,
   "skip_h1_title": false,
   "title_cell": "Table of Contents",
   "title_sidebar": "Contents",
   "toc_cell": false,
   "toc_position": {},
   "toc_section_display": true,
   "toc_window_display": false
  },
  "vscode": {
   "interpreter": {
    "hash": "37ed6dae9db4498ef1a8e176fbcebe5d295d56bee001a8e3185c66917fbe56fb"
   }
  }
 },
 "nbformat": 4,
 "nbformat_minor": 1
}
