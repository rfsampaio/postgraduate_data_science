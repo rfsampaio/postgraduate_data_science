{
 "cells": [
  {
   "cell_type": "markdown",
   "metadata": {},
   "source": [
    "<head>\n",
    "  <meta name=\"author\" content=\"Rogério de Oliveira\">\n",
    "  <meta institution=\"author\" content=\"Universidade Presbiteriana Mackenzie\">\n",
    "</head>\n",
    "\n",
    "<img src=\"http://meusite.mackenzie.br/rogerio/mackenzie_logo/UPM.2_horizontal_vermelho.jpg\" width=300, align=\"right\">\n",
    "<!-- <h1 align=left><font size = 6, style=\"color:rgb(200,0,0)\"> optional title </font></h1> -->"
   ]
  },
  {
   "cell_type": "markdown",
   "metadata": {},
   "source": [
    "**CURSO DE PÓS-GRADUAÇÃO EM CIÊNCIA DE DADOS (BIG DATA PROCESSING AND ANALYTICS)**<p>\n",
    "**Componente curricular:** BIG DATA ANALYTICS: ANÁLISE ESTATÍSTICA - 91162 - 2022.2 - 01D - Trilha 6.<br>\n",
    "\n",
    "**Aluno:** ROBSON DE FREITAS SAMPAIO.<br>\n",
    "\n",
    "**URL deste notebook:** https://github.com/rfsampaio/postgraduate_data_science/blob/main/notebooks/AE_T6.ipynb<br>\n",
    "***"
   ]
  },
  {
   "cell_type": "markdown",
   "metadata": {
    "id": "nyDUaSAsbDnu"
   },
   "source": [
    "### **Atividade - Trilha 6**"
   ]
  },
  {
   "cell_type": "markdown",
   "metadata": {
    "id": "FDT0TyYybDn1"
   },
   "source": [
    "#### **Problema 1**\n",
    "\n",
    "Vamos fazer um exercício de Regressão Logística, trabalhando com a base de dados do Titanic.\n",
    "\n",
    "Utilizaremos os arquivos disponibilizados no Moodle que foram preparados para esta atividade. Embora os nomes sejam os mesmos, estes arquivos do Moodle poder ser diferentes (em conteúdo) daqueles encontrados no site Kaggle.\n",
    "\n",
    "A base de dados (treinamento) é uma coleção de dados sobre alguns dos passageiros (891 ou 892) e o objetivo é prever a sobrevivência (1 se o passageiro sobreviveu ou 0 caso contrário), baseado em algumas características tais como classe de serviço, sexo, idade, etc. A base de dados de teste tem a mesma estrutura da base de treinamento, mas a variável **\"Survived\"** não contém nenhum valor (ou não está presente). Depois de construir seu modelo, você vai aplicá-lo à este conjunto de dados de teste e prever o valor da variável **\"Survived\"**.\n",
    "\n",
    "Como se pode ver, utilizaremos tanto variáveis categóricas como contínuas. Quando trabalhamos com uma base de dados real, precisamos levar em conta o fato de podermos ter dados faltantes ou corrompidos, e, portanto, precisamos preparar a base de dados para nossa análise.\n",
    "\n",
    "As tarefas a serem realizadas são:\n",
    "\n",
    "a) Fazer a preparação dos dados para serem utilizados na análise, considerando que serão utilizadas apenas as variáveis \"Survived\", \"Pclass\", \"Sex\", \"Age\", \"SibSp\", \"Parch\", \"Fare\", \"Embarked\".\n",
    "\n",
    "* i) Do conjunto de dados original, você deve selecionar um subconjunto apenas com as variáveis indicadas acima e a variável \"PassengerId\".\n",
    "\n",
    "* ii) Você deve atribuir um valor para os NAs na variável Age. Utilize algum critério razoável, por exemplo, o valor médio.\n",
    "\n",
    "* iii) Você deve remover as linhas onde ainda estejam faltando dados, depois de atribuir o valor para os NAs de \"Age\". Poucas linhas estarão ainda com dados faltantes.\n",
    "\n",
    "b) Você deve criar um modelo onde **\"Survived\"** será uma função das demais variáveis.\n",
    "\n",
    "c) Faça as análises do modelo, verificando a significância estatística das variáveis (e seus parâmetros ajustados), gráficos diagnósticos, etc.\n",
    "\n",
    "d) Atualize o modelo como consequência da análise realizada no item anterior.\n",
    "\n",
    "e) Faça as previsões da variável **\"Survived\"** na base de dados de teste utilizando o modelo refinado, e prepare um arquivo CSV para submissão que contenha apenas duas colunas: \"PassengerId\", \"Survived\"."
   ]
  },
  {
   "cell_type": "markdown",
   "metadata": {},
   "source": [
    "### **Carregando bibliotecas necessárias:**"
   ]
  },
  {
   "cell_type": "code",
   "execution_count": 133,
   "metadata": {
    "vscode": {
     "languageId": "r"
    }
   },
   "outputs": [],
   "source": [
    "library(tidyverse)"
   ]
  },
  {
   "cell_type": "markdown",
   "metadata": {},
   "source": [
    "### **Resolução:**"
   ]
  },
  {
   "cell_type": "markdown",
   "metadata": {},
   "source": [
    "---\n",
    "#### **Problema 1**\n",
    "---"
   ]
  },
  {
   "cell_type": "markdown",
   "metadata": {},
   "source": [
    "**Item a)**"
   ]
  },
  {
   "cell_type": "markdown",
   "metadata": {},
   "source": [
    "Definindo o diretório dos datasets:"
   ]
  },
  {
   "cell_type": "code",
   "execution_count": 134,
   "metadata": {
    "vscode": {
     "languageId": "r"
    }
   },
   "outputs": [],
   "source": [
    "# definindo o diretório de datasets\n",
    "setwd('../data')"
   ]
  },
  {
   "cell_type": "markdown",
   "metadata": {},
   "source": [
    "Dicionário dos datasets de treinamento e de teste:\n",
    "\n",
    "| Variável | Descrição |\n",
    "|---|---|\n",
    "| PassengerId |\tIdentificador do Passageiro |\n",
    "| Survived | Variável indicadora de sobrevivência (0 = Não Sobreviveu, 1 = Sobreviveu) | \n",
    "| Pclass | Classe do passageiro |\n",
    "| Name | Nome do passageiro |\n",
    "| Sex |\tSexo do passageiro |\n",
    "| Age |\tIdade do passageiro |\n",
    "| SibSp | Número de irmãos/cônjuge no navio |\n",
    "| Parch | Número de pais e filhos no navio |\n",
    "| Ticket | Número da passagem |\n",
    "| Fare | Preço da passagem |\n",
    "| Cabin | Código da cabine |\n",
    "| Embarked | Porto de embarque |"
   ]
  },
  {
   "cell_type": "markdown",
   "metadata": {},
   "source": [
    "Carregando o dataset de treinamento, gerando um dataframe com as variáveis relevantes, exibindo sua estrutura e seu sumário estatístico:"
   ]
  },
  {
   "cell_type": "code",
   "execution_count": 135,
   "metadata": {
    "vscode": {
     "languageId": "r"
    }
   },
   "outputs": [],
   "source": [
    "# lendo o dataset\n",
    "data_train <- read.csv('titanic_dw_train.csv', sep=\",\", header=T)\n",
    "\n",
    "# criando um dataframe com as variáveis relevantes a partir do dataset\n",
    "train_df <- as.data.frame(data_train[,c('PassengerId', 'Survived', 'Pclass', 'Sex', 'Age',\n",
    "                                        'SibSp', 'Parch', 'Fare', 'Embarked')])"
   ]
  },
  {
   "cell_type": "markdown",
   "metadata": {},
   "source": [
    "Agora, vamos entender o conceito de variáveis \"dummy\". Suponha que uma variável \"A\" tenha \"n\" classes. Esta variável \"A\" pode ser substituída por \"n-1\" variáveis. Se \"A\" tiver \"i\", \"j\", \"k\", …, classes, então \"A_i\" = 1 nas linhas em que \"i\" aparece na coluna de \"A\" e \"0\" para o restante das linhas. O mesmo se aplica para \"j\", \"k\", etc. O último valor é tratado pela interceptação. Então, vamos introduzir 2 variáveis fictícias dentro do dataframe a partir da variável \"Embarked\", pois ela contêm dados categóricos."
   ]
  },
  {
   "cell_type": "code",
   "execution_count": 136,
   "metadata": {
    "vscode": {
     "languageId": "r"
    }
   },
   "outputs": [],
   "source": [
    "# criando 2 variáveis \"dummy\" a partir da variável \"Embarked\"\n",
    "train_df$Embarked_C = ifelse(train_df$Embarked==\"C\", 1, 0)\n",
    "train_df$Embarked_S = ifelse(train_df$Embarked==\"S\", 1, 0)\n",
    "\n",
    "# removendo a variável \"Embarked\" do dataframe\n",
    "train_df$Embarked <- NULL"
   ]
  },
  {
   "cell_type": "markdown",
   "metadata": {},
   "source": [
    "Visualizando informações do dataframe de treinamento após as modificações acima:"
   ]
  },
  {
   "cell_type": "code",
   "execution_count": 137,
   "metadata": {
    "vscode": {
     "languageId": "r"
    }
   },
   "outputs": [
    {
     "data": {
      "text/html": [
       "<table class=\"dataframe\">\n",
       "<caption>A data.frame: 6 × 10</caption>\n",
       "<thead>\n",
       "\t<tr><th></th><th scope=col>PassengerId</th><th scope=col>Survived</th><th scope=col>Pclass</th><th scope=col>Sex</th><th scope=col>Age</th><th scope=col>SibSp</th><th scope=col>Parch</th><th scope=col>Fare</th><th scope=col>Embarked_C</th><th scope=col>Embarked_S</th></tr>\n",
       "\t<tr><th></th><th scope=col>&lt;int&gt;</th><th scope=col>&lt;int&gt;</th><th scope=col>&lt;int&gt;</th><th scope=col>&lt;chr&gt;</th><th scope=col>&lt;dbl&gt;</th><th scope=col>&lt;int&gt;</th><th scope=col>&lt;int&gt;</th><th scope=col>&lt;dbl&gt;</th><th scope=col>&lt;dbl&gt;</th><th scope=col>&lt;dbl&gt;</th></tr>\n",
       "</thead>\n",
       "<tbody>\n",
       "\t<tr><th scope=row>1</th><td> 2</td><td>0</td><td>3</td><td>male  </td><td>29</td><td>0</td><td>0</td><td> 7.8542</td><td>0</td><td>1</td></tr>\n",
       "\t<tr><th scope=row>2</th><td> 3</td><td>1</td><td>1</td><td>female</td><td>37</td><td>1</td><td>0</td><td>90.0000</td><td>0</td><td>0</td></tr>\n",
       "\t<tr><th scope=row>3</th><td> 4</td><td>0</td><td>2</td><td>male  </td><td>36</td><td>0</td><td>0</td><td>13.0000</td><td>0</td><td>1</td></tr>\n",
       "\t<tr><th scope=row>4</th><td> 5</td><td>1</td><td>1</td><td>female</td><td>NA</td><td>0</td><td>1</td><td>55.0000</td><td>0</td><td>1</td></tr>\n",
       "\t<tr><th scope=row>5</th><td> 6</td><td>0</td><td>3</td><td>male  </td><td>30</td><td>0</td><td>0</td><td> 8.0500</td><td>0</td><td>1</td></tr>\n",
       "\t<tr><th scope=row>6</th><td>10</td><td>0</td><td>3</td><td>male  </td><td>21</td><td>1</td><td>0</td><td> 6.4958</td><td>0</td><td>1</td></tr>\n",
       "</tbody>\n",
       "</table>\n"
      ],
      "text/latex": [
       "A data.frame: 6 × 10\n",
       "\\begin{tabular}{r|llllllllll}\n",
       "  & PassengerId & Survived & Pclass & Sex & Age & SibSp & Parch & Fare & Embarked\\_C & Embarked\\_S\\\\\n",
       "  & <int> & <int> & <int> & <chr> & <dbl> & <int> & <int> & <dbl> & <dbl> & <dbl>\\\\\n",
       "\\hline\n",
       "\t1 &  2 & 0 & 3 & male   & 29 & 0 & 0 &  7.8542 & 0 & 1\\\\\n",
       "\t2 &  3 & 1 & 1 & female & 37 & 1 & 0 & 90.0000 & 0 & 0\\\\\n",
       "\t3 &  4 & 0 & 2 & male   & 36 & 0 & 0 & 13.0000 & 0 & 1\\\\\n",
       "\t4 &  5 & 1 & 1 & female & NA & 0 & 1 & 55.0000 & 0 & 1\\\\\n",
       "\t5 &  6 & 0 & 3 & male   & 30 & 0 & 0 &  8.0500 & 0 & 1\\\\\n",
       "\t6 & 10 & 0 & 3 & male   & 21 & 1 & 0 &  6.4958 & 0 & 1\\\\\n",
       "\\end{tabular}\n"
      ],
      "text/markdown": [
       "\n",
       "A data.frame: 6 × 10\n",
       "\n",
       "| <!--/--> | PassengerId &lt;int&gt; | Survived &lt;int&gt; | Pclass &lt;int&gt; | Sex &lt;chr&gt; | Age &lt;dbl&gt; | SibSp &lt;int&gt; | Parch &lt;int&gt; | Fare &lt;dbl&gt; | Embarked_C &lt;dbl&gt; | Embarked_S &lt;dbl&gt; |\n",
       "|---|---|---|---|---|---|---|---|---|---|---|\n",
       "| 1 |  2 | 0 | 3 | male   | 29 | 0 | 0 |  7.8542 | 0 | 1 |\n",
       "| 2 |  3 | 1 | 1 | female | 37 | 1 | 0 | 90.0000 | 0 | 0 |\n",
       "| 3 |  4 | 0 | 2 | male   | 36 | 0 | 0 | 13.0000 | 0 | 1 |\n",
       "| 4 |  5 | 1 | 1 | female | NA | 0 | 1 | 55.0000 | 0 | 1 |\n",
       "| 5 |  6 | 0 | 3 | male   | 30 | 0 | 0 |  8.0500 | 0 | 1 |\n",
       "| 6 | 10 | 0 | 3 | male   | 21 | 1 | 0 |  6.4958 | 0 | 1 |\n",
       "\n"
      ],
      "text/plain": [
       "  PassengerId Survived Pclass Sex    Age SibSp Parch Fare    Embarked_C\n",
       "1  2          0        3      male   29  0     0      7.8542 0         \n",
       "2  3          1        1      female 37  1     0     90.0000 0         \n",
       "3  4          0        2      male   36  0     0     13.0000 0         \n",
       "4  5          1        1      female NA  0     1     55.0000 0         \n",
       "5  6          0        3      male   30  0     0      8.0500 0         \n",
       "6 10          0        3      male   21  1     0      6.4958 0         \n",
       "  Embarked_S\n",
       "1 1         \n",
       "2 0         \n",
       "3 1         \n",
       "4 1         \n",
       "5 1         \n",
       "6 1         "
      ]
     },
     "metadata": {},
     "output_type": "display_data"
    },
    {
     "data": {
      "text/html": [
       "<table class=\"dataframe\">\n",
       "<caption>A data.frame: 6 × 10</caption>\n",
       "<thead>\n",
       "\t<tr><th></th><th scope=col>PassengerId</th><th scope=col>Survived</th><th scope=col>Pclass</th><th scope=col>Sex</th><th scope=col>Age</th><th scope=col>SibSp</th><th scope=col>Parch</th><th scope=col>Fare</th><th scope=col>Embarked_C</th><th scope=col>Embarked_S</th></tr>\n",
       "\t<tr><th></th><th scope=col>&lt;int&gt;</th><th scope=col>&lt;int&gt;</th><th scope=col>&lt;int&gt;</th><th scope=col>&lt;chr&gt;</th><th scope=col>&lt;dbl&gt;</th><th scope=col>&lt;int&gt;</th><th scope=col>&lt;int&gt;</th><th scope=col>&lt;dbl&gt;</th><th scope=col>&lt;dbl&gt;</th><th scope=col>&lt;dbl&gt;</th></tr>\n",
       "</thead>\n",
       "<tbody>\n",
       "\t<tr><th scope=row>886</th><td>1296</td><td>0</td><td>3</td><td>male  </td><td>NA</td><td>0</td><td>0</td><td> 7.7750</td><td>0</td><td>1</td></tr>\n",
       "\t<tr><th scope=row>887</th><td>1297</td><td>1</td><td>1</td><td>male  </td><td>36</td><td>0</td><td>0</td><td>26.3875</td><td>0</td><td>1</td></tr>\n",
       "\t<tr><th scope=row>888</th><td>1298</td><td>0</td><td>2</td><td>male  </td><td>22</td><td>2</td><td>0</td><td>31.5000</td><td>0</td><td>1</td></tr>\n",
       "\t<tr><th scope=row>889</th><td>1299</td><td>1</td><td>2</td><td>female</td><td>24</td><td>0</td><td>0</td><td>13.0000</td><td>0</td><td>1</td></tr>\n",
       "\t<tr><th scope=row>890</th><td>1303</td><td>0</td><td>3</td><td>male  </td><td>31</td><td>0</td><td>0</td><td> 7.7750</td><td>0</td><td>1</td></tr>\n",
       "\t<tr><th scope=row>891</th><td>1304</td><td>0</td><td>3</td><td>male  </td><td>21</td><td>0</td><td>0</td><td> 8.0500</td><td>0</td><td>1</td></tr>\n",
       "</tbody>\n",
       "</table>\n"
      ],
      "text/latex": [
       "A data.frame: 6 × 10\n",
       "\\begin{tabular}{r|llllllllll}\n",
       "  & PassengerId & Survived & Pclass & Sex & Age & SibSp & Parch & Fare & Embarked\\_C & Embarked\\_S\\\\\n",
       "  & <int> & <int> & <int> & <chr> & <dbl> & <int> & <int> & <dbl> & <dbl> & <dbl>\\\\\n",
       "\\hline\n",
       "\t886 & 1296 & 0 & 3 & male   & NA & 0 & 0 &  7.7750 & 0 & 1\\\\\n",
       "\t887 & 1297 & 1 & 1 & male   & 36 & 0 & 0 & 26.3875 & 0 & 1\\\\\n",
       "\t888 & 1298 & 0 & 2 & male   & 22 & 2 & 0 & 31.5000 & 0 & 1\\\\\n",
       "\t889 & 1299 & 1 & 2 & female & 24 & 0 & 0 & 13.0000 & 0 & 1\\\\\n",
       "\t890 & 1303 & 0 & 3 & male   & 31 & 0 & 0 &  7.7750 & 0 & 1\\\\\n",
       "\t891 & 1304 & 0 & 3 & male   & 21 & 0 & 0 &  8.0500 & 0 & 1\\\\\n",
       "\\end{tabular}\n"
      ],
      "text/markdown": [
       "\n",
       "A data.frame: 6 × 10\n",
       "\n",
       "| <!--/--> | PassengerId &lt;int&gt; | Survived &lt;int&gt; | Pclass &lt;int&gt; | Sex &lt;chr&gt; | Age &lt;dbl&gt; | SibSp &lt;int&gt; | Parch &lt;int&gt; | Fare &lt;dbl&gt; | Embarked_C &lt;dbl&gt; | Embarked_S &lt;dbl&gt; |\n",
       "|---|---|---|---|---|---|---|---|---|---|---|\n",
       "| 886 | 1296 | 0 | 3 | male   | NA | 0 | 0 |  7.7750 | 0 | 1 |\n",
       "| 887 | 1297 | 1 | 1 | male   | 36 | 0 | 0 | 26.3875 | 0 | 1 |\n",
       "| 888 | 1298 | 0 | 2 | male   | 22 | 2 | 0 | 31.5000 | 0 | 1 |\n",
       "| 889 | 1299 | 1 | 2 | female | 24 | 0 | 0 | 13.0000 | 0 | 1 |\n",
       "| 890 | 1303 | 0 | 3 | male   | 31 | 0 | 0 |  7.7750 | 0 | 1 |\n",
       "| 891 | 1304 | 0 | 3 | male   | 21 | 0 | 0 |  8.0500 | 0 | 1 |\n",
       "\n"
      ],
      "text/plain": [
       "    PassengerId Survived Pclass Sex    Age SibSp Parch Fare    Embarked_C\n",
       "886 1296        0        3      male   NA  0     0      7.7750 0         \n",
       "887 1297        1        1      male   36  0     0     26.3875 0         \n",
       "888 1298        0        2      male   22  2     0     31.5000 0         \n",
       "889 1299        1        2      female 24  0     0     13.0000 0         \n",
       "890 1303        0        3      male   31  0     0      7.7750 0         \n",
       "891 1304        0        3      male   21  0     0      8.0500 0         \n",
       "    Embarked_S\n",
       "886 1         \n",
       "887 1         \n",
       "888 1         \n",
       "889 1         \n",
       "890 1         \n",
       "891 1         "
      ]
     },
     "metadata": {},
     "output_type": "display_data"
    },
    {
     "name": "stdout",
     "output_type": "stream",
     "text": [
      "'data.frame':\t891 obs. of  10 variables:\n",
      " $ PassengerId: int  2 3 4 5 6 10 11 12 13 15 ...\n",
      " $ Survived   : int  0 1 0 1 0 0 1 0 0 1 ...\n",
      " $ Pclass     : int  3 1 2 1 3 3 1 3 3 2 ...\n",
      " $ Sex        : chr  \"male\" \"female\" \"male\" \"female\" ...\n",
      " $ Age        : num  29 37 36 NA 30 21 53 20 26 62 ...\n",
      " $ SibSp      : int  0 1 0 0 0 1 1 0 0 0 ...\n",
      " $ Parch      : int  0 0 0 1 0 0 1 0 0 0 ...\n",
      " $ Fare       : num  7.85 90 13 55 8.05 ...\n",
      " $ Embarked_C : num  0 0 0 0 0 0 0 0 0 0 ...\n",
      " $ Embarked_S : num  1 0 1 1 1 1 1 1 1 1 ...\n"
     ]
    },
    {
     "data": {
      "text/plain": [
       "  PassengerId        Survived          Pclass          Sex           \n",
       " Min.   :   2.0   Min.   :0.0000   Min.   :1.000   Length:891        \n",
       " 1st Qu.: 338.5   1st Qu.:0.0000   1st Qu.:2.000   Class :character  \n",
       " Median : 667.0   Median :0.0000   Median :3.000   Mode  :character  \n",
       " Mean   : 656.1   Mean   :0.3771   Mean   :2.293                     \n",
       " 3rd Qu.: 979.5   3rd Qu.:1.0000   3rd Qu.:3.000                     \n",
       " Max.   :1304.0   Max.   :1.0000   Max.   :3.000                     \n",
       "                                                                     \n",
       "      Age              SibSp            Parch            Fare        \n",
       " Min.   : 0.1667   Min.   :0.0000   Min.   :0.000   Min.   :  0.000  \n",
       " 1st Qu.:21.0000   1st Qu.:0.0000   1st Qu.:0.000   1st Qu.:  7.896  \n",
       " Median :28.0000   Median :0.0000   Median :0.000   Median : 14.500  \n",
       " Mean   :29.9936   Mean   :0.5286   Mean   :0.431   Mean   : 34.046  \n",
       " 3rd Qu.:39.0000   3rd Qu.:1.0000   3rd Qu.:0.000   3rd Qu.: 31.387  \n",
       " Max.   :80.0000   Max.   :8.0000   Max.   :9.000   Max.   :512.329  \n",
       " NA's   :172                                        NA's   :1        \n",
       "   Embarked_C      Embarked_S    \n",
       " Min.   :0.000   Min.   :0.0000  \n",
       " 1st Qu.:0.000   1st Qu.:0.0000  \n",
       " Median :0.000   Median :1.0000  \n",
       " Mean   :0.209   Mean   :0.6978  \n",
       " 3rd Qu.:0.000   3rd Qu.:1.0000  \n",
       " Max.   :1.000   Max.   :1.0000  \n",
       " NA's   :1       NA's   :1       "
      ]
     },
     "metadata": {},
     "output_type": "display_data"
    }
   ],
   "source": [
    "# visualizando o início do dataframe\n",
    "head(train_df)\n",
    "\n",
    "# visualizando o final do dataframe\n",
    "tail(train_df)\n",
    "\n",
    "# exibindo a estrutura dos dados\n",
    "str(train_df)\n",
    "\n",
    "# exibindo o sumário estatístico\n",
    "summary(train_df)"
   ]
  },
  {
   "cell_type": "markdown",
   "metadata": {},
   "source": [
    "Verificando e tratando valores faltantes no dataframe de treinamento:"
   ]
  },
  {
   "cell_type": "code",
   "execution_count": 138,
   "metadata": {
    "vscode": {
     "languageId": "r"
    }
   },
   "outputs": [
    {
     "data": {
      "text/html": [
       "<table class=\"dataframe\">\n",
       "<caption>A data.frame: 10 × 1</caption>\n",
       "<thead>\n",
       "\t<tr><th></th><th scope=col>colSums(is.na(train_df))</th></tr>\n",
       "\t<tr><th></th><th scope=col>&lt;dbl&gt;</th></tr>\n",
       "</thead>\n",
       "<tbody>\n",
       "\t<tr><th scope=row>PassengerId</th><td>  0</td></tr>\n",
       "\t<tr><th scope=row>Survived</th><td>  0</td></tr>\n",
       "\t<tr><th scope=row>Pclass</th><td>  0</td></tr>\n",
       "\t<tr><th scope=row>Sex</th><td>  0</td></tr>\n",
       "\t<tr><th scope=row>Age</th><td>172</td></tr>\n",
       "\t<tr><th scope=row>SibSp</th><td>  0</td></tr>\n",
       "\t<tr><th scope=row>Parch</th><td>  0</td></tr>\n",
       "\t<tr><th scope=row>Fare</th><td>  1</td></tr>\n",
       "\t<tr><th scope=row>Embarked_C</th><td>  1</td></tr>\n",
       "\t<tr><th scope=row>Embarked_S</th><td>  1</td></tr>\n",
       "</tbody>\n",
       "</table>\n"
      ],
      "text/latex": [
       "A data.frame: 10 × 1\n",
       "\\begin{tabular}{r|l}\n",
       "  & colSums(is.na(train\\_df))\\\\\n",
       "  & <dbl>\\\\\n",
       "\\hline\n",
       "\tPassengerId &   0\\\\\n",
       "\tSurvived &   0\\\\\n",
       "\tPclass &   0\\\\\n",
       "\tSex &   0\\\\\n",
       "\tAge & 172\\\\\n",
       "\tSibSp &   0\\\\\n",
       "\tParch &   0\\\\\n",
       "\tFare &   1\\\\\n",
       "\tEmbarked\\_C &   1\\\\\n",
       "\tEmbarked\\_S &   1\\\\\n",
       "\\end{tabular}\n"
      ],
      "text/markdown": [
       "\n",
       "A data.frame: 10 × 1\n",
       "\n",
       "| <!--/--> | colSums(is.na(train_df)) &lt;dbl&gt; |\n",
       "|---|---|\n",
       "| PassengerId |   0 |\n",
       "| Survived |   0 |\n",
       "| Pclass |   0 |\n",
       "| Sex |   0 |\n",
       "| Age | 172 |\n",
       "| SibSp |   0 |\n",
       "| Parch |   0 |\n",
       "| Fare |   1 |\n",
       "| Embarked_C |   1 |\n",
       "| Embarked_S |   1 |\n",
       "\n"
      ],
      "text/plain": [
       "            colSums(is.na(train_df))\n",
       "PassengerId   0                     \n",
       "Survived      0                     \n",
       "Pclass        0                     \n",
       "Sex           0                     \n",
       "Age         172                     \n",
       "SibSp         0                     \n",
       "Parch         0                     \n",
       "Fare          1                     \n",
       "Embarked_C    1                     \n",
       "Embarked_S    1                     "
      ]
     },
     "metadata": {},
     "output_type": "display_data"
    }
   ],
   "source": [
    "# verificando se existem valores faltantes no dataframe de treinamento (NAs)\n",
    "as.data.frame(colSums(is.na(train_df)))"
   ]
  },
  {
   "cell_type": "code",
   "execution_count": 139,
   "metadata": {
    "vscode": {
     "languageId": "r"
    }
   },
   "outputs": [],
   "source": [
    "# preenchendo os valores faltantes na variável \"Age\"\n",
    "train_df$Age[is.na(train_df$Age)] <- mean(train_df$Age, na.rm=T)\n",
    "\n",
    "# removendo os valores faltantes nas variáveis \"Fare\", \"Embarked_C\" e \"Embarked_S\"\n",
    "train_df = train_df[!is.na(train_df$Fare),]\n",
    "train_df = train_df[!is.na(train_df$Embarked_C),]\n",
    "train_df = train_df[!is.na(train_df$Embarked_S),]"
   ]
  },
  {
   "cell_type": "markdown",
   "metadata": {},
   "source": [
    "Valores faltantes tratados:"
   ]
  },
  {
   "cell_type": "code",
   "execution_count": 140,
   "metadata": {
    "vscode": {
     "languageId": "r"
    }
   },
   "outputs": [
    {
     "data": {
      "text/html": [
       "<table class=\"dataframe\">\n",
       "<caption>A data.frame: 10 × 1</caption>\n",
       "<thead>\n",
       "\t<tr><th></th><th scope=col>colSums(is.na(train_df))</th></tr>\n",
       "\t<tr><th></th><th scope=col>&lt;dbl&gt;</th></tr>\n",
       "</thead>\n",
       "<tbody>\n",
       "\t<tr><th scope=row>PassengerId</th><td>0</td></tr>\n",
       "\t<tr><th scope=row>Survived</th><td>0</td></tr>\n",
       "\t<tr><th scope=row>Pclass</th><td>0</td></tr>\n",
       "\t<tr><th scope=row>Sex</th><td>0</td></tr>\n",
       "\t<tr><th scope=row>Age</th><td>0</td></tr>\n",
       "\t<tr><th scope=row>SibSp</th><td>0</td></tr>\n",
       "\t<tr><th scope=row>Parch</th><td>0</td></tr>\n",
       "\t<tr><th scope=row>Fare</th><td>0</td></tr>\n",
       "\t<tr><th scope=row>Embarked_C</th><td>0</td></tr>\n",
       "\t<tr><th scope=row>Embarked_S</th><td>0</td></tr>\n",
       "</tbody>\n",
       "</table>\n"
      ],
      "text/latex": [
       "A data.frame: 10 × 1\n",
       "\\begin{tabular}{r|l}\n",
       "  & colSums(is.na(train\\_df))\\\\\n",
       "  & <dbl>\\\\\n",
       "\\hline\n",
       "\tPassengerId & 0\\\\\n",
       "\tSurvived & 0\\\\\n",
       "\tPclass & 0\\\\\n",
       "\tSex & 0\\\\\n",
       "\tAge & 0\\\\\n",
       "\tSibSp & 0\\\\\n",
       "\tParch & 0\\\\\n",
       "\tFare & 0\\\\\n",
       "\tEmbarked\\_C & 0\\\\\n",
       "\tEmbarked\\_S & 0\\\\\n",
       "\\end{tabular}\n"
      ],
      "text/markdown": [
       "\n",
       "A data.frame: 10 × 1\n",
       "\n",
       "| <!--/--> | colSums(is.na(train_df)) &lt;dbl&gt; |\n",
       "|---|---|\n",
       "| PassengerId | 0 |\n",
       "| Survived | 0 |\n",
       "| Pclass | 0 |\n",
       "| Sex | 0 |\n",
       "| Age | 0 |\n",
       "| SibSp | 0 |\n",
       "| Parch | 0 |\n",
       "| Fare | 0 |\n",
       "| Embarked_C | 0 |\n",
       "| Embarked_S | 0 |\n",
       "\n"
      ],
      "text/plain": [
       "            colSums(is.na(train_df))\n",
       "PassengerId 0                       \n",
       "Survived    0                       \n",
       "Pclass      0                       \n",
       "Sex         0                       \n",
       "Age         0                       \n",
       "SibSp       0                       \n",
       "Parch       0                       \n",
       "Fare        0                       \n",
       "Embarked_C  0                       \n",
       "Embarked_S  0                       "
      ]
     },
     "metadata": {},
     "output_type": "display_data"
    }
   ],
   "source": [
    "# verificando se existem valores faltantes no dataframe (NAs)\n",
    "as.data.frame(colSums(is.na(train_df)))"
   ]
  },
  {
   "cell_type": "markdown",
   "metadata": {},
   "source": [
    "Exibindo novamente o início e o final do dataframe de treinamento e seu sumário estatístico:"
   ]
  },
  {
   "cell_type": "code",
   "execution_count": 141,
   "metadata": {
    "vscode": {
     "languageId": "r"
    }
   },
   "outputs": [
    {
     "data": {
      "text/html": [
       "<table class=\"dataframe\">\n",
       "<caption>A data.frame: 6 × 10</caption>\n",
       "<thead>\n",
       "\t<tr><th></th><th scope=col>PassengerId</th><th scope=col>Survived</th><th scope=col>Pclass</th><th scope=col>Sex</th><th scope=col>Age</th><th scope=col>SibSp</th><th scope=col>Parch</th><th scope=col>Fare</th><th scope=col>Embarked_C</th><th scope=col>Embarked_S</th></tr>\n",
       "\t<tr><th></th><th scope=col>&lt;int&gt;</th><th scope=col>&lt;int&gt;</th><th scope=col>&lt;int&gt;</th><th scope=col>&lt;chr&gt;</th><th scope=col>&lt;dbl&gt;</th><th scope=col>&lt;int&gt;</th><th scope=col>&lt;int&gt;</th><th scope=col>&lt;dbl&gt;</th><th scope=col>&lt;dbl&gt;</th><th scope=col>&lt;dbl&gt;</th></tr>\n",
       "</thead>\n",
       "<tbody>\n",
       "\t<tr><th scope=row>1</th><td> 2</td><td>0</td><td>3</td><td>male  </td><td>29.00000</td><td>0</td><td>0</td><td> 7.8542</td><td>0</td><td>1</td></tr>\n",
       "\t<tr><th scope=row>2</th><td> 3</td><td>1</td><td>1</td><td>female</td><td>37.00000</td><td>1</td><td>0</td><td>90.0000</td><td>0</td><td>0</td></tr>\n",
       "\t<tr><th scope=row>3</th><td> 4</td><td>0</td><td>2</td><td>male  </td><td>36.00000</td><td>0</td><td>0</td><td>13.0000</td><td>0</td><td>1</td></tr>\n",
       "\t<tr><th scope=row>4</th><td> 5</td><td>1</td><td>1</td><td>female</td><td>29.99363</td><td>0</td><td>1</td><td>55.0000</td><td>0</td><td>1</td></tr>\n",
       "\t<tr><th scope=row>5</th><td> 6</td><td>0</td><td>3</td><td>male  </td><td>30.00000</td><td>0</td><td>0</td><td> 8.0500</td><td>0</td><td>1</td></tr>\n",
       "\t<tr><th scope=row>6</th><td>10</td><td>0</td><td>3</td><td>male  </td><td>21.00000</td><td>1</td><td>0</td><td> 6.4958</td><td>0</td><td>1</td></tr>\n",
       "</tbody>\n",
       "</table>\n"
      ],
      "text/latex": [
       "A data.frame: 6 × 10\n",
       "\\begin{tabular}{r|llllllllll}\n",
       "  & PassengerId & Survived & Pclass & Sex & Age & SibSp & Parch & Fare & Embarked\\_C & Embarked\\_S\\\\\n",
       "  & <int> & <int> & <int> & <chr> & <dbl> & <int> & <int> & <dbl> & <dbl> & <dbl>\\\\\n",
       "\\hline\n",
       "\t1 &  2 & 0 & 3 & male   & 29.00000 & 0 & 0 &  7.8542 & 0 & 1\\\\\n",
       "\t2 &  3 & 1 & 1 & female & 37.00000 & 1 & 0 & 90.0000 & 0 & 0\\\\\n",
       "\t3 &  4 & 0 & 2 & male   & 36.00000 & 0 & 0 & 13.0000 & 0 & 1\\\\\n",
       "\t4 &  5 & 1 & 1 & female & 29.99363 & 0 & 1 & 55.0000 & 0 & 1\\\\\n",
       "\t5 &  6 & 0 & 3 & male   & 30.00000 & 0 & 0 &  8.0500 & 0 & 1\\\\\n",
       "\t6 & 10 & 0 & 3 & male   & 21.00000 & 1 & 0 &  6.4958 & 0 & 1\\\\\n",
       "\\end{tabular}\n"
      ],
      "text/markdown": [
       "\n",
       "A data.frame: 6 × 10\n",
       "\n",
       "| <!--/--> | PassengerId &lt;int&gt; | Survived &lt;int&gt; | Pclass &lt;int&gt; | Sex &lt;chr&gt; | Age &lt;dbl&gt; | SibSp &lt;int&gt; | Parch &lt;int&gt; | Fare &lt;dbl&gt; | Embarked_C &lt;dbl&gt; | Embarked_S &lt;dbl&gt; |\n",
       "|---|---|---|---|---|---|---|---|---|---|---|\n",
       "| 1 |  2 | 0 | 3 | male   | 29.00000 | 0 | 0 |  7.8542 | 0 | 1 |\n",
       "| 2 |  3 | 1 | 1 | female | 37.00000 | 1 | 0 | 90.0000 | 0 | 0 |\n",
       "| 3 |  4 | 0 | 2 | male   | 36.00000 | 0 | 0 | 13.0000 | 0 | 1 |\n",
       "| 4 |  5 | 1 | 1 | female | 29.99363 | 0 | 1 | 55.0000 | 0 | 1 |\n",
       "| 5 |  6 | 0 | 3 | male   | 30.00000 | 0 | 0 |  8.0500 | 0 | 1 |\n",
       "| 6 | 10 | 0 | 3 | male   | 21.00000 | 1 | 0 |  6.4958 | 0 | 1 |\n",
       "\n"
      ],
      "text/plain": [
       "  PassengerId Survived Pclass Sex    Age      SibSp Parch Fare    Embarked_C\n",
       "1  2          0        3      male   29.00000 0     0      7.8542 0         \n",
       "2  3          1        1      female 37.00000 1     0     90.0000 0         \n",
       "3  4          0        2      male   36.00000 0     0     13.0000 0         \n",
       "4  5          1        1      female 29.99363 0     1     55.0000 0         \n",
       "5  6          0        3      male   30.00000 0     0      8.0500 0         \n",
       "6 10          0        3      male   21.00000 1     0      6.4958 0         \n",
       "  Embarked_S\n",
       "1 1         \n",
       "2 0         \n",
       "3 1         \n",
       "4 1         \n",
       "5 1         \n",
       "6 1         "
      ]
     },
     "metadata": {},
     "output_type": "display_data"
    },
    {
     "data": {
      "text/html": [
       "<table class=\"dataframe\">\n",
       "<caption>A data.frame: 6 × 10</caption>\n",
       "<thead>\n",
       "\t<tr><th></th><th scope=col>PassengerId</th><th scope=col>Survived</th><th scope=col>Pclass</th><th scope=col>Sex</th><th scope=col>Age</th><th scope=col>SibSp</th><th scope=col>Parch</th><th scope=col>Fare</th><th scope=col>Embarked_C</th><th scope=col>Embarked_S</th></tr>\n",
       "\t<tr><th></th><th scope=col>&lt;int&gt;</th><th scope=col>&lt;int&gt;</th><th scope=col>&lt;int&gt;</th><th scope=col>&lt;chr&gt;</th><th scope=col>&lt;dbl&gt;</th><th scope=col>&lt;int&gt;</th><th scope=col>&lt;int&gt;</th><th scope=col>&lt;dbl&gt;</th><th scope=col>&lt;dbl&gt;</th><th scope=col>&lt;dbl&gt;</th></tr>\n",
       "</thead>\n",
       "<tbody>\n",
       "\t<tr><th scope=row>886</th><td>1296</td><td>0</td><td>3</td><td>male  </td><td>29.99363</td><td>0</td><td>0</td><td> 7.7750</td><td>0</td><td>1</td></tr>\n",
       "\t<tr><th scope=row>887</th><td>1297</td><td>1</td><td>1</td><td>male  </td><td>36.00000</td><td>0</td><td>0</td><td>26.3875</td><td>0</td><td>1</td></tr>\n",
       "\t<tr><th scope=row>888</th><td>1298</td><td>0</td><td>2</td><td>male  </td><td>22.00000</td><td>2</td><td>0</td><td>31.5000</td><td>0</td><td>1</td></tr>\n",
       "\t<tr><th scope=row>889</th><td>1299</td><td>1</td><td>2</td><td>female</td><td>24.00000</td><td>0</td><td>0</td><td>13.0000</td><td>0</td><td>1</td></tr>\n",
       "\t<tr><th scope=row>890</th><td>1303</td><td>0</td><td>3</td><td>male  </td><td>31.00000</td><td>0</td><td>0</td><td> 7.7750</td><td>0</td><td>1</td></tr>\n",
       "\t<tr><th scope=row>891</th><td>1304</td><td>0</td><td>3</td><td>male  </td><td>21.00000</td><td>0</td><td>0</td><td> 8.0500</td><td>0</td><td>1</td></tr>\n",
       "</tbody>\n",
       "</table>\n"
      ],
      "text/latex": [
       "A data.frame: 6 × 10\n",
       "\\begin{tabular}{r|llllllllll}\n",
       "  & PassengerId & Survived & Pclass & Sex & Age & SibSp & Parch & Fare & Embarked\\_C & Embarked\\_S\\\\\n",
       "  & <int> & <int> & <int> & <chr> & <dbl> & <int> & <int> & <dbl> & <dbl> & <dbl>\\\\\n",
       "\\hline\n",
       "\t886 & 1296 & 0 & 3 & male   & 29.99363 & 0 & 0 &  7.7750 & 0 & 1\\\\\n",
       "\t887 & 1297 & 1 & 1 & male   & 36.00000 & 0 & 0 & 26.3875 & 0 & 1\\\\\n",
       "\t888 & 1298 & 0 & 2 & male   & 22.00000 & 2 & 0 & 31.5000 & 0 & 1\\\\\n",
       "\t889 & 1299 & 1 & 2 & female & 24.00000 & 0 & 0 & 13.0000 & 0 & 1\\\\\n",
       "\t890 & 1303 & 0 & 3 & male   & 31.00000 & 0 & 0 &  7.7750 & 0 & 1\\\\\n",
       "\t891 & 1304 & 0 & 3 & male   & 21.00000 & 0 & 0 &  8.0500 & 0 & 1\\\\\n",
       "\\end{tabular}\n"
      ],
      "text/markdown": [
       "\n",
       "A data.frame: 6 × 10\n",
       "\n",
       "| <!--/--> | PassengerId &lt;int&gt; | Survived &lt;int&gt; | Pclass &lt;int&gt; | Sex &lt;chr&gt; | Age &lt;dbl&gt; | SibSp &lt;int&gt; | Parch &lt;int&gt; | Fare &lt;dbl&gt; | Embarked_C &lt;dbl&gt; | Embarked_S &lt;dbl&gt; |\n",
       "|---|---|---|---|---|---|---|---|---|---|---|\n",
       "| 886 | 1296 | 0 | 3 | male   | 29.99363 | 0 | 0 |  7.7750 | 0 | 1 |\n",
       "| 887 | 1297 | 1 | 1 | male   | 36.00000 | 0 | 0 | 26.3875 | 0 | 1 |\n",
       "| 888 | 1298 | 0 | 2 | male   | 22.00000 | 2 | 0 | 31.5000 | 0 | 1 |\n",
       "| 889 | 1299 | 1 | 2 | female | 24.00000 | 0 | 0 | 13.0000 | 0 | 1 |\n",
       "| 890 | 1303 | 0 | 3 | male   | 31.00000 | 0 | 0 |  7.7750 | 0 | 1 |\n",
       "| 891 | 1304 | 0 | 3 | male   | 21.00000 | 0 | 0 |  8.0500 | 0 | 1 |\n",
       "\n"
      ],
      "text/plain": [
       "    PassengerId Survived Pclass Sex    Age      SibSp Parch Fare    Embarked_C\n",
       "886 1296        0        3      male   29.99363 0     0      7.7750 0         \n",
       "887 1297        1        1      male   36.00000 0     0     26.3875 0         \n",
       "888 1298        0        2      male   22.00000 2     0     31.5000 0         \n",
       "889 1299        1        2      female 24.00000 0     0     13.0000 0         \n",
       "890 1303        0        3      male   31.00000 0     0      7.7750 0         \n",
       "891 1304        0        3      male   21.00000 0     0      8.0500 0         \n",
       "    Embarked_S\n",
       "886 1         \n",
       "887 1         \n",
       "888 1         \n",
       "889 1         \n",
       "890 1         \n",
       "891 1         "
      ]
     },
     "metadata": {},
     "output_type": "display_data"
    },
    {
     "data": {
      "text/plain": [
       "  PassengerId        Survived          Pclass          Sex           \n",
       " Min.   :   2.0   Min.   :0.0000   Min.   :1.000   Length:889        \n",
       " 1st Qu.: 339.0   1st Qu.:0.0000   1st Qu.:2.000   Class :character  \n",
       " Median : 668.0   Median :0.0000   Median :3.000   Mode  :character  \n",
       " Mean   : 656.8   Mean   :0.3768   Mean   :2.294                     \n",
       " 3rd Qu.: 980.0   3rd Qu.:1.0000   3rd Qu.:3.000                     \n",
       " Max.   :1304.0   Max.   :1.0000   Max.   :3.000                     \n",
       "      Age              SibSp            Parch             Fare        \n",
       " Min.   : 0.1667   Min.   :0.0000   Min.   :0.0000   Min.   :  0.000  \n",
       " 1st Qu.:22.0000   1st Qu.:0.0000   1st Qu.:0.0000   1st Qu.:  7.896  \n",
       " Median :29.9936   Median :0.0000   Median :0.0000   Median : 14.500  \n",
       " Mean   :29.9233   Mean   :0.5298   Mean   :0.4319   Mean   : 33.995  \n",
       " 3rd Qu.:35.0000   3rd Qu.:1.0000   3rd Qu.:0.0000   3rd Qu.: 31.387  \n",
       " Max.   :80.0000   Max.   :8.0000   Max.   :9.0000   Max.   :512.329  \n",
       "   Embarked_C       Embarked_S    \n",
       " Min.   :0.0000   Min.   :0.0000  \n",
       " 1st Qu.:0.0000   1st Qu.:0.0000  \n",
       " Median :0.0000   Median :1.0000  \n",
       " Mean   :0.2092   Mean   :0.6974  \n",
       " 3rd Qu.:0.0000   3rd Qu.:1.0000  \n",
       " Max.   :1.0000   Max.   :1.0000  "
      ]
     },
     "metadata": {},
     "output_type": "display_data"
    }
   ],
   "source": [
    "# visualizando o início do dataframe\n",
    "head(train_df)\n",
    "\n",
    "# visualizando o final do dataframe\n",
    "tail(train_df)\n",
    "\n",
    "# exibindo o sumário estatístico\n",
    "summary(train_df)"
   ]
  },
  {
   "cell_type": "markdown",
   "metadata": {},
   "source": [
    "Carregando o dataset de teste, gerando um dataframe com as variáveis relevantes, exibindo sua estrutura e seu sumário estatístico:"
   ]
  },
  {
   "cell_type": "code",
   "execution_count": 142,
   "metadata": {
    "vscode": {
     "languageId": "r"
    }
   },
   "outputs": [],
   "source": [
    "# lendo o dataset\n",
    "data_test <- read.csv('titanic_dw_test.csv', sep=\",\", header=T)\n",
    "\n",
    "# criando um dataframe com as variáveis relevantes a partir do dataset\n",
    "test_df <- as.data.frame(data_test[,c('PassengerId', 'Pclass', 'Sex', 'Age',\n",
    "                                      'SibSp', 'Parch', 'Fare', 'Embarked')])"
   ]
  },
  {
   "cell_type": "markdown",
   "metadata": {},
   "source": [
    "Realizando tratamentos no dataframe de teste, conforme realizado no dataframe de treinamento:"
   ]
  },
  {
   "cell_type": "code",
   "execution_count": 143,
   "metadata": {
    "vscode": {
     "languageId": "r"
    }
   },
   "outputs": [],
   "source": [
    "# criando 2 variáveis \"dummy\" a partir da variável \"Embarked\"\n",
    "test_df$Embarked_C = ifelse(test_df$Embarked==\"C\", 1, 0)\n",
    "test_df$Embarked_S = ifelse(test_df$Embarked==\"S\", 1, 0)\n",
    "\n",
    "# removendo a variável \"Embarked\" do dataframe\n",
    "test_df$Embarked <- NULL\n",
    "\n",
    "# criando a variável \"Survived\" no dataframe e preenchendo com NA\n",
    "# test_df$Survived <- NA"
   ]
  },
  {
   "cell_type": "code",
   "execution_count": 144,
   "metadata": {
    "vscode": {
     "languageId": "r"
    }
   },
   "outputs": [
    {
     "data": {
      "text/html": [
       "<table class=\"dataframe\">\n",
       "<caption>A data.frame: 6 × 9</caption>\n",
       "<thead>\n",
       "\t<tr><th></th><th scope=col>PassengerId</th><th scope=col>Pclass</th><th scope=col>Sex</th><th scope=col>Age</th><th scope=col>SibSp</th><th scope=col>Parch</th><th scope=col>Fare</th><th scope=col>Embarked_C</th><th scope=col>Embarked_S</th></tr>\n",
       "\t<tr><th></th><th scope=col>&lt;int&gt;</th><th scope=col>&lt;int&gt;</th><th scope=col>&lt;chr&gt;</th><th scope=col>&lt;dbl&gt;</th><th scope=col>&lt;int&gt;</th><th scope=col>&lt;int&gt;</th><th scope=col>&lt;dbl&gt;</th><th scope=col>&lt;dbl&gt;</th><th scope=col>&lt;dbl&gt;</th></tr>\n",
       "</thead>\n",
       "<tbody>\n",
       "\t<tr><th scope=row>1</th><td> 1</td><td>2</td><td>male  </td><td>41</td><td>0</td><td>0</td><td>15.0458</td><td>1</td><td>0</td></tr>\n",
       "\t<tr><th scope=row>2</th><td> 7</td><td>3</td><td>male  </td><td>26</td><td>0</td><td>0</td><td>56.4958</td><td>0</td><td>1</td></tr>\n",
       "\t<tr><th scope=row>3</th><td> 8</td><td>1</td><td>female</td><td>54</td><td>1</td><td>0</td><td>78.2667</td><td>1</td><td>0</td></tr>\n",
       "\t<tr><th scope=row>4</th><td> 9</td><td>1</td><td>female</td><td>48</td><td>1</td><td>1</td><td>79.2000</td><td>1</td><td>0</td></tr>\n",
       "\t<tr><th scope=row>5</th><td>14</td><td>1</td><td>male  </td><td>62</td><td>0</td><td>0</td><td>26.5500</td><td>0</td><td>1</td></tr>\n",
       "\t<tr><th scope=row>6</th><td>16</td><td>1</td><td>female</td><td>36</td><td>0</td><td>2</td><td>71.0000</td><td>0</td><td>1</td></tr>\n",
       "</tbody>\n",
       "</table>\n"
      ],
      "text/latex": [
       "A data.frame: 6 × 9\n",
       "\\begin{tabular}{r|lllllllll}\n",
       "  & PassengerId & Pclass & Sex & Age & SibSp & Parch & Fare & Embarked\\_C & Embarked\\_S\\\\\n",
       "  & <int> & <int> & <chr> & <dbl> & <int> & <int> & <dbl> & <dbl> & <dbl>\\\\\n",
       "\\hline\n",
       "\t1 &  1 & 2 & male   & 41 & 0 & 0 & 15.0458 & 1 & 0\\\\\n",
       "\t2 &  7 & 3 & male   & 26 & 0 & 0 & 56.4958 & 0 & 1\\\\\n",
       "\t3 &  8 & 1 & female & 54 & 1 & 0 & 78.2667 & 1 & 0\\\\\n",
       "\t4 &  9 & 1 & female & 48 & 1 & 1 & 79.2000 & 1 & 0\\\\\n",
       "\t5 & 14 & 1 & male   & 62 & 0 & 0 & 26.5500 & 0 & 1\\\\\n",
       "\t6 & 16 & 1 & female & 36 & 0 & 2 & 71.0000 & 0 & 1\\\\\n",
       "\\end{tabular}\n"
      ],
      "text/markdown": [
       "\n",
       "A data.frame: 6 × 9\n",
       "\n",
       "| <!--/--> | PassengerId &lt;int&gt; | Pclass &lt;int&gt; | Sex &lt;chr&gt; | Age &lt;dbl&gt; | SibSp &lt;int&gt; | Parch &lt;int&gt; | Fare &lt;dbl&gt; | Embarked_C &lt;dbl&gt; | Embarked_S &lt;dbl&gt; |\n",
       "|---|---|---|---|---|---|---|---|---|---|\n",
       "| 1 |  1 | 2 | male   | 41 | 0 | 0 | 15.0458 | 1 | 0 |\n",
       "| 2 |  7 | 3 | male   | 26 | 0 | 0 | 56.4958 | 0 | 1 |\n",
       "| 3 |  8 | 1 | female | 54 | 1 | 0 | 78.2667 | 1 | 0 |\n",
       "| 4 |  9 | 1 | female | 48 | 1 | 1 | 79.2000 | 1 | 0 |\n",
       "| 5 | 14 | 1 | male   | 62 | 0 | 0 | 26.5500 | 0 | 1 |\n",
       "| 6 | 16 | 1 | female | 36 | 0 | 2 | 71.0000 | 0 | 1 |\n",
       "\n"
      ],
      "text/plain": [
       "  PassengerId Pclass Sex    Age SibSp Parch Fare    Embarked_C Embarked_S\n",
       "1  1          2      male   41  0     0     15.0458 1          0         \n",
       "2  7          3      male   26  0     0     56.4958 0          1         \n",
       "3  8          1      female 54  1     0     78.2667 1          0         \n",
       "4  9          1      female 48  1     1     79.2000 1          0         \n",
       "5 14          1      male   62  0     0     26.5500 0          1         \n",
       "6 16          1      female 36  0     2     71.0000 0          1         "
      ]
     },
     "metadata": {},
     "output_type": "display_data"
    },
    {
     "data": {
      "text/html": [
       "<table class=\"dataframe\">\n",
       "<caption>A data.frame: 6 × 9</caption>\n",
       "<thead>\n",
       "\t<tr><th></th><th scope=col>PassengerId</th><th scope=col>Pclass</th><th scope=col>Sex</th><th scope=col>Age</th><th scope=col>SibSp</th><th scope=col>Parch</th><th scope=col>Fare</th><th scope=col>Embarked_C</th><th scope=col>Embarked_S</th></tr>\n",
       "\t<tr><th></th><th scope=col>&lt;int&gt;</th><th scope=col>&lt;int&gt;</th><th scope=col>&lt;chr&gt;</th><th scope=col>&lt;dbl&gt;</th><th scope=col>&lt;int&gt;</th><th scope=col>&lt;int&gt;</th><th scope=col>&lt;dbl&gt;</th><th scope=col>&lt;dbl&gt;</th><th scope=col>&lt;dbl&gt;</th></tr>\n",
       "</thead>\n",
       "<tbody>\n",
       "\t<tr><th scope=row>413</th><td>1302</td><td>2</td><td>male</td><td>28</td><td>0</td><td>0</td><td>10.500</td><td>0</td><td>1</td></tr>\n",
       "\t<tr><th scope=row>414</th><td>1305</td><td>1</td><td>male</td><td>NA</td><td>0</td><td>0</td><td>35.500</td><td>0</td><td>1</td></tr>\n",
       "\t<tr><th scope=row>415</th><td>1306</td><td>3</td><td>male</td><td>28</td><td>0</td><td>0</td><td> 9.500</td><td>0</td><td>1</td></tr>\n",
       "\t<tr><th scope=row>416</th><td>1307</td><td>3</td><td>male</td><td>21</td><td>0</td><td>0</td><td> 7.750</td><td>0</td><td>0</td></tr>\n",
       "\t<tr><th scope=row>417</th><td>1308</td><td>2</td><td>male</td><td>39</td><td>0</td><td>0</td><td>26.000</td><td>0</td><td>1</td></tr>\n",
       "\t<tr><th scope=row>418</th><td>1309</td><td>3</td><td>male</td><td>16</td><td>0</td><td>0</td><td> 7.775</td><td>0</td><td>1</td></tr>\n",
       "</tbody>\n",
       "</table>\n"
      ],
      "text/latex": [
       "A data.frame: 6 × 9\n",
       "\\begin{tabular}{r|lllllllll}\n",
       "  & PassengerId & Pclass & Sex & Age & SibSp & Parch & Fare & Embarked\\_C & Embarked\\_S\\\\\n",
       "  & <int> & <int> & <chr> & <dbl> & <int> & <int> & <dbl> & <dbl> & <dbl>\\\\\n",
       "\\hline\n",
       "\t413 & 1302 & 2 & male & 28 & 0 & 0 & 10.500 & 0 & 1\\\\\n",
       "\t414 & 1305 & 1 & male & NA & 0 & 0 & 35.500 & 0 & 1\\\\\n",
       "\t415 & 1306 & 3 & male & 28 & 0 & 0 &  9.500 & 0 & 1\\\\\n",
       "\t416 & 1307 & 3 & male & 21 & 0 & 0 &  7.750 & 0 & 0\\\\\n",
       "\t417 & 1308 & 2 & male & 39 & 0 & 0 & 26.000 & 0 & 1\\\\\n",
       "\t418 & 1309 & 3 & male & 16 & 0 & 0 &  7.775 & 0 & 1\\\\\n",
       "\\end{tabular}\n"
      ],
      "text/markdown": [
       "\n",
       "A data.frame: 6 × 9\n",
       "\n",
       "| <!--/--> | PassengerId &lt;int&gt; | Pclass &lt;int&gt; | Sex &lt;chr&gt; | Age &lt;dbl&gt; | SibSp &lt;int&gt; | Parch &lt;int&gt; | Fare &lt;dbl&gt; | Embarked_C &lt;dbl&gt; | Embarked_S &lt;dbl&gt; |\n",
       "|---|---|---|---|---|---|---|---|---|---|\n",
       "| 413 | 1302 | 2 | male | 28 | 0 | 0 | 10.500 | 0 | 1 |\n",
       "| 414 | 1305 | 1 | male | NA | 0 | 0 | 35.500 | 0 | 1 |\n",
       "| 415 | 1306 | 3 | male | 28 | 0 | 0 |  9.500 | 0 | 1 |\n",
       "| 416 | 1307 | 3 | male | 21 | 0 | 0 |  7.750 | 0 | 0 |\n",
       "| 417 | 1308 | 2 | male | 39 | 0 | 0 | 26.000 | 0 | 1 |\n",
       "| 418 | 1309 | 3 | male | 16 | 0 | 0 |  7.775 | 0 | 1 |\n",
       "\n"
      ],
      "text/plain": [
       "    PassengerId Pclass Sex  Age SibSp Parch Fare   Embarked_C Embarked_S\n",
       "413 1302        2      male 28  0     0     10.500 0          1         \n",
       "414 1305        1      male NA  0     0     35.500 0          1         \n",
       "415 1306        3      male 28  0     0      9.500 0          1         \n",
       "416 1307        3      male 21  0     0      7.750 0          0         \n",
       "417 1308        2      male 39  0     0     26.000 0          1         \n",
       "418 1309        3      male 16  0     0      7.775 0          1         "
      ]
     },
     "metadata": {},
     "output_type": "display_data"
    },
    {
     "name": "stdout",
     "output_type": "stream",
     "text": [
      "'data.frame':\t418 obs. of  9 variables:\n",
      " $ PassengerId: int  1 7 8 9 14 16 20 23 29 37 ...\n",
      " $ Pclass     : int  2 3 1 1 1 1 3 3 1 3 ...\n",
      " $ Sex        : chr  \"male\" \"male\" \"female\" \"female\" ...\n",
      " $ Age        : num  41 26 54 48 62 36 21 NA 45 22 ...\n",
      " $ SibSp      : int  0 0 1 1 0 0 2 0 0 0 ...\n",
      " $ Parch      : int  0 0 0 1 0 2 0 0 0 0 ...\n",
      " $ Fare       : num  15 56.5 78.3 79.2 26.6 ...\n",
      " $ Embarked_C : num  1 0 1 1 0 0 0 0 0 1 ...\n",
      " $ Embarked_S : num  0 1 0 0 1 1 1 1 1 0 ...\n"
     ]
    },
    {
     "data": {
      "text/plain": [
       "  PassengerId         Pclass          Sex                 Age       \n",
       " Min.   :   1.0   Min.   :1.000   Length:418         Min.   : 0.75  \n",
       " 1st Qu.: 313.2   1st Qu.:2.000   Class :character   1st Qu.:21.00  \n",
       " Median : 638.5   Median :3.000   Mode  :character   Median :28.00  \n",
       " Mean   : 652.7   Mean   :2.299                      Mean   :29.63  \n",
       " 3rd Qu.: 983.8   3rd Qu.:3.000                      3rd Qu.:38.00  \n",
       " Max.   :1309.0   Max.   :3.000                      Max.   :65.00  \n",
       "                                                     NA's   :91     \n",
       "     SibSp            Parch             Fare           Embarked_C    \n",
       " Min.   :0.0000   Min.   :0.0000   Min.   :  0.000   Min.   :0.0000  \n",
       " 1st Qu.:0.0000   1st Qu.:0.0000   1st Qu.:  7.896   1st Qu.:0.0000  \n",
       " Median :0.0000   Median :0.0000   Median : 13.500   Median :0.0000  \n",
       " Mean   :0.4354   Mean   :0.2871   Mean   : 31.697   Mean   :0.2014  \n",
       " 3rd Qu.:1.0000   3rd Qu.:0.0000   3rd Qu.: 29.125   3rd Qu.:0.0000  \n",
       " Max.   :8.0000   Max.   :4.0000   Max.   :263.000   Max.   :1.0000  \n",
       "                                                     NA's   :1       \n",
       "   Embarked_S    \n",
       " Min.   :0.0000  \n",
       " 1st Qu.:0.0000  \n",
       " Median :1.0000  \n",
       " Mean   :0.7026  \n",
       " 3rd Qu.:1.0000  \n",
       " Max.   :1.0000  \n",
       " NA's   :1       "
      ]
     },
     "metadata": {},
     "output_type": "display_data"
    }
   ],
   "source": [
    "# visualizando o início do dataframe\n",
    "head(test_df)\n",
    "\n",
    "# visualizando o final do dataframe\n",
    "tail(test_df)\n",
    "\n",
    "# exibindo a estrutura dos dados\n",
    "str(test_df)\n",
    "\n",
    "# exibindo o sumário estatístico\n",
    "summary(test_df)"
   ]
  },
  {
   "cell_type": "markdown",
   "metadata": {},
   "source": [
    "Verificando e tratando valores faltantes no dataframe de teste:"
   ]
  },
  {
   "cell_type": "code",
   "execution_count": 145,
   "metadata": {
    "vscode": {
     "languageId": "r"
    }
   },
   "outputs": [
    {
     "data": {
      "text/html": [
       "<table class=\"dataframe\">\n",
       "<caption>A data.frame: 9 × 1</caption>\n",
       "<thead>\n",
       "\t<tr><th></th><th scope=col>colSums(is.na(test_df))</th></tr>\n",
       "\t<tr><th></th><th scope=col>&lt;dbl&gt;</th></tr>\n",
       "</thead>\n",
       "<tbody>\n",
       "\t<tr><th scope=row>PassengerId</th><td> 0</td></tr>\n",
       "\t<tr><th scope=row>Pclass</th><td> 0</td></tr>\n",
       "\t<tr><th scope=row>Sex</th><td> 0</td></tr>\n",
       "\t<tr><th scope=row>Age</th><td>91</td></tr>\n",
       "\t<tr><th scope=row>SibSp</th><td> 0</td></tr>\n",
       "\t<tr><th scope=row>Parch</th><td> 0</td></tr>\n",
       "\t<tr><th scope=row>Fare</th><td> 0</td></tr>\n",
       "\t<tr><th scope=row>Embarked_C</th><td> 1</td></tr>\n",
       "\t<tr><th scope=row>Embarked_S</th><td> 1</td></tr>\n",
       "</tbody>\n",
       "</table>\n"
      ],
      "text/latex": [
       "A data.frame: 9 × 1\n",
       "\\begin{tabular}{r|l}\n",
       "  & colSums(is.na(test\\_df))\\\\\n",
       "  & <dbl>\\\\\n",
       "\\hline\n",
       "\tPassengerId &  0\\\\\n",
       "\tPclass &  0\\\\\n",
       "\tSex &  0\\\\\n",
       "\tAge & 91\\\\\n",
       "\tSibSp &  0\\\\\n",
       "\tParch &  0\\\\\n",
       "\tFare &  0\\\\\n",
       "\tEmbarked\\_C &  1\\\\\n",
       "\tEmbarked\\_S &  1\\\\\n",
       "\\end{tabular}\n"
      ],
      "text/markdown": [
       "\n",
       "A data.frame: 9 × 1\n",
       "\n",
       "| <!--/--> | colSums(is.na(test_df)) &lt;dbl&gt; |\n",
       "|---|---|\n",
       "| PassengerId |  0 |\n",
       "| Pclass |  0 |\n",
       "| Sex |  0 |\n",
       "| Age | 91 |\n",
       "| SibSp |  0 |\n",
       "| Parch |  0 |\n",
       "| Fare |  0 |\n",
       "| Embarked_C |  1 |\n",
       "| Embarked_S |  1 |\n",
       "\n"
      ],
      "text/plain": [
       "            colSums(is.na(test_df))\n",
       "PassengerId  0                     \n",
       "Pclass       0                     \n",
       "Sex          0                     \n",
       "Age         91                     \n",
       "SibSp        0                     \n",
       "Parch        0                     \n",
       "Fare         0                     \n",
       "Embarked_C   1                     \n",
       "Embarked_S   1                     "
      ]
     },
     "metadata": {},
     "output_type": "display_data"
    }
   ],
   "source": [
    "# verificando se existem valores faltantes no dataframe (NAs)\n",
    "as.data.frame(colSums(is.na(test_df)))"
   ]
  },
  {
   "cell_type": "code",
   "execution_count": 146,
   "metadata": {
    "vscode": {
     "languageId": "r"
    }
   },
   "outputs": [],
   "source": [
    "# preenchendo os valores faltantes na variável \"Age\"\n",
    "test_df$Age[is.na(test_df$Age)] <- mean(test_df$Age, na.rm=T)\n",
    "\n",
    "# removendo os valores faltantes nas variáveis \"Fare\", \"Embarked_C\" e \"Embarked_S\"\n",
    "test_df = test_df[!is.na(test_df$Fare),]\n",
    "test_df = test_df[!is.na(test_df$Embarked_C),]\n",
    "test_df = test_df[!is.na(test_df$Embarked_S),]"
   ]
  },
  {
   "cell_type": "markdown",
   "metadata": {},
   "source": [
    "Valores faltantes tratados:"
   ]
  },
  {
   "cell_type": "code",
   "execution_count": 147,
   "metadata": {
    "vscode": {
     "languageId": "r"
    }
   },
   "outputs": [
    {
     "data": {
      "text/html": [
       "<table class=\"dataframe\">\n",
       "<caption>A data.frame: 9 × 1</caption>\n",
       "<thead>\n",
       "\t<tr><th></th><th scope=col>colSums(is.na(test_df))</th></tr>\n",
       "\t<tr><th></th><th scope=col>&lt;dbl&gt;</th></tr>\n",
       "</thead>\n",
       "<tbody>\n",
       "\t<tr><th scope=row>PassengerId</th><td>0</td></tr>\n",
       "\t<tr><th scope=row>Pclass</th><td>0</td></tr>\n",
       "\t<tr><th scope=row>Sex</th><td>0</td></tr>\n",
       "\t<tr><th scope=row>Age</th><td>0</td></tr>\n",
       "\t<tr><th scope=row>SibSp</th><td>0</td></tr>\n",
       "\t<tr><th scope=row>Parch</th><td>0</td></tr>\n",
       "\t<tr><th scope=row>Fare</th><td>0</td></tr>\n",
       "\t<tr><th scope=row>Embarked_C</th><td>0</td></tr>\n",
       "\t<tr><th scope=row>Embarked_S</th><td>0</td></tr>\n",
       "</tbody>\n",
       "</table>\n"
      ],
      "text/latex": [
       "A data.frame: 9 × 1\n",
       "\\begin{tabular}{r|l}\n",
       "  & colSums(is.na(test\\_df))\\\\\n",
       "  & <dbl>\\\\\n",
       "\\hline\n",
       "\tPassengerId & 0\\\\\n",
       "\tPclass & 0\\\\\n",
       "\tSex & 0\\\\\n",
       "\tAge & 0\\\\\n",
       "\tSibSp & 0\\\\\n",
       "\tParch & 0\\\\\n",
       "\tFare & 0\\\\\n",
       "\tEmbarked\\_C & 0\\\\\n",
       "\tEmbarked\\_S & 0\\\\\n",
       "\\end{tabular}\n"
      ],
      "text/markdown": [
       "\n",
       "A data.frame: 9 × 1\n",
       "\n",
       "| <!--/--> | colSums(is.na(test_df)) &lt;dbl&gt; |\n",
       "|---|---|\n",
       "| PassengerId | 0 |\n",
       "| Pclass | 0 |\n",
       "| Sex | 0 |\n",
       "| Age | 0 |\n",
       "| SibSp | 0 |\n",
       "| Parch | 0 |\n",
       "| Fare | 0 |\n",
       "| Embarked_C | 0 |\n",
       "| Embarked_S | 0 |\n",
       "\n"
      ],
      "text/plain": [
       "            colSums(is.na(test_df))\n",
       "PassengerId 0                      \n",
       "Pclass      0                      \n",
       "Sex         0                      \n",
       "Age         0                      \n",
       "SibSp       0                      \n",
       "Parch       0                      \n",
       "Fare        0                      \n",
       "Embarked_C  0                      \n",
       "Embarked_S  0                      "
      ]
     },
     "metadata": {},
     "output_type": "display_data"
    }
   ],
   "source": [
    "# verificando se existem valores faltantes no dataframe (NAs)\n",
    "as.data.frame(colSums(is.na(test_df)))"
   ]
  },
  {
   "cell_type": "markdown",
   "metadata": {},
   "source": [
    "Exibindo novamente o início e o final do dataframe de teste e seu sumário estatístico:"
   ]
  },
  {
   "cell_type": "code",
   "execution_count": 148,
   "metadata": {
    "vscode": {
     "languageId": "r"
    }
   },
   "outputs": [
    {
     "data": {
      "text/html": [
       "<table class=\"dataframe\">\n",
       "<caption>A data.frame: 6 × 9</caption>\n",
       "<thead>\n",
       "\t<tr><th></th><th scope=col>PassengerId</th><th scope=col>Pclass</th><th scope=col>Sex</th><th scope=col>Age</th><th scope=col>SibSp</th><th scope=col>Parch</th><th scope=col>Fare</th><th scope=col>Embarked_C</th><th scope=col>Embarked_S</th></tr>\n",
       "\t<tr><th></th><th scope=col>&lt;int&gt;</th><th scope=col>&lt;int&gt;</th><th scope=col>&lt;chr&gt;</th><th scope=col>&lt;dbl&gt;</th><th scope=col>&lt;int&gt;</th><th scope=col>&lt;int&gt;</th><th scope=col>&lt;dbl&gt;</th><th scope=col>&lt;dbl&gt;</th><th scope=col>&lt;dbl&gt;</th></tr>\n",
       "</thead>\n",
       "<tbody>\n",
       "\t<tr><th scope=row>1</th><td> 1</td><td>2</td><td>male  </td><td>41</td><td>0</td><td>0</td><td>15.0458</td><td>1</td><td>0</td></tr>\n",
       "\t<tr><th scope=row>2</th><td> 7</td><td>3</td><td>male  </td><td>26</td><td>0</td><td>0</td><td>56.4958</td><td>0</td><td>1</td></tr>\n",
       "\t<tr><th scope=row>3</th><td> 8</td><td>1</td><td>female</td><td>54</td><td>1</td><td>0</td><td>78.2667</td><td>1</td><td>0</td></tr>\n",
       "\t<tr><th scope=row>4</th><td> 9</td><td>1</td><td>female</td><td>48</td><td>1</td><td>1</td><td>79.2000</td><td>1</td><td>0</td></tr>\n",
       "\t<tr><th scope=row>5</th><td>14</td><td>1</td><td>male  </td><td>62</td><td>0</td><td>0</td><td>26.5500</td><td>0</td><td>1</td></tr>\n",
       "\t<tr><th scope=row>6</th><td>16</td><td>1</td><td>female</td><td>36</td><td>0</td><td>2</td><td>71.0000</td><td>0</td><td>1</td></tr>\n",
       "</tbody>\n",
       "</table>\n"
      ],
      "text/latex": [
       "A data.frame: 6 × 9\n",
       "\\begin{tabular}{r|lllllllll}\n",
       "  & PassengerId & Pclass & Sex & Age & SibSp & Parch & Fare & Embarked\\_C & Embarked\\_S\\\\\n",
       "  & <int> & <int> & <chr> & <dbl> & <int> & <int> & <dbl> & <dbl> & <dbl>\\\\\n",
       "\\hline\n",
       "\t1 &  1 & 2 & male   & 41 & 0 & 0 & 15.0458 & 1 & 0\\\\\n",
       "\t2 &  7 & 3 & male   & 26 & 0 & 0 & 56.4958 & 0 & 1\\\\\n",
       "\t3 &  8 & 1 & female & 54 & 1 & 0 & 78.2667 & 1 & 0\\\\\n",
       "\t4 &  9 & 1 & female & 48 & 1 & 1 & 79.2000 & 1 & 0\\\\\n",
       "\t5 & 14 & 1 & male   & 62 & 0 & 0 & 26.5500 & 0 & 1\\\\\n",
       "\t6 & 16 & 1 & female & 36 & 0 & 2 & 71.0000 & 0 & 1\\\\\n",
       "\\end{tabular}\n"
      ],
      "text/markdown": [
       "\n",
       "A data.frame: 6 × 9\n",
       "\n",
       "| <!--/--> | PassengerId &lt;int&gt; | Pclass &lt;int&gt; | Sex &lt;chr&gt; | Age &lt;dbl&gt; | SibSp &lt;int&gt; | Parch &lt;int&gt; | Fare &lt;dbl&gt; | Embarked_C &lt;dbl&gt; | Embarked_S &lt;dbl&gt; |\n",
       "|---|---|---|---|---|---|---|---|---|---|\n",
       "| 1 |  1 | 2 | male   | 41 | 0 | 0 | 15.0458 | 1 | 0 |\n",
       "| 2 |  7 | 3 | male   | 26 | 0 | 0 | 56.4958 | 0 | 1 |\n",
       "| 3 |  8 | 1 | female | 54 | 1 | 0 | 78.2667 | 1 | 0 |\n",
       "| 4 |  9 | 1 | female | 48 | 1 | 1 | 79.2000 | 1 | 0 |\n",
       "| 5 | 14 | 1 | male   | 62 | 0 | 0 | 26.5500 | 0 | 1 |\n",
       "| 6 | 16 | 1 | female | 36 | 0 | 2 | 71.0000 | 0 | 1 |\n",
       "\n"
      ],
      "text/plain": [
       "  PassengerId Pclass Sex    Age SibSp Parch Fare    Embarked_C Embarked_S\n",
       "1  1          2      male   41  0     0     15.0458 1          0         \n",
       "2  7          3      male   26  0     0     56.4958 0          1         \n",
       "3  8          1      female 54  1     0     78.2667 1          0         \n",
       "4  9          1      female 48  1     1     79.2000 1          0         \n",
       "5 14          1      male   62  0     0     26.5500 0          1         \n",
       "6 16          1      female 36  0     2     71.0000 0          1         "
      ]
     },
     "metadata": {},
     "output_type": "display_data"
    },
    {
     "data": {
      "text/html": [
       "<table class=\"dataframe\">\n",
       "<caption>A data.frame: 6 × 9</caption>\n",
       "<thead>\n",
       "\t<tr><th></th><th scope=col>PassengerId</th><th scope=col>Pclass</th><th scope=col>Sex</th><th scope=col>Age</th><th scope=col>SibSp</th><th scope=col>Parch</th><th scope=col>Fare</th><th scope=col>Embarked_C</th><th scope=col>Embarked_S</th></tr>\n",
       "\t<tr><th></th><th scope=col>&lt;int&gt;</th><th scope=col>&lt;int&gt;</th><th scope=col>&lt;chr&gt;</th><th scope=col>&lt;dbl&gt;</th><th scope=col>&lt;int&gt;</th><th scope=col>&lt;int&gt;</th><th scope=col>&lt;dbl&gt;</th><th scope=col>&lt;dbl&gt;</th><th scope=col>&lt;dbl&gt;</th></tr>\n",
       "</thead>\n",
       "<tbody>\n",
       "\t<tr><th scope=row>413</th><td>1302</td><td>2</td><td>male</td><td>28.00000</td><td>0</td><td>0</td><td>10.500</td><td>0</td><td>1</td></tr>\n",
       "\t<tr><th scope=row>414</th><td>1305</td><td>1</td><td>male</td><td>29.63379</td><td>0</td><td>0</td><td>35.500</td><td>0</td><td>1</td></tr>\n",
       "\t<tr><th scope=row>415</th><td>1306</td><td>3</td><td>male</td><td>28.00000</td><td>0</td><td>0</td><td> 9.500</td><td>0</td><td>1</td></tr>\n",
       "\t<tr><th scope=row>416</th><td>1307</td><td>3</td><td>male</td><td>21.00000</td><td>0</td><td>0</td><td> 7.750</td><td>0</td><td>0</td></tr>\n",
       "\t<tr><th scope=row>417</th><td>1308</td><td>2</td><td>male</td><td>39.00000</td><td>0</td><td>0</td><td>26.000</td><td>0</td><td>1</td></tr>\n",
       "\t<tr><th scope=row>418</th><td>1309</td><td>3</td><td>male</td><td>16.00000</td><td>0</td><td>0</td><td> 7.775</td><td>0</td><td>1</td></tr>\n",
       "</tbody>\n",
       "</table>\n"
      ],
      "text/latex": [
       "A data.frame: 6 × 9\n",
       "\\begin{tabular}{r|lllllllll}\n",
       "  & PassengerId & Pclass & Sex & Age & SibSp & Parch & Fare & Embarked\\_C & Embarked\\_S\\\\\n",
       "  & <int> & <int> & <chr> & <dbl> & <int> & <int> & <dbl> & <dbl> & <dbl>\\\\\n",
       "\\hline\n",
       "\t413 & 1302 & 2 & male & 28.00000 & 0 & 0 & 10.500 & 0 & 1\\\\\n",
       "\t414 & 1305 & 1 & male & 29.63379 & 0 & 0 & 35.500 & 0 & 1\\\\\n",
       "\t415 & 1306 & 3 & male & 28.00000 & 0 & 0 &  9.500 & 0 & 1\\\\\n",
       "\t416 & 1307 & 3 & male & 21.00000 & 0 & 0 &  7.750 & 0 & 0\\\\\n",
       "\t417 & 1308 & 2 & male & 39.00000 & 0 & 0 & 26.000 & 0 & 1\\\\\n",
       "\t418 & 1309 & 3 & male & 16.00000 & 0 & 0 &  7.775 & 0 & 1\\\\\n",
       "\\end{tabular}\n"
      ],
      "text/markdown": [
       "\n",
       "A data.frame: 6 × 9\n",
       "\n",
       "| <!--/--> | PassengerId &lt;int&gt; | Pclass &lt;int&gt; | Sex &lt;chr&gt; | Age &lt;dbl&gt; | SibSp &lt;int&gt; | Parch &lt;int&gt; | Fare &lt;dbl&gt; | Embarked_C &lt;dbl&gt; | Embarked_S &lt;dbl&gt; |\n",
       "|---|---|---|---|---|---|---|---|---|---|\n",
       "| 413 | 1302 | 2 | male | 28.00000 | 0 | 0 | 10.500 | 0 | 1 |\n",
       "| 414 | 1305 | 1 | male | 29.63379 | 0 | 0 | 35.500 | 0 | 1 |\n",
       "| 415 | 1306 | 3 | male | 28.00000 | 0 | 0 |  9.500 | 0 | 1 |\n",
       "| 416 | 1307 | 3 | male | 21.00000 | 0 | 0 |  7.750 | 0 | 0 |\n",
       "| 417 | 1308 | 2 | male | 39.00000 | 0 | 0 | 26.000 | 0 | 1 |\n",
       "| 418 | 1309 | 3 | male | 16.00000 | 0 | 0 |  7.775 | 0 | 1 |\n",
       "\n"
      ],
      "text/plain": [
       "    PassengerId Pclass Sex  Age      SibSp Parch Fare   Embarked_C Embarked_S\n",
       "413 1302        2      male 28.00000 0     0     10.500 0          1         \n",
       "414 1305        1      male 29.63379 0     0     35.500 0          1         \n",
       "415 1306        3      male 28.00000 0     0      9.500 0          1         \n",
       "416 1307        3      male 21.00000 0     0      7.750 0          0         \n",
       "417 1308        2      male 39.00000 0     0     26.000 0          1         \n",
       "418 1309        3      male 16.00000 0     0      7.775 0          1         "
      ]
     },
     "metadata": {},
     "output_type": "display_data"
    },
    {
     "data": {
      "text/plain": [
       "  PassengerId         Pclass          Sex                 Age       \n",
       " Min.   :   1.0   Min.   :1.000   Length:417         Min.   : 0.75  \n",
       " 1st Qu.: 313.0   1st Qu.:2.000   Class :character   1st Qu.:23.00  \n",
       " Median : 636.0   Median :3.000   Mode  :character   Median :29.63  \n",
       " Mean   : 652.2   Mean   :2.302                      Mean   :29.61  \n",
       " 3rd Qu.: 984.0   3rd Qu.:3.000                      3rd Qu.:35.00  \n",
       " Max.   :1309.0   Max.   :3.000                      Max.   :65.00  \n",
       "     SibSp            Parch             Fare           Embarked_C    \n",
       " Min.   :0.0000   Min.   :0.0000   Min.   :  0.000   Min.   :0.0000  \n",
       " 1st Qu.:0.0000   1st Qu.:0.0000   1st Qu.:  7.896   1st Qu.:0.0000  \n",
       " Median :0.0000   Median :0.0000   Median : 13.500   Median :0.0000  \n",
       " Mean   :0.4365   Mean   :0.2878   Mean   : 31.581   Mean   :0.2014  \n",
       " 3rd Qu.:1.0000   3rd Qu.:0.0000   3rd Qu.: 29.125   3rd Qu.:0.0000  \n",
       " Max.   :8.0000   Max.   :4.0000   Max.   :263.000   Max.   :1.0000  \n",
       "   Embarked_S    \n",
       " Min.   :0.0000  \n",
       " 1st Qu.:0.0000  \n",
       " Median :1.0000  \n",
       " Mean   :0.7026  \n",
       " 3rd Qu.:1.0000  \n",
       " Max.   :1.0000  "
      ]
     },
     "metadata": {},
     "output_type": "display_data"
    }
   ],
   "source": [
    "# visualizando o início do dataframe\n",
    "head(test_df)\n",
    "\n",
    "# visualizando o final do dataframe\n",
    "tail(test_df)\n",
    "\n",
    "# exibindo o sumário estatístico\n",
    "summary(test_df)"
   ]
  },
  {
   "cell_type": "markdown",
   "metadata": {},
   "source": [
    "**Item b)**"
   ]
  },
  {
   "cell_type": "markdown",
   "metadata": {},
   "source": [
    "Criando um modelo onde **\"Survived\"** é uma função das demais variáveis, a partir do dataframe de treinamento."
   ]
  },
  {
   "cell_type": "code",
   "execution_count": 149,
   "metadata": {
    "vscode": {
     "languageId": "r"
    }
   },
   "outputs": [
    {
     "data": {
      "text/plain": [
       "\n",
       "Call:\n",
       "glm(formula = Survived ~ Pclass + Sex + Age + SibSp + Parch + \n",
       "    Fare + Embarked_C + Embarked_S, family = binomial, data = train_df)\n",
       "\n",
       "Deviance Residuals: \n",
       "    Min       1Q   Median       3Q      Max  \n",
       "-2.4943  -0.6638  -0.4370   0.6726   2.3739  \n",
       "\n",
       "Coefficients:\n",
       "             Estimate Std. Error z value Pr(>|z|)    \n",
       "(Intercept)  4.127756   0.607090   6.799 1.05e-11 ***\n",
       "Pclass      -0.954492   0.140705  -6.784 1.17e-11 ***\n",
       "Sexmale     -2.643924   0.197452 -13.390  < 2e-16 ***\n",
       "Age         -0.030371   0.007309  -4.155 3.25e-05 ***\n",
       "SibSp       -0.234980   0.102626  -2.290    0.022 *  \n",
       "Parch       -0.085397   0.100581  -0.849    0.396    \n",
       "Fare         0.002566   0.002218   1.157    0.247    \n",
       "Embarked_C   0.431480   0.360726   1.196    0.232    \n",
       "Embarked_S  -0.030511   0.314741  -0.097    0.923    \n",
       "---\n",
       "Signif. codes:  0 ‘***’ 0.001 ‘**’ 0.01 ‘*’ 0.05 ‘.’ 0.1 ‘ ’ 1\n",
       "\n",
       "(Dispersion parameter for binomial family taken to be 1)\n",
       "\n",
       "    Null deviance: 1177.91  on 888  degrees of freedom\n",
       "Residual deviance:  814.17  on 880  degrees of freedom\n",
       "AIC: 832.17\n",
       "\n",
       "Number of Fisher Scoring iterations: 5\n"
      ]
     },
     "metadata": {},
     "output_type": "display_data"
    }
   ],
   "source": [
    "# modelo\n",
    "reg.model1 = glm(Survived ~ Pclass + Sex + Age + SibSp + Parch +\n",
    "                            Fare + Embarked_C + Embarked_S, family=binomial, data=train_df)\n",
    "\n",
    "# sumário estatístico do modelo\n",
    "summary(reg.model1)"
   ]
  },
  {
   "cell_type": "markdown",
   "metadata": {},
   "source": [
    "**Item c)**"
   ]
  },
  {
   "cell_type": "markdown",
   "metadata": {},
   "source": [
    "Observamos que no modelo do item anterior temos variáveis sem significância estatística e precisamos removê-las do modelo, encontrando uma nova formula. Abaixo vamos utilizar a função \"step\" para nos ajudar com isso."
   ]
  },
  {
   "cell_type": "code",
   "execution_count": 150,
   "metadata": {
    "vscode": {
     "languageId": "r"
    }
   },
   "outputs": [
    {
     "name": "stdout",
     "output_type": "stream",
     "text": [
      "Start:  AIC=832.17\n",
      "Survived ~ Pclass + Sex + Age + SibSp + Parch + Fare + Embarked_C + \n",
      "    Embarked_S\n",
      "\n",
      "             Df Deviance     AIC\n",
      "- Embarked_S  1   814.18  830.18\n",
      "- Parch       1   814.91  830.91\n",
      "- Embarked_C  1   815.61  831.61\n",
      "- Fare        1   815.63  831.63\n",
      "<none>            814.17  832.17\n",
      "- SibSp       1   820.13  836.13\n",
      "- Age         1   832.23  848.23\n",
      "- Pclass      1   860.84  876.84\n",
      "- Sex         1  1039.37 1055.37\n",
      "\n",
      "Step:  AIC=830.18\n",
      "Survived ~ Pclass + Sex + Age + SibSp + Parch + Fare + Embarked_C\n",
      "\n",
      "             Df Deviance     AIC\n",
      "- Parch       1   814.97  828.97\n",
      "- Fare        1   815.67  829.67\n",
      "<none>            814.18  830.18\n",
      "+ Embarked_S  1   814.17  832.17\n",
      "- Embarked_C  1   818.41  832.41\n",
      "- SibSp       1   820.26  834.26\n",
      "- Age         1   832.31  846.31\n",
      "- Pclass      1   863.28  877.28\n",
      "- Sex         1  1047.99 1061.99\n",
      "\n",
      "Step:  AIC=828.97\n",
      "Survived ~ Pclass + Sex + Age + SibSp + Fare + Embarked_C\n",
      "\n",
      "             Df Deviance     AIC\n",
      "- Fare        1   816.04  828.04\n",
      "<none>            814.97  828.97\n",
      "+ Parch       1   814.18  830.18\n",
      "+ Embarked_S  1   814.91  830.91\n",
      "- Embarked_C  1   819.36  831.36\n",
      "- SibSp       1   822.68  834.68\n",
      "- Age         1   832.96  844.96\n",
      "- Pclass      1   867.09  879.09\n",
      "- Sex         1  1052.00 1064.00\n",
      "\n",
      "Step:  AIC=828.04\n",
      "Survived ~ Pclass + Sex + Age + SibSp + Embarked_C\n",
      "\n",
      "             Df Deviance     AIC\n",
      "<none>            816.04  828.04\n",
      "+ Fare        1   814.97  828.97\n",
      "+ Parch       1   815.67  829.67\n",
      "+ Embarked_S  1   815.96  829.96\n",
      "- Embarked_C  1   821.50  831.50\n",
      "- SibSp       1   822.85  832.85\n",
      "- Age         1   834.25  844.25\n",
      "- Pclass      1   899.73  909.73\n",
      "- Sex         1  1058.40 1068.40\n"
     ]
    }
   ],
   "source": [
    "# utilizando a função step\n",
    "stepmodel = step(reg.model1, direction=\"both\")"
   ]
  },
  {
   "cell_type": "markdown",
   "metadata": {},
   "source": [
    "Formula proposta para o novo modelo:"
   ]
  },
  {
   "cell_type": "code",
   "execution_count": 151,
   "metadata": {
    "vscode": {
     "languageId": "r"
    }
   },
   "outputs": [
    {
     "data": {
      "text/plain": [
       "Survived ~ Pclass + Sex + Age + SibSp + Embarked_C"
      ]
     },
     "metadata": {},
     "output_type": "display_data"
    }
   ],
   "source": [
    "# formula proposta para o novo modelo\n",
    "formula(stepmodel)"
   ]
  },
  {
   "cell_type": "markdown",
   "metadata": {},
   "source": [
    "Sumário estatístico do novo modelo proposto pela fórmula acima:"
   ]
  },
  {
   "cell_type": "code",
   "execution_count": 152,
   "metadata": {
    "vscode": {
     "languageId": "r"
    }
   },
   "outputs": [
    {
     "data": {
      "text/plain": [
       "\n",
       "Call:\n",
       "glm(formula = Survived ~ Pclass + Sex + Age + SibSp + Embarked_C, \n",
       "    family = binomial, data = train_df)\n",
       "\n",
       "Deviance Residuals: \n",
       "    Min       1Q   Median       3Q      Max  \n",
       "-2.4570  -0.6527  -0.4295   0.6661   2.3939  \n",
       "\n",
       "Coefficients:\n",
       "             Estimate Std. Error z value Pr(>|z|)    \n",
       "(Intercept)  4.295314   0.460603   9.325  < 2e-16 ***\n",
       "Pclass      -1.031363   0.119200  -8.652  < 2e-16 ***\n",
       "Sexmale     -2.629294   0.188823 -13.925  < 2e-16 ***\n",
       "Age         -0.030300   0.007265  -4.171 3.04e-05 ***\n",
       "SibSp       -0.234949   0.096784  -2.428   0.0152 *  \n",
       "Embarked_C   0.510058   0.217988   2.340   0.0193 *  \n",
       "---\n",
       "Signif. codes:  0 ‘***’ 0.001 ‘**’ 0.01 ‘*’ 0.05 ‘.’ 0.1 ‘ ’ 1\n",
       "\n",
       "(Dispersion parameter for binomial family taken to be 1)\n",
       "\n",
       "    Null deviance: 1177.91  on 888  degrees of freedom\n",
       "Residual deviance:  816.04  on 883  degrees of freedom\n",
       "AIC: 828.04\n",
       "\n",
       "Number of Fisher Scoring iterations: 5\n"
      ]
     },
     "metadata": {},
     "output_type": "display_data"
    }
   ],
   "source": [
    "# sumário estatístico do modelo\n",
    "summary(stepmodel)"
   ]
  },
  {
   "cell_type": "markdown",
   "metadata": {},
   "source": [
    "**Item d)**"
   ]
  },
  {
   "cell_type": "markdown",
   "metadata": {},
   "source": [
    "Como vimos no item anterior, para a fórmula proposta pela função \"step\", temos todas as variáveis com significância estatística. Então, abaixo, segue a formalização do modelo proposto, utilizando o dataframe de treinamento."
   ]
  },
  {
   "cell_type": "code",
   "execution_count": 153,
   "metadata": {
    "vscode": {
     "languageId": "r"
    }
   },
   "outputs": [
    {
     "data": {
      "text/plain": [
       "\n",
       "Call:\n",
       "glm(formula = Survived ~ Pclass + Sex + Age + SibSp + Embarked_C, \n",
       "    family = binomial, data = train_df)\n",
       "\n",
       "Deviance Residuals: \n",
       "    Min       1Q   Median       3Q      Max  \n",
       "-2.4570  -0.6527  -0.4295   0.6661   2.3939  \n",
       "\n",
       "Coefficients:\n",
       "             Estimate Std. Error z value Pr(>|z|)    \n",
       "(Intercept)  4.295314   0.460603   9.325  < 2e-16 ***\n",
       "Pclass      -1.031363   0.119200  -8.652  < 2e-16 ***\n",
       "Sexmale     -2.629294   0.188823 -13.925  < 2e-16 ***\n",
       "Age         -0.030300   0.007265  -4.171 3.04e-05 ***\n",
       "SibSp       -0.234949   0.096784  -2.428   0.0152 *  \n",
       "Embarked_C   0.510058   0.217988   2.340   0.0193 *  \n",
       "---\n",
       "Signif. codes:  0 ‘***’ 0.001 ‘**’ 0.01 ‘*’ 0.05 ‘.’ 0.1 ‘ ’ 1\n",
       "\n",
       "(Dispersion parameter for binomial family taken to be 1)\n",
       "\n",
       "    Null deviance: 1177.91  on 888  degrees of freedom\n",
       "Residual deviance:  816.04  on 883  degrees of freedom\n",
       "AIC: 828.04\n",
       "\n",
       "Number of Fisher Scoring iterations: 5\n"
      ]
     },
     "metadata": {},
     "output_type": "display_data"
    }
   ],
   "source": [
    "# novo modelo proposto utilizando o dataframe de treinamento\n",
    "reg.model2 = glm(Survived ~ Pclass + Sex + Age + SibSp + Embarked_C, family=binomial, data=train_df)\n",
    "\n",
    "# sumário estatístico do modelo\n",
    "summary(reg.model2)"
   ]
  },
  {
   "cell_type": "markdown",
   "metadata": {},
   "source": [
    "Gráficos diagnósticos do modelo:"
   ]
  },
  {
   "cell_type": "code",
   "execution_count": 154,
   "metadata": {
    "vscode": {
     "languageId": "r"
    }
   },
   "outputs": [
    {
     "data": {
      "image/png": "[encoded data removed]",
      "text/plain": [
       "Plot with title “”"
      ]
     },
     "metadata": {
      "image/png": {
       "height": 420,
       "width": 420
      }
     },
     "output_type": "display_data"
    }
   ],
   "source": [
    "# exibindo os gráficos diagnósticos\n",
    "par(mfrow=c(2,2))\n",
    "plot(reg.model2)"
   ]
  },
  {
   "cell_type": "markdown",
   "metadata": {},
   "source": [
    "Histograma de resíduos do modelo:"
   ]
  },
  {
   "cell_type": "code",
   "execution_count": 155,
   "metadata": {
    "vscode": {
     "languageId": "r"
    }
   },
   "outputs": [
    {
     "data": {
      "image/png": "[encoded data removed]",
      "text/plain": [
       "plot without title"
      ]
     },
     "metadata": {
      "image/png": {
       "height": 420,
       "width": 420
      }
     },
     "output_type": "display_data"
    }
   ],
   "source": [
    "# exibindo o histograma dos resíduos\n",
    "reg.model2.df <- as.data.frame(residuals(reg.model2))\n",
    "names(reg.model2.df) <- c('residuos')\n",
    "ggplot(data = reg.model2.df, aes(residuos)) +\n",
    "    geom_histogram(fill='#aabbee', color='blue', stat='bin', bins=5) +\n",
    "    xlab('Resíduos') +\n",
    "    ylab('Frequência') +\n",
    "    theme(plot.caption = element_text(hjust=0))"
   ]
  },
  {
   "cell_type": "markdown",
   "metadata": {},
   "source": [
    "Predizendo o \"score\"  e calculando a acurácia do modelo para os dados de treinamento:"
   ]
  },
  {
   "cell_type": "code",
   "execution_count": 156,
   "metadata": {
    "vscode": {
     "languageId": "r"
    }
   },
   "outputs": [
    {
     "data": {
      "text/html": [
       "<style>\n",
       ".list-inline {list-style: none; margin:0; padding: 0}\n",
       ".list-inline>li {display: inline-block}\n",
       ".list-inline>li:not(:last-child)::after {content: \"\\00b7\"; padding: 0 .5ex}\n",
       "</style>\n",
       "<ol class=list-inline><li>0.0905636106131352</li><li>0.8707825862681</li><li>0.184295598539561</li><li>0.913341876215327</li><li>0.0880988004600149</li><li>0.0911792499416684</li></ol>\n"
      ],
      "text/latex": [
       "\\begin{enumerate*}\n",
       "\\item 0.0905636106131352\n",
       "\\item 0.8707825862681\n",
       "\\item 0.184295598539561\n",
       "\\item 0.913341876215327\n",
       "\\item 0.0880988004600149\n",
       "\\item 0.0911792499416684\n",
       "\\end{enumerate*}\n"
      ],
      "text/markdown": [
       "1. 0.0905636106131352\n",
       "2. 0.8707825862681\n",
       "3. 0.184295598539561\n",
       "4. 0.913341876215327\n",
       "5. 0.0880988004600149\n",
       "6. 0.0911792499416684\n",
       "\n",
       "\n"
      ],
      "text/plain": [
       "[1] 0.09056361 0.87078259 0.18429560 0.91334188 0.08809880 0.09117925"
      ]
     },
     "metadata": {},
     "output_type": "display_data"
    },
    {
     "data": {
      "text/html": [
       "<style>\n",
       ".list-inline {list-style: none; margin:0; padding: 0}\n",
       ".list-inline>li {display: inline-block}\n",
       ".list-inline>li:not(:last-child)::after {content: \"\\00b7\"; padding: 0 .5ex}\n",
       "</style>\n",
       "<ol class=list-inline><li>0.088114318850301</li><li>0.387899925707769</li><li>0.177524904663113</li><li>0.818376207587064</li><li>0.0856947522859441</li><li>0.112608277985393</li></ol>\n"
      ],
      "text/latex": [
       "\\begin{enumerate*}\n",
       "\\item 0.088114318850301\n",
       "\\item 0.387899925707769\n",
       "\\item 0.177524904663113\n",
       "\\item 0.818376207587064\n",
       "\\item 0.0856947522859441\n",
       "\\item 0.112608277985393\n",
       "\\end{enumerate*}\n"
      ],
      "text/markdown": [
       "1. 0.088114318850301\n",
       "2. 0.387899925707769\n",
       "3. 0.177524904663113\n",
       "4. 0.818376207587064\n",
       "5. 0.0856947522859441\n",
       "6. 0.112608277985393\n",
       "\n",
       "\n"
      ],
      "text/plain": [
       "[1] 0.08811432 0.38789993 0.17752490 0.81837621 0.08569475 0.11260828"
      ]
     },
     "metadata": {},
     "output_type": "display_data"
    }
   ],
   "source": [
    "# predizendo o \"score\" do modelo para os dados de treinamento\n",
    "train_df$Score <- predict(reg.model2, newdata=train_df, type=\"response\")\n",
    "head(train_df$Score)\n",
    "tail(train_df$Score)"
   ]
  },
  {
   "cell_type": "code",
   "execution_count": 157,
   "metadata": {
    "vscode": {
     "languageId": "r"
    }
   },
   "outputs": [
    {
     "data": {
      "text/plain": [
       "   \n",
       "      0   1\n",
       "  0 513 144\n",
       "  1  41 191"
      ]
     },
     "metadata": {},
     "output_type": "display_data"
    },
    {
     "name": "stdout",
     "output_type": "stream",
     "text": [
      "[1] \"Accuracy:  79.1901012373453\"\n"
     ]
    }
   ],
   "source": [
    "# criando a variável com a predição do modelo com os dados de treinamento\n",
    "train_df$Prediction <- ifelse(train_df$Score>=0.6, 1, 0)\n",
    "table(factor(train_df$Prediction), factor(train_df$Survived))\n",
    "\n",
    "# calculando e mostrando o percentual de acurácia do modelo com os dados de treinamento\n",
    "Accuracy = mean(train_df$Survived != train_df$Prediction)\n",
    "print(paste('Accuracy: ', (1 - misClassifiError) * 100))"
   ]
  },
  {
   "cell_type": "markdown",
   "metadata": {},
   "source": [
    "Como observamos acima, a acurácia do modelo para os dados de treinamento é de 79,19%."
   ]
  },
  {
   "cell_type": "markdown",
   "metadata": {},
   "source": [
    "**Item e)**"
   ]
  },
  {
   "cell_type": "markdown",
   "metadata": {},
   "source": [
    "Vejamos agora a aplicação do modelo para os dados de teste:"
   ]
  },
  {
   "cell_type": "code",
   "execution_count": 158,
   "metadata": {
    "vscode": {
     "languageId": "r"
    }
   },
   "outputs": [
    {
     "data": {
      "text/html": [
       "<style>\n",
       ".list-inline {list-style: none; margin:0; padding: 0}\n",
       ".list-inline>li {display: inline-block}\n",
       ".list-inline>li:not(:last-child)::after {content: \"\\00b7\"; padding: 0 .5ex}\n",
       "</style>\n",
       "<ol class=list-inline><li>0.24435414645368</li><li>0.0983341975670268</li><li>0.870213846580818</li><li>0.889402443338031</li><li>0.223748727579269</li><li>0.897811902943008</li></ol>\n"
      ],
      "text/latex": [
       "\\begin{enumerate*}\n",
       "\\item 0.24435414645368\n",
       "\\item 0.0983341975670268\n",
       "\\item 0.870213846580818\n",
       "\\item 0.889402443338031\n",
       "\\item 0.223748727579269\n",
       "\\item 0.897811902943008\n",
       "\\end{enumerate*}\n"
      ],
      "text/markdown": [
       "1. 0.24435414645368\n",
       "2. 0.0983341975670268\n",
       "3. 0.870213846580818\n",
       "4. 0.889402443338031\n",
       "5. 0.223748727579269\n",
       "6. 0.897811902943008\n",
       "\n",
       "\n"
      ],
      "text/plain": [
       "[1] 0.2443541 0.0983342 0.8702138 0.8894024 0.2237487 0.8978119"
      ]
     },
     "metadata": {},
     "output_type": "display_data"
    },
    {
     "data": {
      "text/html": [
       "<style>\n",
       ".list-inline {list-style: none; margin:0; padding: 0}\n",
       ".list-inline>li {display: inline-block}\n",
       ".list-inline>li:not(:last-child)::after {content: \"\\00b7\"; padding: 0 .5ex}\n",
       "</style>\n",
       "<ol class=list-inline><li>0.22354781008874</li><li>0.434564640669234</li><li>0.0930903410246124</li><li>0.112608277985393</li><li>0.171020564631147</li><li>0.128658712651716</li></ol>\n"
      ],
      "text/latex": [
       "\\begin{enumerate*}\n",
       "\\item 0.22354781008874\n",
       "\\item 0.434564640669234\n",
       "\\item 0.0930903410246124\n",
       "\\item 0.112608277985393\n",
       "\\item 0.171020564631147\n",
       "\\item 0.128658712651716\n",
       "\\end{enumerate*}\n"
      ],
      "text/markdown": [
       "1. 0.22354781008874\n",
       "2. 0.434564640669234\n",
       "3. 0.0930903410246124\n",
       "4. 0.112608277985393\n",
       "5. 0.171020564631147\n",
       "6. 0.128658712651716\n",
       "\n",
       "\n"
      ],
      "text/plain": [
       "[1] 0.22354781 0.43456464 0.09309034 0.11260828 0.17102056 0.12865871"
      ]
     },
     "metadata": {},
     "output_type": "display_data"
    }
   ],
   "source": [
    "# predizendo o \"score\" do modelo para os dados de teste\n",
    "test_df$Score <- predict(reg.model2, newdata=test_df, type=\"response\")\n",
    "head(test_df$Score)\n",
    "tail(test_df$Score)"
   ]
  },
  {
   "cell_type": "code",
   "execution_count": 159,
   "metadata": {
    "vscode": {
     "languageId": "r"
    }
   },
   "outputs": [
    {
     "data": {
      "text/html": [
       "<table class=\"dataframe\">\n",
       "<caption>A data.frame: 6 × 11</caption>\n",
       "<thead>\n",
       "\t<tr><th></th><th scope=col>PassengerId</th><th scope=col>Pclass</th><th scope=col>Sex</th><th scope=col>Age</th><th scope=col>SibSp</th><th scope=col>Parch</th><th scope=col>Fare</th><th scope=col>Embarked_C</th><th scope=col>Embarked_S</th><th scope=col>Score</th><th scope=col>Survived</th></tr>\n",
       "\t<tr><th></th><th scope=col>&lt;int&gt;</th><th scope=col>&lt;int&gt;</th><th scope=col>&lt;chr&gt;</th><th scope=col>&lt;dbl&gt;</th><th scope=col>&lt;int&gt;</th><th scope=col>&lt;int&gt;</th><th scope=col>&lt;dbl&gt;</th><th scope=col>&lt;dbl&gt;</th><th scope=col>&lt;dbl&gt;</th><th scope=col>&lt;dbl&gt;</th><th scope=col>&lt;dbl&gt;</th></tr>\n",
       "</thead>\n",
       "<tbody>\n",
       "\t<tr><th scope=row>1</th><td> 1</td><td>2</td><td>male  </td><td>41</td><td>0</td><td>0</td><td>15.0458</td><td>1</td><td>0</td><td>0.2443541</td><td>0</td></tr>\n",
       "\t<tr><th scope=row>2</th><td> 7</td><td>3</td><td>male  </td><td>26</td><td>0</td><td>0</td><td>56.4958</td><td>0</td><td>1</td><td>0.0983342</td><td>0</td></tr>\n",
       "\t<tr><th scope=row>3</th><td> 8</td><td>1</td><td>female</td><td>54</td><td>1</td><td>0</td><td>78.2667</td><td>1</td><td>0</td><td>0.8702138</td><td>1</td></tr>\n",
       "\t<tr><th scope=row>4</th><td> 9</td><td>1</td><td>female</td><td>48</td><td>1</td><td>1</td><td>79.2000</td><td>1</td><td>0</td><td>0.8894024</td><td>1</td></tr>\n",
       "\t<tr><th scope=row>5</th><td>14</td><td>1</td><td>male  </td><td>62</td><td>0</td><td>0</td><td>26.5500</td><td>0</td><td>1</td><td>0.2237487</td><td>0</td></tr>\n",
       "\t<tr><th scope=row>6</th><td>16</td><td>1</td><td>female</td><td>36</td><td>0</td><td>2</td><td>71.0000</td><td>0</td><td>1</td><td>0.8978119</td><td>1</td></tr>\n",
       "</tbody>\n",
       "</table>\n"
      ],
      "text/latex": [
       "A data.frame: 6 × 11\n",
       "\\begin{tabular}{r|lllllllllll}\n",
       "  & PassengerId & Pclass & Sex & Age & SibSp & Parch & Fare & Embarked\\_C & Embarked\\_S & Score & Survived\\\\\n",
       "  & <int> & <int> & <chr> & <dbl> & <int> & <int> & <dbl> & <dbl> & <dbl> & <dbl> & <dbl>\\\\\n",
       "\\hline\n",
       "\t1 &  1 & 2 & male   & 41 & 0 & 0 & 15.0458 & 1 & 0 & 0.2443541 & 0\\\\\n",
       "\t2 &  7 & 3 & male   & 26 & 0 & 0 & 56.4958 & 0 & 1 & 0.0983342 & 0\\\\\n",
       "\t3 &  8 & 1 & female & 54 & 1 & 0 & 78.2667 & 1 & 0 & 0.8702138 & 1\\\\\n",
       "\t4 &  9 & 1 & female & 48 & 1 & 1 & 79.2000 & 1 & 0 & 0.8894024 & 1\\\\\n",
       "\t5 & 14 & 1 & male   & 62 & 0 & 0 & 26.5500 & 0 & 1 & 0.2237487 & 0\\\\\n",
       "\t6 & 16 & 1 & female & 36 & 0 & 2 & 71.0000 & 0 & 1 & 0.8978119 & 1\\\\\n",
       "\\end{tabular}\n"
      ],
      "text/markdown": [
       "\n",
       "A data.frame: 6 × 11\n",
       "\n",
       "| <!--/--> | PassengerId &lt;int&gt; | Pclass &lt;int&gt; | Sex &lt;chr&gt; | Age &lt;dbl&gt; | SibSp &lt;int&gt; | Parch &lt;int&gt; | Fare &lt;dbl&gt; | Embarked_C &lt;dbl&gt; | Embarked_S &lt;dbl&gt; | Score &lt;dbl&gt; | Survived &lt;dbl&gt; |\n",
       "|---|---|---|---|---|---|---|---|---|---|---|---|\n",
       "| 1 |  1 | 2 | male   | 41 | 0 | 0 | 15.0458 | 1 | 0 | 0.2443541 | 0 |\n",
       "| 2 |  7 | 3 | male   | 26 | 0 | 0 | 56.4958 | 0 | 1 | 0.0983342 | 0 |\n",
       "| 3 |  8 | 1 | female | 54 | 1 | 0 | 78.2667 | 1 | 0 | 0.8702138 | 1 |\n",
       "| 4 |  9 | 1 | female | 48 | 1 | 1 | 79.2000 | 1 | 0 | 0.8894024 | 1 |\n",
       "| 5 | 14 | 1 | male   | 62 | 0 | 0 | 26.5500 | 0 | 1 | 0.2237487 | 0 |\n",
       "| 6 | 16 | 1 | female | 36 | 0 | 2 | 71.0000 | 0 | 1 | 0.8978119 | 1 |\n",
       "\n"
      ],
      "text/plain": [
       "  PassengerId Pclass Sex    Age SibSp Parch Fare    Embarked_C Embarked_S\n",
       "1  1          2      male   41  0     0     15.0458 1          0         \n",
       "2  7          3      male   26  0     0     56.4958 0          1         \n",
       "3  8          1      female 54  1     0     78.2667 1          0         \n",
       "4  9          1      female 48  1     1     79.2000 1          0         \n",
       "5 14          1      male   62  0     0     26.5500 0          1         \n",
       "6 16          1      female 36  0     2     71.0000 0          1         \n",
       "  Score     Survived\n",
       "1 0.2443541 0       \n",
       "2 0.0983342 0       \n",
       "3 0.8702138 1       \n",
       "4 0.8894024 1       \n",
       "5 0.2237487 0       \n",
       "6 0.8978119 1       "
      ]
     },
     "metadata": {},
     "output_type": "display_data"
    },
    {
     "data": {
      "text/html": [
       "<table class=\"dataframe\">\n",
       "<caption>A data.frame: 6 × 11</caption>\n",
       "<thead>\n",
       "\t<tr><th></th><th scope=col>PassengerId</th><th scope=col>Pclass</th><th scope=col>Sex</th><th scope=col>Age</th><th scope=col>SibSp</th><th scope=col>Parch</th><th scope=col>Fare</th><th scope=col>Embarked_C</th><th scope=col>Embarked_S</th><th scope=col>Score</th><th scope=col>Survived</th></tr>\n",
       "\t<tr><th></th><th scope=col>&lt;int&gt;</th><th scope=col>&lt;int&gt;</th><th scope=col>&lt;chr&gt;</th><th scope=col>&lt;dbl&gt;</th><th scope=col>&lt;int&gt;</th><th scope=col>&lt;int&gt;</th><th scope=col>&lt;dbl&gt;</th><th scope=col>&lt;dbl&gt;</th><th scope=col>&lt;dbl&gt;</th><th scope=col>&lt;dbl&gt;</th><th scope=col>&lt;dbl&gt;</th></tr>\n",
       "</thead>\n",
       "<tbody>\n",
       "\t<tr><th scope=row>413</th><td>1302</td><td>2</td><td>male</td><td>28.00000</td><td>0</td><td>0</td><td>10.500</td><td>0</td><td>1</td><td>0.22354781</td><td>0</td></tr>\n",
       "\t<tr><th scope=row>414</th><td>1305</td><td>1</td><td>male</td><td>29.63379</td><td>0</td><td>0</td><td>35.500</td><td>0</td><td>1</td><td>0.43456464</td><td>0</td></tr>\n",
       "\t<tr><th scope=row>415</th><td>1306</td><td>3</td><td>male</td><td>28.00000</td><td>0</td><td>0</td><td> 9.500</td><td>0</td><td>1</td><td>0.09309034</td><td>0</td></tr>\n",
       "\t<tr><th scope=row>416</th><td>1307</td><td>3</td><td>male</td><td>21.00000</td><td>0</td><td>0</td><td> 7.750</td><td>0</td><td>0</td><td>0.11260828</td><td>0</td></tr>\n",
       "\t<tr><th scope=row>417</th><td>1308</td><td>2</td><td>male</td><td>39.00000</td><td>0</td><td>0</td><td>26.000</td><td>0</td><td>1</td><td>0.17102056</td><td>0</td></tr>\n",
       "\t<tr><th scope=row>418</th><td>1309</td><td>3</td><td>male</td><td>16.00000</td><td>0</td><td>0</td><td> 7.775</td><td>0</td><td>1</td><td>0.12865871</td><td>0</td></tr>\n",
       "</tbody>\n",
       "</table>\n"
      ],
      "text/latex": [
       "A data.frame: 6 × 11\n",
       "\\begin{tabular}{r|lllllllllll}\n",
       "  & PassengerId & Pclass & Sex & Age & SibSp & Parch & Fare & Embarked\\_C & Embarked\\_S & Score & Survived\\\\\n",
       "  & <int> & <int> & <chr> & <dbl> & <int> & <int> & <dbl> & <dbl> & <dbl> & <dbl> & <dbl>\\\\\n",
       "\\hline\n",
       "\t413 & 1302 & 2 & male & 28.00000 & 0 & 0 & 10.500 & 0 & 1 & 0.22354781 & 0\\\\\n",
       "\t414 & 1305 & 1 & male & 29.63379 & 0 & 0 & 35.500 & 0 & 1 & 0.43456464 & 0\\\\\n",
       "\t415 & 1306 & 3 & male & 28.00000 & 0 & 0 &  9.500 & 0 & 1 & 0.09309034 & 0\\\\\n",
       "\t416 & 1307 & 3 & male & 21.00000 & 0 & 0 &  7.750 & 0 & 0 & 0.11260828 & 0\\\\\n",
       "\t417 & 1308 & 2 & male & 39.00000 & 0 & 0 & 26.000 & 0 & 1 & 0.17102056 & 0\\\\\n",
       "\t418 & 1309 & 3 & male & 16.00000 & 0 & 0 &  7.775 & 0 & 1 & 0.12865871 & 0\\\\\n",
       "\\end{tabular}\n"
      ],
      "text/markdown": [
       "\n",
       "A data.frame: 6 × 11\n",
       "\n",
       "| <!--/--> | PassengerId &lt;int&gt; | Pclass &lt;int&gt; | Sex &lt;chr&gt; | Age &lt;dbl&gt; | SibSp &lt;int&gt; | Parch &lt;int&gt; | Fare &lt;dbl&gt; | Embarked_C &lt;dbl&gt; | Embarked_S &lt;dbl&gt; | Score &lt;dbl&gt; | Survived &lt;dbl&gt; |\n",
       "|---|---|---|---|---|---|---|---|---|---|---|---|\n",
       "| 413 | 1302 | 2 | male | 28.00000 | 0 | 0 | 10.500 | 0 | 1 | 0.22354781 | 0 |\n",
       "| 414 | 1305 | 1 | male | 29.63379 | 0 | 0 | 35.500 | 0 | 1 | 0.43456464 | 0 |\n",
       "| 415 | 1306 | 3 | male | 28.00000 | 0 | 0 |  9.500 | 0 | 1 | 0.09309034 | 0 |\n",
       "| 416 | 1307 | 3 | male | 21.00000 | 0 | 0 |  7.750 | 0 | 0 | 0.11260828 | 0 |\n",
       "| 417 | 1308 | 2 | male | 39.00000 | 0 | 0 | 26.000 | 0 | 1 | 0.17102056 | 0 |\n",
       "| 418 | 1309 | 3 | male | 16.00000 | 0 | 0 |  7.775 | 0 | 1 | 0.12865871 | 0 |\n",
       "\n"
      ],
      "text/plain": [
       "    PassengerId Pclass Sex  Age      SibSp Parch Fare   Embarked_C Embarked_S\n",
       "413 1302        2      male 28.00000 0     0     10.500 0          1         \n",
       "414 1305        1      male 29.63379 0     0     35.500 0          1         \n",
       "415 1306        3      male 28.00000 0     0      9.500 0          1         \n",
       "416 1307        3      male 21.00000 0     0      7.750 0          0         \n",
       "417 1308        2      male 39.00000 0     0     26.000 0          1         \n",
       "418 1309        3      male 16.00000 0     0      7.775 0          1         \n",
       "    Score      Survived\n",
       "413 0.22354781 0       \n",
       "414 0.43456464 0       \n",
       "415 0.09309034 0       \n",
       "416 0.11260828 0       \n",
       "417 0.17102056 0       \n",
       "418 0.12865871 0       "
      ]
     },
     "metadata": {},
     "output_type": "display_data"
    }
   ],
   "source": [
    "# criando a variável com a predição do modelo para os dados de teste\n",
    "test_df$Survived <- ifelse(test_df$Score>=0.6, 1, 0)\n",
    "\n",
    "head(test_df)\n",
    "tail(test_df)"
   ]
  },
  {
   "cell_type": "markdown",
   "metadata": {},
   "source": [
    "Gerando o arquivo CSV com as variáveis \"PassengerId\" e \"Survived\", a partir dos dados de teste, após a aplicação do modelo:"
   ]
  },
  {
   "cell_type": "code",
   "execution_count": 160,
   "metadata": {
    "vscode": {
     "languageId": "r"
    }
   },
   "outputs": [
    {
     "data": {
      "text/html": [
       "<table class=\"dataframe\">\n",
       "<caption>A data.frame: 6 × 2</caption>\n",
       "<thead>\n",
       "\t<tr><th></th><th scope=col>PassengerId</th><th scope=col>Survived</th></tr>\n",
       "\t<tr><th></th><th scope=col>&lt;int&gt;</th><th scope=col>&lt;dbl&gt;</th></tr>\n",
       "</thead>\n",
       "<tbody>\n",
       "\t<tr><th scope=row>1</th><td> 1</td><td>0</td></tr>\n",
       "\t<tr><th scope=row>2</th><td> 7</td><td>0</td></tr>\n",
       "\t<tr><th scope=row>3</th><td> 8</td><td>1</td></tr>\n",
       "\t<tr><th scope=row>4</th><td> 9</td><td>1</td></tr>\n",
       "\t<tr><th scope=row>5</th><td>14</td><td>0</td></tr>\n",
       "\t<tr><th scope=row>6</th><td>16</td><td>1</td></tr>\n",
       "</tbody>\n",
       "</table>\n"
      ],
      "text/latex": [
       "A data.frame: 6 × 2\n",
       "\\begin{tabular}{r|ll}\n",
       "  & PassengerId & Survived\\\\\n",
       "  & <int> & <dbl>\\\\\n",
       "\\hline\n",
       "\t1 &  1 & 0\\\\\n",
       "\t2 &  7 & 0\\\\\n",
       "\t3 &  8 & 1\\\\\n",
       "\t4 &  9 & 1\\\\\n",
       "\t5 & 14 & 0\\\\\n",
       "\t6 & 16 & 1\\\\\n",
       "\\end{tabular}\n"
      ],
      "text/markdown": [
       "\n",
       "A data.frame: 6 × 2\n",
       "\n",
       "| <!--/--> | PassengerId &lt;int&gt; | Survived &lt;dbl&gt; |\n",
       "|---|---|---|\n",
       "| 1 |  1 | 0 |\n",
       "| 2 |  7 | 0 |\n",
       "| 3 |  8 | 1 |\n",
       "| 4 |  9 | 1 |\n",
       "| 5 | 14 | 0 |\n",
       "| 6 | 16 | 1 |\n",
       "\n"
      ],
      "text/plain": [
       "  PassengerId Survived\n",
       "1  1          0       \n",
       "2  7          0       \n",
       "3  8          1       \n",
       "4  9          1       \n",
       "5 14          0       \n",
       "6 16          1       "
      ]
     },
     "metadata": {},
     "output_type": "display_data"
    },
    {
     "data": {
      "text/html": [
       "<table class=\"dataframe\">\n",
       "<caption>A data.frame: 6 × 2</caption>\n",
       "<thead>\n",
       "\t<tr><th></th><th scope=col>PassengerId</th><th scope=col>Survived</th></tr>\n",
       "\t<tr><th></th><th scope=col>&lt;int&gt;</th><th scope=col>&lt;dbl&gt;</th></tr>\n",
       "</thead>\n",
       "<tbody>\n",
       "\t<tr><th scope=row>413</th><td>1302</td><td>0</td></tr>\n",
       "\t<tr><th scope=row>414</th><td>1305</td><td>0</td></tr>\n",
       "\t<tr><th scope=row>415</th><td>1306</td><td>0</td></tr>\n",
       "\t<tr><th scope=row>416</th><td>1307</td><td>0</td></tr>\n",
       "\t<tr><th scope=row>417</th><td>1308</td><td>0</td></tr>\n",
       "\t<tr><th scope=row>418</th><td>1309</td><td>0</td></tr>\n",
       "</tbody>\n",
       "</table>\n"
      ],
      "text/latex": [
       "A data.frame: 6 × 2\n",
       "\\begin{tabular}{r|ll}\n",
       "  & PassengerId & Survived\\\\\n",
       "  & <int> & <dbl>\\\\\n",
       "\\hline\n",
       "\t413 & 1302 & 0\\\\\n",
       "\t414 & 1305 & 0\\\\\n",
       "\t415 & 1306 & 0\\\\\n",
       "\t416 & 1307 & 0\\\\\n",
       "\t417 & 1308 & 0\\\\\n",
       "\t418 & 1309 & 0\\\\\n",
       "\\end{tabular}\n"
      ],
      "text/markdown": [
       "\n",
       "A data.frame: 6 × 2\n",
       "\n",
       "| <!--/--> | PassengerId &lt;int&gt; | Survived &lt;dbl&gt; |\n",
       "|---|---|---|\n",
       "| 413 | 1302 | 0 |\n",
       "| 414 | 1305 | 0 |\n",
       "| 415 | 1306 | 0 |\n",
       "| 416 | 1307 | 0 |\n",
       "| 417 | 1308 | 0 |\n",
       "| 418 | 1309 | 0 |\n",
       "\n"
      ],
      "text/plain": [
       "    PassengerId Survived\n",
       "413 1302        0       \n",
       "414 1305        0       \n",
       "415 1306        0       \n",
       "416 1307        0       \n",
       "417 1308        0       \n",
       "418 1309        0       "
      ]
     },
     "metadata": {},
     "output_type": "display_data"
    }
   ],
   "source": [
    "# criando um novo dataframe apenas com as variáveis para o arquivo CSV\n",
    "df <- select(test_df, PassengerId, Survived)\n",
    "\n",
    "# visualizando o início do dataframe\n",
    "head(df)\n",
    "\n",
    "# visualizando o final do dataframe\n",
    "tail(df)"
   ]
  },
  {
   "cell_type": "code",
   "execution_count": 132,
   "metadata": {
    "vscode": {
     "languageId": "r"
    }
   },
   "outputs": [],
   "source": [
    "# gravando o arquivo CSV\n",
    "write.csv2(df, file = 'previsao_Survived.csv', row.names = FALSE)"
   ]
  }
 ],
 "metadata": {
  "colab": {
   "name": "Trilha7_ExercicioAprofundamento.ipynb",
   "provenance": []
  },
  "kernelspec": {
   "display_name": "R",
   "language": "R",
   "name": "ir"
  },
  "language_info": {
   "codemirror_mode": "r",
   "file_extension": ".r",
   "mimetype": "text/x-r-source",
   "name": "R",
   "pygments_lexer": "r",
   "version": "4.2.0"
  },
  "toc": {
   "base_numbering": 1,
   "nav_menu": {},
   "number_sections": true,
   "sideBar": true,
   "skip_h1_title": false,
   "title_cell": "Table of Contents",
   "title_sidebar": "Contents",
   "toc_cell": false,
   "toc_position": {},
   "toc_section_display": true,
   "toc_window_display": false
  },
  "vscode": {
   "interpreter": {
    "hash": "37ed6dae9db4498ef1a8e176fbcebe5d295d56bee001a8e3185c66917fbe56fb"
   }
  }
 },
 "nbformat": 4,
 "nbformat_minor": 1
}
