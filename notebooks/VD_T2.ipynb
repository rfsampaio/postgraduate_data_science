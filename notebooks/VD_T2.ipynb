{
 "cells": [
  {
   "cell_type": "markdown",
   "metadata": {},
   "source": [
    "<head>\n",
    "  <meta name=\"author\" content=\"Rogério de Oliveira\">\n",
    "  <meta institution=\"author\" content=\"Universidade Presbiteriana Mackenzie\">\n",
    "</head>\n",
    "\n",
    "<img src=\"http://meusite.mackenzie.br/rogerio/mackenzie_logo/UPM.2_horizontal_vermelho.jpg\" width=300, align=\"right\">\n",
    "<!-- <h1 align=left><font size = 6, style=\"color:rgb(200,0,0)\"> optional title </font></h1> -->"
   ]
  },
  {
   "cell_type": "markdown",
   "metadata": {},
   "source": [
    "**CURSO DE PÓS-GRADUAÇÃO EM CIÊNCIA DE DADOS (BIG DATA PROCESSING AND ANALYTICS)**<p>\n",
    "**Componente curricular:** VISUALIZAÇÃO DE DADOS PARA TOMADA DE DECISÃO [TURMA 01D] - 2023/1 - Trilha 2.<br>\n",
    "\n",
    "**Aluno:** ROBSON DE FREITAS SAMPAIO.<br>\n",
    "\n",
    "**URL deste notebook:** https://github.com/rfsampaio/postgraduate_data_science/blob/main/notebooks/VD_T2.ipynb<br>\n",
    "***"
   ]
  },
  {
   "cell_type": "markdown",
   "metadata": {
    "id": "nyDUaSAsbDnu"
   },
   "source": [
    "## Atividade - Trilha 2 - Vamos experimentar o uso de narrativas para apresentar os nossos dados?"
   ]
  },
  {
   "cell_type": "markdown",
   "metadata": {
    "id": "FDT0TyYybDn1"
   },
   "source": [
    "Para esta atividade de aprofundamento, selecione uma visualização de seu interesse e monte uma narrativa para apresentá-la. Utilize os elementos de  narratologia que estudamos nesta trilha.  \n",
    "\n",
    "Selecione um gráfico de acesso público, de uma reportagem, por exemplo. Crie um documento contendo a imagem e uma narrativa escrita para o gráfico selecionado, considerando as etapas de setup, incidente, ponto de virada e solução do problema.  \n",
    "\n",
    "Uma página, no máximo, é o esperado para esta tarefa. Envie o arquivo no formato PDF."
   ]
  },
  {
   "cell_type": "markdown",
   "metadata": {},
   "source": [
    " "
   ]
  },
  {
   "cell_type": "markdown",
   "metadata": {
    "id": "GJhqp5-_bDn3"
   },
   "source": [
    "## RN teve alta de 20% nos assassinatos no fim de 2022, mostra Monitor da Violência."
   ]
  },
  {
   "cell_type": "markdown",
   "metadata": {},
   "source": [
    "Em 2022, o estado do Rio Grande do Norte estava enfrentando um aumento preocupante no número de assassinatos. Esse aumento na violência havia sido observado desde o início do ano e, em setembro, a taxa de homicídios no estado atingiu seu pico mais alto em vários anos.\n",
    "\n",
    "No final de novembro de 2022, uma série de assassinatos violentos ocorreu em bairros periféricos da capital do estado, Natal. Os moradores da cidade estavam em pânico e as autoridades locais estavam sob pressão para tomar medidas para controlar a situação."
   ]
  },
  {
   "cell_type": "markdown",
   "metadata": {},
   "source": [
    "![Nº de assassinatos aumentou no RN no final de 2022, aponta Monitor da Violência.](../files/2023-monitor-violencia-RN.jpg)"
   ]
  },
  {
   "cell_type": "markdown",
   "metadata": {},
   "source": [
    "*Fonte do gráfico acima: [RN teve alta de 20% nos assassinatos no fim de 2022, mostra Monitor da Violência.](https://g1.globo.com/monitor-da-violencia/noticia/2023/03/14/rn-teve-alta-de-20percent-nos-assassinatos-no-fim-de-2022-mostra-monitor-da-violencia.ghtml)*"
   ]
  },
  {
   "cell_type": "markdown",
   "metadata": {},
   "source": [
    "O aumento de assassinatos em Natal foi um ponto de virada na situação de violência no estado do Rio Grande do Norte. As autoridades locais perceberam que as medidas que estavam tomando para combater a violência não estavam funcionando e que era necessário um esforço conjunto para lidar com o problema.\n",
    "\n",
    "As autoridades do estado lançaram uma força-tarefa para combater a violência, com policiais de diferentes partes do estado trabalhando em conjunto. A força-tarefa focou na intensificação das ações de policiamento ostensivo, investigação e repressão ao tráfico de drogas. Também foram realizadas ações sociais em comunidades vulneráveis, com o objetivo de promover a inclusão social e prevenir o envolvimento de jovens em atividades criminosas. Com essas medidas, a taxa de homicídios começou a cair gradualmente em todo o estado. No final de dezembro de 2022, a taxa de homicídios em Natal havia caído 30% em relação ao pico em setembro, um sinal de que as ações adotadas estavam surtindo efeito."
   ]
  }
 ],
 "metadata": {
  "colab": {
   "name": "Trilha7_ExercicioAprofundamento.ipynb",
   "provenance": []
  },
  "kernelspec": {
   "display_name": "Python 3 (ipykernel)",
   "language": "python",
   "name": "python3"
  },
  "language_info": {
   "codemirror_mode": {
    "name": "ipython",
    "version": 3
   },
   "file_extension": ".py",
   "mimetype": "text/x-python",
   "name": "python",
   "nbconvert_exporter": "python",
   "pygments_lexer": "ipython3",
   "version": "3.10.4"
  },
  "toc": {
   "base_numbering": 1,
   "nav_menu": {},
   "number_sections": true,
   "sideBar": true,
   "skip_h1_title": false,
   "title_cell": "Table of Contents",
   "title_sidebar": "Contents",
   "toc_cell": false,
   "toc_position": {},
   "toc_section_display": true,
   "toc_window_display": false
  },
  "vscode": {
   "interpreter": {
    "hash": "37ed6dae9db4498ef1a8e176fbcebe5d295d56bee001a8e3185c66917fbe56fb"
   }
  }
 },
 "nbformat": 4,
 "nbformat_minor": 4
}
