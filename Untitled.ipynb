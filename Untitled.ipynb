{
 "cells": [
  {
   "cell_type": "code",
   "execution_count": 3,
   "id": "63aa2ece",
   "metadata": {
    "ExecuteTime": {
     "end_time": "2022-06-08T22:33:09.470865Z",
     "start_time": "2022-06-08T22:33:03.111Z"
    }
   },
   "outputs": [
    {
     "name": "stderr",
     "output_type": "stream",
     "text": [
      "── \u001b[1mAttaching packages\u001b[22m ─────────────────────────────────────── tidyverse 1.3.1 ──\n",
      "\n",
      "\u001b[32m✔\u001b[39m \u001b[34mggplot2\u001b[39m 3.3.6     \u001b[32m✔\u001b[39m \u001b[34mpurrr  \u001b[39m 0.3.4\n",
      "\u001b[32m✔\u001b[39m \u001b[34mtibble \u001b[39m 3.1.7     \u001b[32m✔\u001b[39m \u001b[34mdplyr  \u001b[39m 1.0.9\n",
      "\u001b[32m✔\u001b[39m \u001b[34mtidyr  \u001b[39m 1.2.0     \u001b[32m✔\u001b[39m \u001b[34mstringr\u001b[39m 1.4.0\n",
      "\u001b[32m✔\u001b[39m \u001b[34mreadr  \u001b[39m 2.1.2     \u001b[32m✔\u001b[39m \u001b[34mforcats\u001b[39m 0.5.1\n",
      "\n",
      "── \u001b[1mConflicts\u001b[22m ────────────────────────────────────────── tidyverse_conflicts() ──\n",
      "\u001b[31m✖\u001b[39m \u001b[34mdplyr\u001b[39m::\u001b[32mfilter()\u001b[39m masks \u001b[34mstats\u001b[39m::filter()\n",
      "\u001b[31m✖\u001b[39m \u001b[34mdplyr\u001b[39m::\u001b[32mlag()\u001b[39m    masks \u001b[34mstats\u001b[39m::lag()\n",
      "\n"
     ]
    }
   ],
   "source": [
    "library(tidyverse)"
   ]
  },
  {
   "cell_type": "code",
   "execution_count": 4,
   "id": "25bf9205",
   "metadata": {
    "ExecuteTime": {
     "end_time": "2022-06-08T22:33:11.400234Z",
     "start_time": "2022-06-08T22:33:07.287Z"
    }
   },
   "outputs": [
    {
     "name": "stderr",
     "output_type": "stream",
     "text": [
      "\u001b[1mRows: \u001b[22m\u001b[34m100000\u001b[39m \u001b[1mColumns: \u001b[22m\u001b[34m29\u001b[39m\n",
      "\u001b[36m──\u001b[39m \u001b[1mColumn specification\u001b[22m \u001b[36m────────────────────────────────────────────────────────\u001b[39m\n",
      "\u001b[1mDelimiter:\u001b[22m \",\"\n",
      "\u001b[31mchr\u001b[39m  (5): UniqueCarrier, TailNum, Origin, Dest, CancellationCode\n",
      "\u001b[32mdbl\u001b[39m (24): Year, Month, DayofMonth, DayOfWeek, DepTime, CRSDepTime, ArrTime, ...\n",
      "\n",
      "\u001b[36mℹ\u001b[39m Use `spec()` to retrieve the full column specification for this data.\n",
      "\u001b[36mℹ\u001b[39m Specify the column types or set `show_col_types = FALSE` to quiet this message.\n"
     ]
    }
   ],
   "source": [
    "voos2008 <- read_csv(\"C:\\\\Users\\\\rfsam\\\\github\\\\postgraduate_data_science\\\\data\\\\voos2008.csv\")"
   ]
  },
  {
   "cell_type": "code",
   "execution_count": 5,
   "id": "10de33bb",
   "metadata": {
    "ExecuteTime": {
     "end_time": "2022-06-08T22:33:39.430670Z",
     "start_time": "2022-06-08T22:33:39.270Z"
    }
   },
   "outputs": [],
   "source": [
    "voosCancelados <- voos2008 %>%\n",
    "    select(Cancelled, CancellationCode) %>%\n",
    "    filter(Cancelled == 1) %>%\n",
    "    group_by(CancellationCode) %>%\n",
    "    mutate(totalAtraso = sum(Cancelled)) %>%\n",
    "    select(CancellationCode, totalAtraso) %>%\n",
    "    unique() %>%\n",
    "    arrange(desc(totalAtraso))"
   ]
  },
  {
   "cell_type": "code",
   "execution_count": 6,
   "id": "c40c4908",
   "metadata": {
    "ExecuteTime": {
     "end_time": "2022-06-08T22:33:46.670238Z",
     "start_time": "2022-06-08T22:33:46.623Z"
    }
   },
   "outputs": [],
   "source": [
    "codigoCancelamento <- c(\"A\", \"B\", \"C\", \"D\")"
   ]
  },
  {
   "cell_type": "code",
   "execution_count": 7,
   "id": "48ed6668",
   "metadata": {
    "ExecuteTime": {
     "end_time": "2022-06-08T22:33:49.762871Z",
     "start_time": "2022-06-08T22:33:49.735Z"
    }
   },
   "outputs": [],
   "source": [
    "descricaoCancelamento <- c(\"Operadora\", \"Clima\", \"NAS\", \"Segurança\")"
   ]
  },
  {
   "cell_type": "code",
   "execution_count": 8,
   "id": "339d14ec",
   "metadata": {
    "ExecuteTime": {
     "end_time": "2022-06-08T22:33:52.860646Z",
     "start_time": "2022-06-08T22:33:52.832Z"
    }
   },
   "outputs": [],
   "source": [
    "tiposOcorrencias <- data.frame(Codigo = codigoCancelamento, Descricao = descricaoCancelamento)"
   ]
  },
  {
   "cell_type": "code",
   "execution_count": 9,
   "id": "462671f4",
   "metadata": {
    "ExecuteTime": {
     "end_time": "2022-06-08T22:33:57.114554Z",
     "start_time": "2022-06-08T22:33:57.060Z"
    }
   },
   "outputs": [
    {
     "data": {
      "text/html": [
       "<table class=\"dataframe\">\n",
       "<caption>A grouped_df: 3 × 3</caption>\n",
       "<thead>\n",
       "\t<tr><th scope=col>CancellationCode</th><th scope=col>totalAtraso</th><th scope=col>Descricao</th></tr>\n",
       "\t<tr><th scope=col>&lt;chr&gt;</th><th scope=col>&lt;dbl&gt;</th><th scope=col>&lt;chr&gt;</th></tr>\n",
       "</thead>\n",
       "<tbody>\n",
       "\t<tr><td>A</td><td>1116</td><td>Operadora</td></tr>\n",
       "\t<tr><td>B</td><td>1080</td><td>Clima    </td></tr>\n",
       "\t<tr><td>C</td><td> 535</td><td>NAS      </td></tr>\n",
       "</tbody>\n",
       "</table>\n"
      ],
      "text/latex": [
       "A grouped\\_df: 3 × 3\n",
       "\\begin{tabular}{lll}\n",
       " CancellationCode & totalAtraso & Descricao\\\\\n",
       " <chr> & <dbl> & <chr>\\\\\n",
       "\\hline\n",
       "\t A & 1116 & Operadora\\\\\n",
       "\t B & 1080 & Clima    \\\\\n",
       "\t C &  535 & NAS      \\\\\n",
       "\\end{tabular}\n"
      ],
      "text/markdown": [
       "\n",
       "A grouped_df: 3 × 3\n",
       "\n",
       "| CancellationCode &lt;chr&gt; | totalAtraso &lt;dbl&gt; | Descricao &lt;chr&gt; |\n",
       "|---|---|---|\n",
       "| A | 1116 | Operadora |\n",
       "| B | 1080 | Clima     |\n",
       "| C |  535 | NAS       |\n",
       "\n"
      ],
      "text/plain": [
       "  CancellationCode totalAtraso Descricao\n",
       "1 A                1116        Operadora\n",
       "2 B                1080        Clima    \n",
       "3 C                 535        NAS      "
      ]
     },
     "metadata": {},
     "output_type": "display_data"
    }
   ],
   "source": [
    "inner_join(x = voosCancelados, y = tiposOcorrencias, by = c(\"CancellationCode\" = \"Codigo\"))"
   ]
  },
  {
   "cell_type": "code",
   "execution_count": null,
   "id": "cedcf9e3",
   "metadata": {},
   "outputs": [],
   "source": []
  }
 ],
 "metadata": {
  "kernelspec": {
   "display_name": "R",
   "language": "R",
   "name": "ir"
  },
  "language_info": {
   "codemirror_mode": "r",
   "file_extension": ".r",
   "mimetype": "text/x-r-source",
   "name": "R",
   "pygments_lexer": "r",
   "version": "4.2.0"
  },
  "toc": {
   "base_numbering": 1,
   "nav_menu": {},
   "number_sections": true,
   "sideBar": true,
   "skip_h1_title": false,
   "title_cell": "Table of Contents",
   "title_sidebar": "Contents",
   "toc_cell": false,
   "toc_position": {},
   "toc_section_display": true,
   "toc_window_display": false
  }
 },
 "nbformat": 4,
 "nbformat_minor": 5
}
