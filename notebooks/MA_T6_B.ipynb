{
 "cells": [
  {
   "cell_type": "markdown",
   "metadata": {},
   "source": [
    "<head>\n",
    "  <meta name=\"author\" content=\"Rogério de Oliveira\">\n",
    "  <meta institution=\"author\" content=\"Universidade Presbiteriana Mackenzie\">\n",
    "</head>\n",
    "\n",
    "<img src=\"http://meusite.mackenzie.br/rogerio/mackenzie_logo/UPM.2_horizontal_vermelho.jpg\" width=300, align=\"right\">\n",
    "<!-- <h1 align=left><font size = 6, style=\"color:rgb(200,0,0)\"> optional title </font></h1> -->"
   ]
  },
  {
   "attachments": {},
   "cell_type": "markdown",
   "metadata": {},
   "source": [
    "**CURSO DE PÓS-GRADUAÇÃO EM CIÊNCIA DE DADOS (BIG DATA PROCESSING AND ANALYTICS)**<p>\n",
    "**Componente curricular:** MINERAÇÃO E ANÁLISE DE DADOS [TURMA 01D] - 2023/1 - Trilha 6.<br>\n",
    "\n",
    "**Aluno:** ROBSON DE FREITAS SAMPAIO.<br>\n",
    "\n",
    "**URL deste notebook:** https://github.com/rfsampaio/postgraduate_data_science/blob/main/notebooks/MA_T6_B.ipynb<br>\n",
    "***"
   ]
  },
  {
   "attachments": {},
   "cell_type": "markdown",
   "metadata": {
    "id": "nyDUaSAsbDnu"
   },
   "source": [
    "## Atividade - Trilha 6 - Parte B - Clusters, Métricas e Classificação"
   ]
  },
  {
   "attachments": {},
   "cell_type": "markdown",
   "metadata": {
    "id": "FDT0TyYybDn1"
   },
   "source": [
    "#### Discussão do CASO: Clustering, segmentando Países pela Força de Trabalho.\n",
    "\n",
    "Com base na Parte A desta atividade, **Pesquise e discuta apenas uma** das perguntas a seguir."
   ]
  },
  {
   "cell_type": "markdown",
   "metadata": {
    "id": "GJhqp5-_bDn3"
   },
   "source": [
    "### Passos:"
   ]
  },
  {
   "attachments": {},
   "cell_type": "markdown",
   "metadata": {
    "id": "mXeLBZ3nbDn4"
   },
   "source": [
    "#### 1. Pesquise outros modelos de clusterização e exemplifique uma situação em que um desses modelos pesquisados apresenta resultados melhores que os modelos de clusterização hierárquica e kmédias."
   ]
  },
  {
   "attachments": {},
   "cell_type": "markdown",
   "metadata": {},
   "source": [
    "```Sua resposta aqui em 1 (um) parágrafo.```"
   ]
  },
  {
   "attachments": {},
   "cell_type": "markdown",
   "metadata": {},
   "source": [
    "#### 2. A clusterização é bastante empregada para o agrupamento de documentos como emails, páginas de notícias, etc. Pesquise qual a métrica de similaridade (distância) normalmente empregada na clusterização de documentos e explique por quê."
   ]
  },
  {
   "attachments": {},
   "cell_type": "markdown",
   "metadata": {},
   "source": [
    "```A métrica é a similaridade do cosseno (cosine similarity), porque ela leva em conta a frequência de ocorrência dos termos nos documentos e é invariante ao tamanho dos documentos. Ao usar a similaridade do cosseno para clusterização de documentos, os documentos são agrupados com base em sua semelhança em termos de suas palavras-chave e seus conteúdos temáticos, e não no tamanho do documento ou na ordem das palavras. Além disso, ela é computacionalmente eficiente e é facilmente implementada em linguagens de programação, tornando-a uma escolha popular para a clusterização de documentos.```"
   ]
  },
  {
   "attachments": {},
   "cell_type": "markdown",
   "metadata": {},
   "source": [
    "#### Referências:"
   ]
  },
  {
   "attachments": {},
   "cell_type": "markdown",
   "metadata": {},
   "source": [
    "```GÉRON, Aurélien. Hands-on Machine Learning with Scikit-Learn, Keras, and TensorFlow. O'Reilly Media, Inc. (2019). ISBN: 9781492032649.```"
   ]
  }
 ],
 "metadata": {
  "colab": {
   "name": "Trilha7_ExercicioAprofundamento.ipynb",
   "provenance": []
  },
  "kernelspec": {
   "display_name": "Python 3.10.4 ('ds')",
   "language": "python",
   "name": "python3"
  },
  "language_info": {
   "codemirror_mode": {
    "name": "ipython",
    "version": 3
   },
   "file_extension": ".py",
   "mimetype": "text/x-python",
   "name": "python",
   "nbconvert_exporter": "python",
   "pygments_lexer": "ipython3",
   "version": "3.10.4"
  },
  "toc": {
   "base_numbering": 1,
   "nav_menu": {},
   "number_sections": true,
   "sideBar": true,
   "skip_h1_title": false,
   "title_cell": "Table of Contents",
   "title_sidebar": "Contents",
   "toc_cell": false,
   "toc_position": {},
   "toc_section_display": true,
   "toc_window_display": false
  },
  "vscode": {
   "interpreter": {
    "hash": "37ed6dae9db4498ef1a8e176fbcebe5d295d56bee001a8e3185c66917fbe56fb"
   }
  }
 },
 "nbformat": 4,
 "nbformat_minor": 1
}
