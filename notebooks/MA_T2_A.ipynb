{
 "cells": [
  {
   "cell_type": "markdown",
   "metadata": {},
   "source": [
    "<head>\n",
    "  <meta name=\"author\" content=\"Rogério de Oliveira\">\n",
    "  <meta institution=\"author\" content=\"Universidade Presbiteriana Mackenzie\">\n",
    "</head>\n",
    "\n",
    "<img src=\"http://meusite.mackenzie.br/rogerio/mackenzie_logo/UPM.2_horizontal_vermelho.jpg\" width=300, align=\"right\">\n",
    "<!-- <h1 align=left><font size = 6, style=\"color:rgb(200,0,0)\"> optional title </font></h1> -->"
   ]
  },
  {
   "attachments": {},
   "cell_type": "markdown",
   "metadata": {},
   "source": [
    "**CURSO DE PÓS-GRADUAÇÃO EM CIÊNCIA DE DADOS (BIG DATA PROCESSING AND ANALYTICS)**<p>\n",
    "**Componente curricular:** MINERAÇÃO E ANÁLISE DE DADOS [TURMA 01D] - 2023/1 - Trilha 2.<br>\n",
    "\n",
    "**Aluno:** ROBSON DE FREITAS SAMPAIO.<br>\n",
    "\n",
    "**URL deste notebook:** https://github.com/rfsampaio/postgraduate_data_science/blob/main/notebooks/MA_T2_A.ipynb<br>\n",
    "***"
   ]
  },
  {
   "attachments": {},
   "cell_type": "markdown",
   "metadata": {
    "id": "nyDUaSAsbDnu"
   },
   "source": [
    "## Atividade - Trilha 2 - Parte A - Regressão com \"statsmodels\""
   ]
  },
  {
   "attachments": {},
   "cell_type": "markdown",
   "metadata": {
    "id": "FDT0TyYybDn1"
   },
   "source": [
    "#### CASO: Estimando o Preço de Imóveis em São Paulo.\n",
    "\n",
    "A partir deste notebook crie um modelo de regressão múltipla com a biblioteca \"statsmodels\" para predição de preço de imóveis com base no histórico de preços e características de vários imóveis de São Paulo.\n",
    "\n",
    "Em seguida, com base nos seus resultados, responda o **questionário do Moodle**."
   ]
  },
  {
   "cell_type": "markdown",
   "metadata": {
    "id": "GJhqp5-_bDn3"
   },
   "source": [
    "### Passos:"
   ]
  },
  {
   "attachments": {},
   "cell_type": "markdown",
   "metadata": {
    "id": "mXeLBZ3nbDn4"
   },
   "source": [
    "#### Importando as bibliotecas básicas."
   ]
  },
  {
   "cell_type": "code",
   "execution_count": 159,
   "metadata": {
    "ExecuteTime": {
     "end_time": "2022-06-08T23:47:57.926285Z",
     "start_time": "2022-06-08T23:47:57.889Z"
    },
    "colab": {
     "base_uri": "https://localhost:8080/"
    },
    "id": "ekwPf47hbDn5",
    "outputId": "9cbf5bff-326e-4582-be90-3db8850453f0"
   },
   "outputs": [],
   "source": [
    "import numpy as np\n",
    "import pandas as pd\n",
    "import matplotlib.pyplot as plt\n",
    "%matplotlib inline\n",
    "import seaborn as sns\n"
   ]
  },
  {
   "attachments": {},
   "cell_type": "markdown",
   "metadata": {},
   "source": [
    "#### Exploração dos dados."
   ]
  },
  {
   "cell_type": "code",
   "execution_count": 160,
   "metadata": {},
   "outputs": [
    {
     "data": {
      "text/html": [
       "<div>\n",
       "<style scoped>\n",
       "    .dataframe tbody tr th:only-of-type {\n",
       "        vertical-align: middle;\n",
       "    }\n",
       "\n",
       "    .dataframe tbody tr th {\n",
       "        vertical-align: top;\n",
       "    }\n",
       "\n",
       "    .dataframe thead th {\n",
       "        text-align: right;\n",
       "    }\n",
       "</style>\n",
       "<table border=\"1\" class=\"dataframe\">\n",
       "  <thead>\n",
       "    <tr style=\"text-align: right;\">\n",
       "      <th></th>\n",
       "      <th>bairro</th>\n",
       "      <th>areaM2</th>\n",
       "      <th>suites</th>\n",
       "      <th>dormitorios</th>\n",
       "      <th>banheiros</th>\n",
       "      <th>vagas</th>\n",
       "      <th>preco</th>\n",
       "    </tr>\n",
       "  </thead>\n",
       "  <tbody>\n",
       "    <tr>\n",
       "      <th>0</th>\n",
       "      <td>vila-nova-conceicao</td>\n",
       "      <td>32</td>\n",
       "      <td>1</td>\n",
       "      <td>1</td>\n",
       "      <td>1</td>\n",
       "      <td>1</td>\n",
       "      <td>490000</td>\n",
       "    </tr>\n",
       "    <tr>\n",
       "      <th>1</th>\n",
       "      <td>vila-nova-conceicao</td>\n",
       "      <td>157</td>\n",
       "      <td>2</td>\n",
       "      <td>2</td>\n",
       "      <td>2</td>\n",
       "      <td>2</td>\n",
       "      <td>3180000</td>\n",
       "    </tr>\n",
       "    <tr>\n",
       "      <th>2</th>\n",
       "      <td>vila-nova-conceicao</td>\n",
       "      <td>205</td>\n",
       "      <td>2</td>\n",
       "      <td>3</td>\n",
       "      <td>3</td>\n",
       "      <td>3</td>\n",
       "      <td>1900000</td>\n",
       "    </tr>\n",
       "    <tr>\n",
       "      <th>3</th>\n",
       "      <td>vila-nova-conceicao</td>\n",
       "      <td>193</td>\n",
       "      <td>3</td>\n",
       "      <td>3</td>\n",
       "      <td>3</td>\n",
       "      <td>3</td>\n",
       "      <td>3565000</td>\n",
       "    </tr>\n",
       "    <tr>\n",
       "      <th>4</th>\n",
       "      <td>vila-nova-conceicao</td>\n",
       "      <td>116</td>\n",
       "      <td>1</td>\n",
       "      <td>3</td>\n",
       "      <td>2</td>\n",
       "      <td>2</td>\n",
       "      <td>1605000</td>\n",
       "    </tr>\n",
       "  </tbody>\n",
       "</table>\n",
       "</div>"
      ],
      "text/plain": [
       "                bairro  areaM2  suites  dormitorios  banheiros  vagas    preco\n",
       "0  vila-nova-conceicao      32       1            1          1      1   490000\n",
       "1  vila-nova-conceicao     157       2            2          2      2  3180000\n",
       "2  vila-nova-conceicao     205       2            3          3      3  1900000\n",
       "3  vila-nova-conceicao     193       3            3          3      3  3565000\n",
       "4  vila-nova-conceicao     116       1            3          2      2  1605000"
      ]
     },
     "metadata": {},
     "output_type": "display_data"
    },
    {
     "data": {
      "text/plain": [
       "(3741, 7)"
      ]
     },
     "metadata": {},
     "output_type": "display_data"
    }
   ],
   "source": [
    "df = pd.read_excel('../data/regressao_preco_imoveis.xlsx')\n",
    "display(df.head())\n",
    "display(df.shape)\n"
   ]
  },
  {
   "cell_type": "markdown",
   "metadata": {},
   "source": [
    "(Moodle) **Q1**. Quantos bairros existem no histórico e qual o bairro mais presente nos dados?"
   ]
  },
  {
   "cell_type": "code",
   "execution_count": 161,
   "metadata": {},
   "outputs": [
    {
     "data": {
      "text/html": [
       "<div>\n",
       "<style scoped>\n",
       "    .dataframe tbody tr th:only-of-type {\n",
       "        vertical-align: middle;\n",
       "    }\n",
       "\n",
       "    .dataframe tbody tr th {\n",
       "        vertical-align: top;\n",
       "    }\n",
       "\n",
       "    .dataframe thead th {\n",
       "        text-align: right;\n",
       "    }\n",
       "</style>\n",
       "<table border=\"1\" class=\"dataframe\">\n",
       "  <thead>\n",
       "    <tr style=\"text-align: right;\">\n",
       "      <th></th>\n",
       "      <th>bairro</th>\n",
       "      <th>contagem</th>\n",
       "    </tr>\n",
       "  </thead>\n",
       "  <tbody>\n",
       "    <tr>\n",
       "      <th>2</th>\n",
       "      <td>vila-mariana</td>\n",
       "      <td>1714</td>\n",
       "    </tr>\n",
       "    <tr>\n",
       "      <th>1</th>\n",
       "      <td>paraiso</td>\n",
       "      <td>802</td>\n",
       "    </tr>\n",
       "    <tr>\n",
       "      <th>3</th>\n",
       "      <td>vila-nova-conceicao</td>\n",
       "      <td>789</td>\n",
       "    </tr>\n",
       "    <tr>\n",
       "      <th>4</th>\n",
       "      <td>vila-sonia</td>\n",
       "      <td>307</td>\n",
       "    </tr>\n",
       "    <tr>\n",
       "      <th>0</th>\n",
       "      <td>morumbi</td>\n",
       "      <td>129</td>\n",
       "    </tr>\n",
       "  </tbody>\n",
       "</table>\n",
       "</div>"
      ],
      "text/plain": [
       "                bairro  contagem\n",
       "2         vila-mariana      1714\n",
       "1              paraiso       802\n",
       "3  vila-nova-conceicao       789\n",
       "4           vila-sonia       307\n",
       "0              morumbi       129"
      ]
     },
     "metadata": {},
     "output_type": "display_data"
    }
   ],
   "source": [
    "# (Moodle) **Q1**. Quantos bairros existem no histórico e qual o bairro mais presente nos dados?\n",
    "display(df.groupby(['bairro']).size().reset_index(name='contagem').sort_values(by='contagem', ascending=False))"
   ]
  },
  {
   "attachments": {},
   "cell_type": "markdown",
   "metadata": {},
   "source": [
    "#### Preparação dos dados."
   ]
  },
  {
   "attachments": {},
   "cell_type": "markdown",
   "metadata": {},
   "source": [
    "Use [statsmodels.formula.api](https://www.statsmodels.org/dev/generated/statsmodels.formula.api.ols.html)"
   ]
  },
  {
   "attachments": {},
   "cell_type": "markdown",
   "metadata": {},
   "source": [
    "Se você empregar esta forma do \"statsmodels\", ``` from statsmodels.formula.api import ols ```, ele fará de modo implítico o \"hot encode\" dos dados e não há necessidade de nenhuma transformação dos dados (Não faremos a normalização aqui. Embora sempre recomendável na maior parte dos casos, aqui o resultado de predição será o mesmo com ou sem a normalização)."
   ]
  },
  {
   "attachments": {},
   "cell_type": "markdown",
   "metadata": {},
   "source": [
    "Atenção, se você empregar ``` from statsmodels.api import OLS ``` os resultados serão os mesmos, mas alguma preparação nos dados será necessária e a construção do modelo será um pouco diferente."
   ]
  },
  {
   "attachments": {},
   "cell_type": "markdown",
   "metadata": {},
   "source": [
    "#### Estimando o modelo com o ``` statsmodels ```."
   ]
  },
  {
   "attachments": {},
   "cell_type": "markdown",
   "metadata": {},
   "source": [
    "Estime o modelo."
   ]
  },
  {
   "cell_type": "code",
   "execution_count": 162,
   "metadata": {},
   "outputs": [
    {
     "data": {
      "text/html": [
       "<table class=\"simpletable\">\n",
       "<caption>OLS Regression Results</caption>\n",
       "<tr>\n",
       "  <th>Dep. Variable:</th>          <td>preco</td>      <th>  R-squared:         </th> <td>   0.795</td> \n",
       "</tr>\n",
       "<tr>\n",
       "  <th>Model:</th>                   <td>OLS</td>       <th>  Adj. R-squared:    </th> <td>   0.795</td> \n",
       "</tr>\n",
       "<tr>\n",
       "  <th>Method:</th>             <td>Least Squares</td>  <th>  F-statistic:       </th> <td>   1611.</td> \n",
       "</tr>\n",
       "<tr>\n",
       "  <th>Date:</th>             <td>Sat, 11 Mar 2023</td> <th>  Prob (F-statistic):</th>  <td>  0.00</td>  \n",
       "</tr>\n",
       "<tr>\n",
       "  <th>Time:</th>                 <td>20:12:52</td>     <th>  Log-Likelihood:    </th> <td> -54290.</td> \n",
       "</tr>\n",
       "<tr>\n",
       "  <th>No. Observations:</th>      <td>  3741</td>      <th>  AIC:               </th> <td>1.086e+05</td>\n",
       "</tr>\n",
       "<tr>\n",
       "  <th>Df Residuals:</th>          <td>  3731</td>      <th>  BIC:               </th> <td>1.087e+05</td>\n",
       "</tr>\n",
       "<tr>\n",
       "  <th>Df Model:</th>              <td>     9</td>      <th>                     </th>     <td> </td>    \n",
       "</tr>\n",
       "<tr>\n",
       "  <th>Covariance Type:</th>      <td>nonrobust</td>    <th>                     </th>     <td> </td>    \n",
       "</tr>\n",
       "</table>\n",
       "<table class=\"simpletable\">\n",
       "<tr>\n",
       "                <td></td>                   <th>coef</th>     <th>std err</th>      <th>t</th>      <th>P>|t|</th>  <th>[0.025</th>    <th>0.975]</th>  \n",
       "</tr>\n",
       "<tr>\n",
       "  <th>Intercept</th>                     <td> -3.16e+05</td> <td> 5.35e+04</td> <td>   -5.911</td> <td> 0.000</td> <td>-4.21e+05</td> <td>-2.11e+05</td>\n",
       "</tr>\n",
       "<tr>\n",
       "  <th>bairro[T.paraiso]</th>             <td> 8.331e+04</td> <td> 4.68e+04</td> <td>    1.781</td> <td> 0.075</td> <td>-8410.743</td> <td> 1.75e+05</td>\n",
       "</tr>\n",
       "<tr>\n",
       "  <th>bairro[T.vila-mariana]</th>        <td> -1.18e+05</td> <td> 4.44e+04</td> <td>   -2.657</td> <td> 0.008</td> <td>-2.05e+05</td> <td>-3.09e+04</td>\n",
       "</tr>\n",
       "<tr>\n",
       "  <th>bairro[T.vila-nova-conceicao]</th> <td> 7.698e+05</td> <td> 4.66e+04</td> <td>   16.502</td> <td> 0.000</td> <td> 6.78e+05</td> <td> 8.61e+05</td>\n",
       "</tr>\n",
       "<tr>\n",
       "  <th>bairro[T.vila-sonia]</th>          <td>-5.245e+05</td> <td> 5.13e+04</td> <td>  -10.234</td> <td> 0.000</td> <td>-6.25e+05</td> <td>-4.24e+05</td>\n",
       "</tr>\n",
       "<tr>\n",
       "  <th>areaM2</th>                        <td> 7580.2937</td> <td>  241.143</td> <td>   31.435</td> <td> 0.000</td> <td> 7107.508</td> <td> 8053.079</td>\n",
       "</tr>\n",
       "<tr>\n",
       "  <th>suites</th>                        <td> 1.532e+05</td> <td> 1.33e+04</td> <td>   11.524</td> <td> 0.000</td> <td> 1.27e+05</td> <td> 1.79e+05</td>\n",
       "</tr>\n",
       "<tr>\n",
       "  <th>dormitorios</th>                   <td>-9.971e+04</td> <td>  1.5e+04</td> <td>   -6.655</td> <td> 0.000</td> <td>-1.29e+05</td> <td>-7.03e+04</td>\n",
       "</tr>\n",
       "<tr>\n",
       "  <th>banheiros</th>                     <td> 4755.9925</td> <td> 8373.499</td> <td>    0.568</td> <td> 0.570</td> <td>-1.17e+04</td> <td> 2.12e+04</td>\n",
       "</tr>\n",
       "<tr>\n",
       "  <th>vagas</th>                         <td> 3.331e+05</td> <td> 1.36e+04</td> <td>   24.503</td> <td> 0.000</td> <td> 3.06e+05</td> <td>  3.6e+05</td>\n",
       "</tr>\n",
       "</table>\n",
       "<table class=\"simpletable\">\n",
       "<tr>\n",
       "  <th>Omnibus:</th>       <td>1315.549</td> <th>  Durbin-Watson:     </th> <td>   1.972</td> \n",
       "</tr>\n",
       "<tr>\n",
       "  <th>Prob(Omnibus):</th>  <td> 0.000</td>  <th>  Jarque-Bera (JB):  </th> <td>12370.154</td>\n",
       "</tr>\n",
       "<tr>\n",
       "  <th>Skew:</th>           <td> 1.401</td>  <th>  Prob(JB):          </th> <td>    0.00</td> \n",
       "</tr>\n",
       "<tr>\n",
       "  <th>Kurtosis:</th>       <td>11.457</td>  <th>  Cond. No.          </th> <td>1.89e+03</td> \n",
       "</tr>\n",
       "</table><br/><br/>Notes:<br/>[1] Standard Errors assume that the covariance matrix of the errors is correctly specified.<br/>[2] The condition number is large, 1.89e+03. This might indicate that there are<br/>strong multicollinearity or other numerical problems."
      ],
      "text/plain": [
       "<class 'statsmodels.iolib.summary.Summary'>\n",
       "\"\"\"\n",
       "                            OLS Regression Results                            \n",
       "==============================================================================\n",
       "Dep. Variable:                  preco   R-squared:                       0.795\n",
       "Model:                            OLS   Adj. R-squared:                  0.795\n",
       "Method:                 Least Squares   F-statistic:                     1611.\n",
       "Date:                Sat, 11 Mar 2023   Prob (F-statistic):               0.00\n",
       "Time:                        20:12:52   Log-Likelihood:                -54290.\n",
       "No. Observations:                3741   AIC:                         1.086e+05\n",
       "Df Residuals:                    3731   BIC:                         1.087e+05\n",
       "Df Model:                           9                                         \n",
       "Covariance Type:            nonrobust                                         \n",
       "=================================================================================================\n",
       "                                    coef    std err          t      P>|t|      [0.025      0.975]\n",
       "-------------------------------------------------------------------------------------------------\n",
       "Intercept                      -3.16e+05   5.35e+04     -5.911      0.000   -4.21e+05   -2.11e+05\n",
       "bairro[T.paraiso]              8.331e+04   4.68e+04      1.781      0.075   -8410.743    1.75e+05\n",
       "bairro[T.vila-mariana]         -1.18e+05   4.44e+04     -2.657      0.008   -2.05e+05   -3.09e+04\n",
       "bairro[T.vila-nova-conceicao]  7.698e+05   4.66e+04     16.502      0.000    6.78e+05    8.61e+05\n",
       "bairro[T.vila-sonia]          -5.245e+05   5.13e+04    -10.234      0.000   -6.25e+05   -4.24e+05\n",
       "areaM2                         7580.2937    241.143     31.435      0.000    7107.508    8053.079\n",
       "suites                         1.532e+05   1.33e+04     11.524      0.000    1.27e+05    1.79e+05\n",
       "dormitorios                   -9.971e+04    1.5e+04     -6.655      0.000   -1.29e+05   -7.03e+04\n",
       "banheiros                      4755.9925   8373.499      0.568      0.570   -1.17e+04    2.12e+04\n",
       "vagas                          3.331e+05   1.36e+04     24.503      0.000    3.06e+05     3.6e+05\n",
       "==============================================================================\n",
       "Omnibus:                     1315.549   Durbin-Watson:                   1.972\n",
       "Prob(Omnibus):                  0.000   Jarque-Bera (JB):            12370.154\n",
       "Skew:                           1.401   Prob(JB):                         0.00\n",
       "Kurtosis:                      11.457   Cond. No.                     1.89e+03\n",
       "==============================================================================\n",
       "\n",
       "Notes:\n",
       "[1] Standard Errors assume that the covariance matrix of the errors is correctly specified.\n",
       "[2] The condition number is large, 1.89e+03. This might indicate that there are\n",
       "strong multicollinearity or other numerical problems.\n",
       "\"\"\""
      ]
     },
     "metadata": {},
     "output_type": "display_data"
    }
   ],
   "source": [
    "from statsmodels.formula.api import ols  \n",
    "\n",
    "# model\n",
    "model1 = ols(formula='preco ~ bairro + areaM2 + suites + dormitorios + banheiros + vagas', data=df)\n",
    "\n",
    "# fitting model\n",
    "result1 = model1.fit()\n",
    "\n",
    "# summary\n",
    "display(result1.summary())"
   ]
  },
  {
   "attachments": {},
   "cell_type": "markdown",
   "metadata": {},
   "source": [
    "(Moodle) **Q2**. Qual o coeficiente de determinação ajustado obtido?\n",
    "\n",
    "Dica: empregue ``` result.rsquared_adj ``` no lugar de ``` result.summary() ``` para obter resultados com maior precisão."
   ]
  },
  {
   "cell_type": "code",
   "execution_count": 163,
   "metadata": {},
   "outputs": [
    {
     "data": {
      "text/plain": [
       "'Adj. R-squared: 0.7948154407290992.'"
      ]
     },
     "metadata": {},
     "output_type": "display_data"
    }
   ],
   "source": [
    "display(f'Adj. R-squared: {result1.rsquared_adj}.')"
   ]
  },
  {
   "attachments": {},
   "cell_type": "markdown",
   "metadata": {},
   "source": [
    "(Moodle) **Q3**. Qual coeficiente estimado é menos significativo?"
   ]
  },
  {
   "cell_type": "code",
   "execution_count": 164,
   "metadata": {},
   "outputs": [
    {
     "data": {
      "text/plain": [
       "Intercept                        0.000\n",
       "bairro[T.paraiso]                0.075\n",
       "bairro[T.vila-mariana]           0.008\n",
       "bairro[T.vila-nova-conceicao]    0.000\n",
       "bairro[T.vila-sonia]             0.000\n",
       "areaM2                           0.000\n",
       "suites                           0.000\n",
       "dormitorios                      0.000\n",
       "banheiros                        0.570\n",
       "vagas                            0.000\n",
       "dtype: float64"
      ]
     },
     "metadata": {},
     "output_type": "display_data"
    }
   ],
   "source": [
    "# pvalues\n",
    "display((result1.pvalues).round(3))"
   ]
  },
  {
   "attachments": {},
   "cell_type": "markdown",
   "metadata": {},
   "source": [
    "#### Re-estimando o modelo com o ``` statsmodels ```."
   ]
  },
  {
   "attachments": {},
   "cell_type": "markdown",
   "metadata": {},
   "source": [
    "Estime novamente o modelo excluindo o atributo menos significativo (um único atributo)."
   ]
  },
  {
   "attachments": {},
   "cell_type": "markdown",
   "metadata": {},
   "source": [
    "(Moodle) **Q4**. Qual o novo coeficiente de determinação ajustado obtido?\n",
    "\n",
    "Excluído o atributo \"banheiros\" do modelo inicial, pois este era o menos significativo. Obtivemos um novo modelo com coeficiente de determinação ajustado de 0.7948526838722687, um pouco maior do que o coeficiente do modelo anterior que era de 0.7948154407290992."
   ]
  },
  {
   "cell_type": "code",
   "execution_count": 165,
   "metadata": {},
   "outputs": [
    {
     "data": {
      "text/plain": [
       "'Adj. R-squared: 0.7948526838722687.'"
      ]
     },
     "metadata": {},
     "output_type": "display_data"
    },
    {
     "data": {
      "text/html": [
       "<table class=\"simpletable\">\n",
       "<caption>OLS Regression Results</caption>\n",
       "<tr>\n",
       "  <th>Dep. Variable:</th>          <td>preco</td>      <th>  R-squared:         </th> <td>   0.795</td> \n",
       "</tr>\n",
       "<tr>\n",
       "  <th>Model:</th>                   <td>OLS</td>       <th>  Adj. R-squared:    </th> <td>   0.795</td> \n",
       "</tr>\n",
       "<tr>\n",
       "  <th>Method:</th>             <td>Least Squares</td>  <th>  F-statistic:       </th> <td>   1812.</td> \n",
       "</tr>\n",
       "<tr>\n",
       "  <th>Date:</th>             <td>Sat, 11 Mar 2023</td> <th>  Prob (F-statistic):</th>  <td>  0.00</td>  \n",
       "</tr>\n",
       "<tr>\n",
       "  <th>Time:</th>                 <td>20:12:52</td>     <th>  Log-Likelihood:    </th> <td> -54290.</td> \n",
       "</tr>\n",
       "<tr>\n",
       "  <th>No. Observations:</th>      <td>  3741</td>      <th>  AIC:               </th> <td>1.086e+05</td>\n",
       "</tr>\n",
       "<tr>\n",
       "  <th>Df Residuals:</th>          <td>  3732</td>      <th>  BIC:               </th> <td>1.087e+05</td>\n",
       "</tr>\n",
       "<tr>\n",
       "  <th>Df Model:</th>              <td>     8</td>      <th>                     </th>     <td> </td>    \n",
       "</tr>\n",
       "<tr>\n",
       "  <th>Covariance Type:</th>      <td>nonrobust</td>    <th>                     </th>     <td> </td>    \n",
       "</tr>\n",
       "</table>\n",
       "<table class=\"simpletable\">\n",
       "<tr>\n",
       "                <td></td>                   <th>coef</th>     <th>std err</th>      <th>t</th>      <th>P>|t|</th>  <th>[0.025</th>    <th>0.975]</th>  \n",
       "</tr>\n",
       "<tr>\n",
       "  <th>Intercept</th>                     <td> -3.14e+05</td> <td> 5.33e+04</td> <td>   -5.887</td> <td> 0.000</td> <td>-4.19e+05</td> <td>-2.09e+05</td>\n",
       "</tr>\n",
       "<tr>\n",
       "  <th>bairro[T.paraiso]</th>             <td> 8.287e+04</td> <td> 4.68e+04</td> <td>    1.772</td> <td> 0.076</td> <td>-8824.930</td> <td> 1.75e+05</td>\n",
       "</tr>\n",
       "<tr>\n",
       "  <th>bairro[T.vila-mariana]</th>        <td>-1.181e+05</td> <td> 4.44e+04</td> <td>   -2.659</td> <td> 0.008</td> <td>-2.05e+05</td> <td> -3.1e+04</td>\n",
       "</tr>\n",
       "<tr>\n",
       "  <th>bairro[T.vila-nova-conceicao]</th> <td> 7.689e+05</td> <td> 4.66e+04</td> <td>   16.494</td> <td> 0.000</td> <td> 6.78e+05</td> <td>  8.6e+05</td>\n",
       "</tr>\n",
       "<tr>\n",
       "  <th>bairro[T.vila-sonia]</th>          <td>-5.246e+05</td> <td> 5.12e+04</td> <td>  -10.237</td> <td> 0.000</td> <td>-6.25e+05</td> <td>-4.24e+05</td>\n",
       "</tr>\n",
       "<tr>\n",
       "  <th>areaM2</th>                        <td> 7591.9890</td> <td>  240.241</td> <td>   31.602</td> <td> 0.000</td> <td> 7120.973</td> <td> 8063.005</td>\n",
       "</tr>\n",
       "<tr>\n",
       "  <th>suites</th>                        <td> 1.561e+05</td> <td> 1.23e+04</td> <td>   12.700</td> <td> 0.000</td> <td> 1.32e+05</td> <td>  1.8e+05</td>\n",
       "</tr>\n",
       "<tr>\n",
       "  <th>dormitorios</th>                   <td>-9.795e+04</td> <td> 1.47e+04</td> <td>   -6.683</td> <td> 0.000</td> <td>-1.27e+05</td> <td>-6.92e+04</td>\n",
       "</tr>\n",
       "<tr>\n",
       "  <th>vagas</th>                         <td> 3.337e+05</td> <td> 1.35e+04</td> <td>   24.631</td> <td> 0.000</td> <td> 3.07e+05</td> <td>  3.6e+05</td>\n",
       "</tr>\n",
       "</table>\n",
       "<table class=\"simpletable\">\n",
       "<tr>\n",
       "  <th>Omnibus:</th>       <td>1314.663</td> <th>  Durbin-Watson:     </th> <td>   1.972</td> \n",
       "</tr>\n",
       "<tr>\n",
       "  <th>Prob(Omnibus):</th>  <td> 0.000</td>  <th>  Jarque-Bera (JB):  </th> <td>12354.953</td>\n",
       "</tr>\n",
       "<tr>\n",
       "  <th>Skew:</th>           <td> 1.400</td>  <th>  Prob(JB):          </th> <td>    0.00</td> \n",
       "</tr>\n",
       "<tr>\n",
       "  <th>Kurtosis:</th>       <td>11.451</td>  <th>  Cond. No.          </th> <td>1.89e+03</td> \n",
       "</tr>\n",
       "</table><br/><br/>Notes:<br/>[1] Standard Errors assume that the covariance matrix of the errors is correctly specified.<br/>[2] The condition number is large, 1.89e+03. This might indicate that there are<br/>strong multicollinearity or other numerical problems."
      ],
      "text/plain": [
       "<class 'statsmodels.iolib.summary.Summary'>\n",
       "\"\"\"\n",
       "                            OLS Regression Results                            \n",
       "==============================================================================\n",
       "Dep. Variable:                  preco   R-squared:                       0.795\n",
       "Model:                            OLS   Adj. R-squared:                  0.795\n",
       "Method:                 Least Squares   F-statistic:                     1812.\n",
       "Date:                Sat, 11 Mar 2023   Prob (F-statistic):               0.00\n",
       "Time:                        20:12:52   Log-Likelihood:                -54290.\n",
       "No. Observations:                3741   AIC:                         1.086e+05\n",
       "Df Residuals:                    3732   BIC:                         1.087e+05\n",
       "Df Model:                           8                                         \n",
       "Covariance Type:            nonrobust                                         \n",
       "=================================================================================================\n",
       "                                    coef    std err          t      P>|t|      [0.025      0.975]\n",
       "-------------------------------------------------------------------------------------------------\n",
       "Intercept                      -3.14e+05   5.33e+04     -5.887      0.000   -4.19e+05   -2.09e+05\n",
       "bairro[T.paraiso]              8.287e+04   4.68e+04      1.772      0.076   -8824.930    1.75e+05\n",
       "bairro[T.vila-mariana]        -1.181e+05   4.44e+04     -2.659      0.008   -2.05e+05    -3.1e+04\n",
       "bairro[T.vila-nova-conceicao]  7.689e+05   4.66e+04     16.494      0.000    6.78e+05     8.6e+05\n",
       "bairro[T.vila-sonia]          -5.246e+05   5.12e+04    -10.237      0.000   -6.25e+05   -4.24e+05\n",
       "areaM2                         7591.9890    240.241     31.602      0.000    7120.973    8063.005\n",
       "suites                         1.561e+05   1.23e+04     12.700      0.000    1.32e+05     1.8e+05\n",
       "dormitorios                   -9.795e+04   1.47e+04     -6.683      0.000   -1.27e+05   -6.92e+04\n",
       "vagas                          3.337e+05   1.35e+04     24.631      0.000    3.07e+05     3.6e+05\n",
       "==============================================================================\n",
       "Omnibus:                     1314.663   Durbin-Watson:                   1.972\n",
       "Prob(Omnibus):                  0.000   Jarque-Bera (JB):            12354.953\n",
       "Skew:                           1.400   Prob(JB):                         0.00\n",
       "Kurtosis:                      11.451   Cond. No.                     1.89e+03\n",
       "==============================================================================\n",
       "\n",
       "Notes:\n",
       "[1] Standard Errors assume that the covariance matrix of the errors is correctly specified.\n",
       "[2] The condition number is large, 1.89e+03. This might indicate that there are\n",
       "strong multicollinearity or other numerical problems.\n",
       "\"\"\""
      ]
     },
     "metadata": {},
     "output_type": "display_data"
    },
    {
     "data": {
      "text/plain": [
       "Intercept                        0.000\n",
       "bairro[T.paraiso]                0.076\n",
       "bairro[T.vila-mariana]           0.008\n",
       "bairro[T.vila-nova-conceicao]    0.000\n",
       "bairro[T.vila-sonia]             0.000\n",
       "areaM2                           0.000\n",
       "suites                           0.000\n",
       "dormitorios                      0.000\n",
       "vagas                            0.000\n",
       "dtype: float64"
      ]
     },
     "metadata": {},
     "output_type": "display_data"
    }
   ],
   "source": [
    "# model reestimated\n",
    "model2 = ols(formula='preco ~ bairro + areaM2 + suites + dormitorios + vagas', data=df)\n",
    "\n",
    "# fitting model\n",
    "result2 = model2.fit()\n",
    "\n",
    "# rsquared_adj\n",
    "display(f'Adj. R-squared: {result2.rsquared_adj}.')\n",
    "\n",
    "# summary\n",
    "display(result2.summary())\n",
    "\n",
    "# pvalues\n",
    "display((result2.pvalues).round(3))"
   ]
  },
  {
   "attachments": {},
   "cell_type": "markdown",
   "metadata": {},
   "source": [
    "#### Predição."
   ]
  },
  {
   "attachments": {},
   "cell_type": "markdown",
   "metadata": {},
   "source": [
    "Faça a predição do preço, com o melhor dos modelos obtidos acima, de um imóvel na Vila Mariana, com 134 m2, 1 suíte, 4 dormitórios, 3 banheiros e 3 vagas."
   ]
  },
  {
   "attachments": {},
   "cell_type": "markdown",
   "metadata": {},
   "source": [
    "(Moodle) **Q5**. Qual o preço estimado, para o melhor dos modelos obtidos, de um imóvel na Vila Mariana, com 134 m2, 1 suíte, 4 dormitórios, 3 banheiros e 3 vagas?"
   ]
  },
  {
   "cell_type": "code",
   "execution_count": 166,
   "metadata": {},
   "outputs": [
    {
     "data": {
      "text/plain": [
       "0    1350584\n",
       "dtype: int64"
      ]
     },
     "metadata": {},
     "output_type": "display_data"
    }
   ],
   "source": [
    "# values to predict\n",
    "x = pd.DataFrame({'bairro': df['bairro'],\n",
    "                  'areaM2': df['areaM2'],\n",
    "                  'suites': df['suites'],\n",
    "                  'dormitorios': df['dormitorios'],\n",
    "                  'banheiros': df['banheiros'],\n",
    "                  'vagas': df['vagas']})\n",
    "\n",
    "predict_values = (result2.predict(x)).round(2).astype(int)\n",
    "\n",
    "x1 = pd.DataFrame({'bairro': ['vila-mariana'],\n",
    "                  'areaM2': [134],\n",
    "                  'suites': [1],\n",
    "                  'dormitorios': [4],\n",
    "                  'banheiros': [3],\n",
    "                  'vagas': [3]})\n",
    "\n",
    "predict_value = (result2.predict(x1)).round(2).astype(int)\n",
    "\n",
    "# predict x1\n",
    "display(predict_value)"
   ]
  },
  {
   "cell_type": "code",
   "execution_count": 167,
   "metadata": {},
   "outputs": [
    {
     "data": {
      "image/png": "[encoded data removed]",
      "text/plain": [
       "<Figure size 640x480 with 1 Axes>"
      ]
     },
     "metadata": {},
     "output_type": "display_data"
    }
   ],
   "source": [
    "# Actual vs Predicted graph\n",
    "c = [i for i in range(1,3742,1)]\n",
    "fig = plt.figure()\n",
    "plt.plot(c, df.preco, color=\"blue\", linewidth=1.5, linestyle=\"-\")\n",
    "plt.plot(c, predict_values, color=\"red\",  linewidth=1.5, linestyle=\"-\")\n",
    "fig.suptitle('Actual vs Predicted', fontsize=12)\n",
    "plt.xlabel('Index', fontsize=12)\n",
    "plt.ylabel('Prices', fontsize=12)\n",
    "plt.ticklabel_format(useOffset=False, style='plain')"
   ]
  },
  {
   "attachments": {},
   "cell_type": "markdown",
   "metadata": {},
   "source": [
    "Exemplo de registro real no dataframe com valores semelhantes ao que foi predito acima pelo modelo."
   ]
  },
  {
   "cell_type": "code",
   "execution_count": 168,
   "metadata": {},
   "outputs": [
    {
     "data": {
      "text/html": [
       "<div>\n",
       "<style scoped>\n",
       "    .dataframe tbody tr th:only-of-type {\n",
       "        vertical-align: middle;\n",
       "    }\n",
       "\n",
       "    .dataframe tbody tr th {\n",
       "        vertical-align: top;\n",
       "    }\n",
       "\n",
       "    .dataframe thead th {\n",
       "        text-align: right;\n",
       "    }\n",
       "</style>\n",
       "<table border=\"1\" class=\"dataframe\">\n",
       "  <thead>\n",
       "    <tr style=\"text-align: right;\">\n",
       "      <th></th>\n",
       "      <th>bairro</th>\n",
       "      <th>areaM2</th>\n",
       "      <th>suites</th>\n",
       "      <th>dormitorios</th>\n",
       "      <th>banheiros</th>\n",
       "      <th>vagas</th>\n",
       "      <th>preco</th>\n",
       "    </tr>\n",
       "  </thead>\n",
       "  <tbody>\n",
       "    <tr>\n",
       "      <th>2391</th>\n",
       "      <td>vila-mariana</td>\n",
       "      <td>132</td>\n",
       "      <td>1</td>\n",
       "      <td>4</td>\n",
       "      <td>4</td>\n",
       "      <td>3</td>\n",
       "      <td>1280000</td>\n",
       "    </tr>\n",
       "  </tbody>\n",
       "</table>\n",
       "</div>"
      ],
      "text/plain": [
       "            bairro  areaM2  suites  dormitorios  banheiros  vagas    preco\n",
       "2391  vila-mariana     132       1            4          4      3  1280000"
      ]
     },
     "execution_count": 168,
     "metadata": {},
     "output_type": "execute_result"
    }
   ],
   "source": [
    "# record example in dataframe for comparation with the model predict\n",
    "df[(df.bairro == 'vila-mariana') &\n",
    "   (df.areaM2 == 132) &\n",
    "   (df.suites == 1) &\n",
    "   (df.dormitorios == 4) &\n",
    "   (df.banheiros == 4) &\n",
    "   (df.vagas == 3)]"
   ]
  }
 ],
 "metadata": {
  "colab": {
   "name": "Trilha7_ExercicioAprofundamento.ipynb",
   "provenance": []
  },
  "kernelspec": {
   "display_name": "Python 3.10.4 ('ds')",
   "language": "python",
   "name": "python3"
  },
  "language_info": {
   "codemirror_mode": {
    "name": "ipython",
    "version": 3
   },
   "file_extension": ".py",
   "mimetype": "text/x-python",
   "name": "python",
   "nbconvert_exporter": "python",
   "pygments_lexer": "ipython3",
   "version": "3.10.4"
  },
  "toc": {
   "base_numbering": 1,
   "nav_menu": {},
   "number_sections": true,
   "sideBar": true,
   "skip_h1_title": false,
   "title_cell": "Table of Contents",
   "title_sidebar": "Contents",
   "toc_cell": false,
   "toc_position": {},
   "toc_section_display": true,
   "toc_window_display": false
  },
  "vscode": {
   "interpreter": {
    "hash": "37ed6dae9db4498ef1a8e176fbcebe5d295d56bee001a8e3185c66917fbe56fb"
   }
  }
 },
 "nbformat": 4,
 "nbformat_minor": 1
}
