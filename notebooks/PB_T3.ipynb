{
 "cells": [
  {
   "cell_type": "markdown",
   "metadata": {},
   "source": [
    "<head>\n",
    "  <meta name=\"author\" content=\"Rogério de Oliveira\">\n",
    "  <meta institution=\"author\" content=\"Universidade Presbiteriana Mackenzie\">\n",
    "</head>\n",
    "\n",
    "<img src=\"http://meusite.mackenzie.br/rogerio/mackenzie_logo/UPM.2_horizontal_vermelho.jpg\" width=300, align=\"right\">\n",
    "<!-- <h1 align=left><font size = 6, style=\"color:rgb(200,0,0)\"> optional title </font></h1> -->"
   ]
  },
  {
   "cell_type": "markdown",
   "metadata": {},
   "source": [
    "**CURSO DE PÓS-GRADUAÇÃO EM CIÊNCIA DE DADOS (BIG DATA PROCESSING AND ANALYTICS)**<p>\n",
    "**Componente curricular:** PROCESSAMENTO E BIG DATA - O PROCESSING EM UMA VISÃO PRÁTICA - 2022.2 - 01D - Trilha 3.<br>\n",
    "\n",
    "**Aluno:** ROBSON DE FREITAS SAMPAIO.<br>\n",
    "\n",
    "**URL deste notebook:** https://github.com/rfsampaio/postgraduate_data_science/blob/main/notebooks/PB_T3.ipynb<br>\n",
    "***"
   ]
  },
  {
   "cell_type": "markdown",
   "metadata": {
    "id": "nyDUaSAsbDnu"
   },
   "source": [
    "### **Atividade - Trilha 3**"
   ]
  },
  {
   "cell_type": "markdown",
   "metadata": {
    "id": "FDT0TyYybDn1"
   },
   "source": [
    "#### **Questão 1 - Trabalhando com o SQOOP**\n",
    "\n",
    "Você deve criar um documento no formato PDF com os códigos usados em cada item da questão. A entrega dessa questão é, portanto, um arquivo em PDF."
   ]
  },
  {
   "cell_type": "markdown",
   "metadata": {},
   "source": [
    "**1. Crie uma tabela no banco de dados \"testeingestao\" chamada \"marketing_banco\".**"
   ]
  },
  {
   "cell_type": "markdown",
   "metadata": {},
   "source": [
    "   - Conectando no servidor \"mysql\" da máquina virtual Cloudera.\n",
    "   \n",
    "```\n",
    "   [cloudera@quickstart ~]$ mysql -u root -p\n",
    "```\n",
    "   - Senha do \"mysql\": cloudera."
   ]
  },
  {
   "cell_type": "markdown",
   "metadata": {},
   "source": [
    "**2. Essa tabela deve conter os seguintes campos:**\n",
    "   - idade inteiro não nulo,  \n",
    "   - estado civil varchar tamanho 30 não nulo,  \n",
    "   - trabalho varchar tamanho 50 não nulo,  \n",
    "   - casa inteiro não nulo,  \n",
    "   - empréstimo inteiro não nulo,  \n",
    "   - campanha inteiro não nulo,\n",
    "   - contato varchar tamanho 50 não nulo."
   ]
  },
  {
   "cell_type": "markdown",
   "metadata": {},
   "source": [
    "   - Criando o database\n",
    "\n",
    "```\n",
    "   mysql> create database testesingestao;\n",
    "   Query OK, 1 row affected (0.00 sec)\n",
    "```\n",
    "\n",
    "   - Criando a tabela no database\n",
    "   \n",
    "```\n",
    "   mysql> use testesingestao;\n",
    "   Database changed\n",
    "\n",
    "   mysql> create table marketing_banco (idade int not null, estado_civil varchar(30) not null,\n",
    "   -> trabalho varchar(50) not null, casa int not null, emprestimo int not null, campanha int not null,\n",
    "   -> contato varchar(50) not null);\n",
    "   Query OK, 0 rows affected (0.03 sec)\n",
    "```"
   ]
  },
  {
   "cell_type": "markdown",
   "metadata": {},
   "source": [
    "**3. Agora você deve inserir os dados na tabela. Você pode inserir rapidamente no MySQL usando o comando LOAD conforme visto no tutorial do SQOOP. Baixe os dados no seguinte link: https://drive.google.com/file/d/1s5JotiouBon3DU7urq8JfDJeTtN2IZbY**"
   ]
  },
  {
   "cell_type": "markdown",
   "metadata": {},
   "source": [
    "   - Baixando o arquivo \"makt_banco.csv\" a partir de \"https://drive.google.com/file/d/1s5JotiouBon3DU7urq8JfDJeTtN2IZbY\" e salvando na pasta \"/home/cloudera/Downloads/\".\n",
    "   \n",
    "   - Carregando os dados do arquivo \"makt_banco.csv\" no \"mysql\".\n",
    "   \n",
    "   ```\n",
    "      mysql> load data local infile \n",
    "      -> \"/home/cloudera/Downloads/makt_banco.csv\" \n",
    "      -> into table marketing_banco fields terminated by \",\" \n",
    "      -> lines terminated by \"\\n\" ignore 1 lines;\n",
    "      Query OK, 45211 rows affected, 65535 warnings (0.18 sec)\n",
    "      Records: 45211  Deleted: 0  Skipped: 0  Warnings: 316477\n",
    "   ```"
   ]
  },
  {
   "cell_type": "markdown",
   "metadata": {},
   "source": [
    "**4. Importe os dados da tabela \"marketing_banco\" para o HDFS usando o SQOOP.**"
   ]
  },
  {
   "cell_type": "markdown",
   "metadata": {},
   "source": [
    "   - Importando os dados para o SQOOP.\n",
    "\n",
    "   ```\n",
    "      sqoop import --connect jdbc:mysql://localhost:3306/testesingestao --username root --password cloudera\n",
    "   ```\n",
    "   ```\n",
    "                   --table marketing_banco -m 1\n",
    "   ```"
   ]
  },
  {
   "cell_type": "markdown",
   "metadata": {},
   "source": [
    "   - Resultado do comando acima:\n",
    "\n",
    "   ```\n",
    "      22/12/04 03:48:16 INFO mapreduce.Job: Running job: job_1670152151998_0001\n",
    "      22/12/04 03:48:25 INFO mapreduce.Job: Job job_1670152151998_0001 running in uber mode : false\n",
    "      22/12/04 03:48:25 INFO mapreduce.Job:  map 0% reduce 0%\n",
    "      22/12/04 03:48:32 INFO mapreduce.Job:  map 100% reduce 0%\n",
    "      22/12/04 03:48:32 INFO mapreduce.Job: Job job_1670152151998_0001 completed successfully\n",
    "      22/12/04 03:48:32 INFO mapreduce.Job: Counters: 30\n",
    "\t   File System Counters\n",
    "\t\t   FILE: Number of bytes read=0\n",
    "\t\t   FILE: Number of bytes written=171072\n",
    "\t\t   FILE: Number of read operations=0\n",
    "\t\t   FILE: Number of large read operations=0\n",
    "\t\t   FILE: Number of write operations=0\n",
    "\t\t   HDFS: Number of bytes read=87\n",
    "\t\t   HDFS: Number of bytes written=542532\n",
    "\t\t   HDFS: Number of read operations=4\n",
    "\t\t   HDFS: Number of large read operations=0\n",
    "\t\t   HDFS: Number of write operations=2\n",
    "\t   Job Counters \n",
    "\t\t   Launched map tasks=1\n",
    "\t\t   Other local map tasks=1\n",
    "\t\t   Total time spent by all maps in occupied slots (ms)=4738\n",
    "\t\t   Total time spent by all reduces in occupied slots (ms)=0\n",
    "\t\t   Total time spent by all map tasks (ms)=4738\n",
    "\t\t   Total vcore-milliseconds taken by all map tasks=4738\n",
    "\t\t   Total megabyte-milliseconds taken by all map tasks=4851712\n",
    "\t   Map-Reduce Framework\n",
    "\t\t   Map input records=45211\n",
    "\t\t   Map output records=45211\n",
    "\t\t   Input split bytes=87\n",
    "\t\t   Spilled Records=0\n",
    "\t\t   Failed Shuffles=0\n",
    "\t\t   Merged Map outputs=0\n",
    "\t\t   GC time elapsed (ms)=68\n",
    "\t\t   CPU time spent (ms)=1520\n",
    "\t\t   Physical memory (bytes) snapshot=154619904\n",
    "\t\t   Virtual memory (bytes) snapshot=1511198720\n",
    "\t\t   Total committed heap usage (bytes)=60751872\n",
    "\t   File Input Format Counters \n",
    "\t\t   Bytes Read=0\n",
    "\t   File Output Format Counters \n",
    "\t\t   Bytes Written=542532\n",
    "      22/12/04 03:48:32 INFO mapreduce.ImportJobBase: Transferred 529.8164 KB in 19.9381 seconds (26.5731 KB/sec)\n",
    "      22/12/04 03:48:32 INFO mapreduce.ImportJobBase: Retrieved 45211 records.\n",
    "   ```"
   ]
  },
  {
   "cell_type": "markdown",
   "metadata": {},
   "source": [
    "   - Checando a existência do arquivo \"marketing_banco\" no sistema de arquivos HDFS, após a importação via SQOOP:\n",
    "   \n",
    "   ```\n",
    "      [cloudera@quickstart ~]$ hdfs dfs -ls\n",
    "      Found 1 items\n",
    "      drwxr-xr-x   - cloudera cloudera          0 2022-12-04 03:48 marketing_banco\n",
    "   ```"
   ]
  }
 ],
 "metadata": {
  "colab": {
   "name": "Trilha7_ExercicioAprofundamento.ipynb",
   "provenance": []
  },
  "kernelspec": {
   "display_name": "R",
   "language": "R",
   "name": "ir"
  },
  "language_info": {
   "codemirror_mode": "r",
   "file_extension": ".r",
   "mimetype": "text/x-r-source",
   "name": "R",
   "pygments_lexer": "r",
   "version": "4.2.0"
  },
  "toc": {
   "base_numbering": 1,
   "nav_menu": {},
   "number_sections": true,
   "sideBar": true,
   "skip_h1_title": false,
   "title_cell": "Table of Contents",
   "title_sidebar": "Contents",
   "toc_cell": false,
   "toc_position": {},
   "toc_section_display": true,
   "toc_window_display": false
  },
  "vscode": {
   "interpreter": {
    "hash": "37ed6dae9db4498ef1a8e176fbcebe5d295d56bee001a8e3185c66917fbe56fb"
   }
  }
 },
 "nbformat": 4,
 "nbformat_minor": 1
}
