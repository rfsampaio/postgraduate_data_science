{
 "cells": [
  {
   "cell_type": "markdown",
   "metadata": {},
   "source": [
    "<head>\n",
    "  <meta name=\"author\" content=\"Rogério de Oliveira\">\n",
    "  <meta institution=\"author\" content=\"Universidade Presbiteriana Mackenzie\">\n",
    "</head>\n",
    "\n",
    "<img src=\"http://meusite.mackenzie.br/rogerio/mackenzie_logo/UPM.2_horizontal_vermelho.jpg\" width=300, align=\"right\">\n",
    "<!-- <h1 align=left><font size = 6, style=\"color:rgb(200,0,0)\"> optional title </font></h1> -->"
   ]
  },
  {
   "cell_type": "markdown",
   "metadata": {},
   "source": [
    "**CURSO DE PÓS-GRADUAÇÃO EM CIÊNCIA DE DADOS (BIG DATA PROCESSING AND ANALYTICS)**<p>\n",
    "**Componente curricular:** BIG DATA ANALYTICS: ANÁLISE ESTATÍSTICA - 91162 - 2022.2 - 01D - Trilha 2.<br>\n",
    "\n",
    "**Aluno:** ROBSON DE FREITAS SAMPAIO.<br>\n",
    "\n",
    "**URL deste notebook:** https://github.com/rfsampaio/postgraduate_data_science/blob/main/notebooks/AE_T2.ipynb<br>\n",
    "***"
   ]
  },
  {
   "cell_type": "markdown",
   "metadata": {
    "id": "nyDUaSAsbDnu"
   },
   "source": [
    "### **Atividade - Trilha 2**"
   ]
  },
  {
   "cell_type": "markdown",
   "metadata": {
    "id": "FDT0TyYybDn1"
   },
   "source": [
    "Nesta atividade, você utilizará o R/RStudio para resolver alguns problemas simples envolvendo Distribuições de Probabilidade; também fará alguns testes de hipóteses e resolverá problemas de Inferência. Começamos com alguns exercícios que deverão ser resolvidos no R.\n",
    "\n",
    "1. Suponha que o peso médio dos Pinguins Reis encontrados em uma colônia na Antártica no último ano foi 15.4 kg. Em uma amostra de 35 pinguins na mesma época neste ano, na mesma colônia, o peso médio foi 14.1kg. Assuma que o desvio padrão da população seja 2kg. A um nível de significância de 5%, nós podemos rejeitar a hipótese nula de que o peso médio dos pinguins não difere do último ano?\n",
    "\n",
    "2. Na indústria cerâmica, avalia-se sistematicamente a resistência de amostras de massas cerâmicas, após o processo de queima. Dessas avaliações, sabe-se que certo tipo de massa tem resistência mecânica aproximadamente normal, com média 53 MPa e variância 16 MPa<sup>2</sup>. Após a troca de alguns fornecedores de matérias-primas, deseja-se verificar se houve alteração na qualidade. Uma amostra de 15 corpos de prova de massa cerâmica acusou média igual a 50 MPa. Qual é a conclusão ao nível de significância de 5 %?\n",
    "\n",
    "3. O tempo para transmitir 10 MB em determinada rede de computadores varia segundo um modelo normal, com média 7,4 seg e variância 1,3 seg<sup>2</sup>. Depois de algumas mudanças na rede acredita-se numa redução no tempo de transmissão de dados, além de uma possível alteração na variabilidade. Foram realizados 10 ensaios independentes com um arquivo de 10 MB e foram anotados os tempos de transmissão, em segundos: 6,8; 7,1; 5,9; 7,5; 6,3; 6,9; 7,2; 7,6; 6,6; 6,3\n",
    "\n",
    "    Existe evidência suficiente de que o tempo médio de transmissão foi reduzido? Use nível de significância de 1%."
   ]
  },
  {
   "cell_type": "markdown",
   "metadata": {},
   "source": [
    "### **Carregando bibliotecas necessárias:**"
   ]
  },
  {
   "cell_type": "code",
   "execution_count": 2,
   "metadata": {
    "vscode": {
     "languageId": "r"
    }
   },
   "outputs": [],
   "source": [
    "library(tidyverse)"
   ]
  },
  {
   "cell_type": "markdown",
   "metadata": {},
   "source": [
    "### **Resolução:**"
   ]
  },
  {
   "cell_type": "markdown",
   "metadata": {},
   "source": [
    "**Exercício 1**"
   ]
  },
  {
   "cell_type": "markdown",
   "metadata": {},
   "source": [
    "#### $ z_{observado} = {(\\bar{x}-\\mu) \\over {\\sigma \\over \\sqrt{n}}} $<br>\n",
    "$ \\bar{x} = 14.1 $<br>\n",
    "$ \\mu = 15.4 $<br>\n",
    "$ \\sigma = 2.0 $<br>\n",
    "$ n = 35 $<br>\n",
    "<br>\n",
    "$ H_{0} = 15.4 $ kg<br>\n",
    "$ H_{1} \\neq 15.4 $ kg<br>\n",
    "$ \\alpha = 5.0 $ %<br>\n",
    "$ z_{observado} = z_{crítico} \\to $ Aceita $ H_{0} $.<br>\n",
    "$ z_{observado} \\neq z_{crítico} \\to $ Rejeita $ H_{0} $.<br>"
   ]
  },
  {
   "cell_type": "markdown",
   "metadata": {},
   "source": [
    "**Cálculos no R da estatística de teste e dos valores de \"z\" para o Exercício 1:**"
   ]
  },
  {
   "cell_type": "code",
   "execution_count": 3,
   "metadata": {
    "vscode": {
     "languageId": "r"
    }
   },
   "outputs": [
    {
     "name": "stdout",
     "output_type": "stream",
     "text": [
      "mu = 15.4 \n",
      "sigma = 2 \n",
      "alpha = 0.05 \n",
      "xbar = 14.1 \n",
      "zo = -3.845452 \n",
      "zc = 1.959964 \n",
      "ra = -1.959964 1.959964 \n",
      "Aceita H0? FALSE \n",
      "Rejeita H0? TRUE"
     ]
    }
   ],
   "source": [
    "# população\n",
    "mu <- 15.4; cat('mu =', mu, '\\n') # média da população\n",
    "sigma <- 2.0; cat('sigma =', sigma, '\\n') # desvio padrão da população\n",
    "alpha <- 0.05; cat('alpha =', alpha, '\\n') # nível de significância bilateral de 5%\n",
    "\n",
    "# amostra\n",
    "xbar <- 14.1; cat('xbar =', xbar, '\\n') # média da amostra\n",
    "n <- 35 # tamanho da amostra\n",
    "\n",
    "# cálculo dos Zs\n",
    "zo <- (xbar - mu) / (sigma / sqrt(n)); cat('zo =', zo, '\\n') # z observado\n",
    "zc <- qnorm(1 - alpha / 2); cat('zc =', zc, '\\n') # z crítico\n",
    "\n",
    "# região de aceitação\n",
    "ra <- c(-zc, zc); cat('ra =', ra, '\\n')\n",
    "\n",
    "# resultado do teste\n",
    "res_aceita_h0 <- zo == zc; cat('Aceita H0?', res_aceita_h0, '\\n') # aceita H0\n",
    "res_rejeita_h0 <- zo != zc; cat('Rejeita H0?', res_rejeita_h0) # rejeita H0\n"
   ]
  },
  {
   "cell_type": "markdown",
   "metadata": {},
   "source": [
    "**Conclusão do Exercício 1:**"
   ]
  },
  {
   "cell_type": "markdown",
   "metadata": {},
   "source": [
    "A estatística de teste zo = -3.84 está fora da região de aceitação, compreendida entre -1.96 e 1.96. Assim, de acordo com os dados coletados e adotando um nível de significância de 5%, podemos rejeitar a hipótese nula de que o peso médio dos pinguins não difere do último ano."
   ]
  },
  {
   "cell_type": "markdown",
   "metadata": {},
   "source": [
    "**Exercício 2**"
   ]
  },
  {
   "cell_type": "markdown",
   "metadata": {},
   "source": [
    "#### $ z_{observado} = {(\\bar{x}-\\mu) \\over {\\sigma \\over \\sqrt{n}}} $<br>\n",
    "$ \\bar{x} = 50.0 $<br>\n",
    "$ \\mu = 53.0 $<br>\n",
    "$ \\sigma = \\sqrt{16} $<br>\n",
    "$ n = 15 $<br>\n",
    "<br>\n",
    "$ H_{0} = 53.0 $ MPa<br>\n",
    "$ H_{1} \\neq 53.0 $ MPa<br>\n",
    "$ \\alpha = 5.0 $ %<br>\n",
    "$ z_{observado} = z_{crítico} \\to $ Aceita $ H_{0} $.<br>\n",
    "$ z_{observado} \\neq z_{crítico} \\to $ Rejeita $ H_{0} $.<br>"
   ]
  },
  {
   "cell_type": "markdown",
   "metadata": {},
   "source": [
    "**Cálculos no R da estatística de teste e dos valores de \"z\" para o Exercício 2:**"
   ]
  },
  {
   "cell_type": "code",
   "execution_count": 4,
   "metadata": {
    "vscode": {
     "languageId": "r"
    }
   },
   "outputs": [
    {
     "name": "stdout",
     "output_type": "stream",
     "text": [
      "mu = 53 \n",
      "sigma = 4 \n",
      "alpha = 0.05 \n",
      "xbar = 50 \n",
      "zo = -2.904738 \n",
      "zc = 1.959964 \n",
      "ra = -1.959964 1.959964 \n",
      "Aceita H0? FALSE \n",
      "Rejeita H0? TRUE"
     ]
    }
   ],
   "source": [
    "# população\n",
    "mu <- 53.0; cat('mu =', mu, '\\n') # média da população\n",
    "sigma <- sqrt(16); cat('sigma =', sigma, '\\n') # desvio padrão da população\n",
    "alpha <- 0.05; cat('alpha =', alpha, '\\n') # nível de significância bilateral de 5%\n",
    "\n",
    "# amostra\n",
    "xbar <- 50.0; cat('xbar =', xbar, '\\n') # média da amostra\n",
    "n <- 15 # tamanho da amostra\n",
    "\n",
    "# cálculo dos Zs\n",
    "zo <- (xbar - mu) / (sigma / sqrt(n)); cat('zo =', zo, '\\n') # z observado\n",
    "zc <- qnorm(1 - alpha / 2); cat('zc =', zc, '\\n') # z crítico\n",
    "\n",
    "# região de aceitação\n",
    "ra <- c(-zc, zc); cat('ra =', ra, '\\n')\n",
    "\n",
    "# resultado do teste\n",
    "res_aceita_h0 <- zo == zc; cat('Aceita H0?', res_aceita_h0, '\\n') # aceita H0\n",
    "res_rejeita_h0 <- zo != zc; cat('Rejeita H0?', res_rejeita_h0) # rejeita H0"
   ]
  },
  {
   "cell_type": "markdown",
   "metadata": {},
   "source": [
    "**Conclusão do Exercício 2:**"
   ]
  },
  {
   "cell_type": "markdown",
   "metadata": {},
   "source": [
    "A estatística de teste zo = -2.90 está fora da região de aceitação, compreendida entre -1.96 e 1.96. Assim, de acordo com os dados coletados e adotando um nível de significância de 5%, podemos rejeitar a hipótese nula de que não houve alteração na qualidade."
   ]
  },
  {
   "cell_type": "markdown",
   "metadata": {},
   "source": [
    "**Exercício 3**"
   ]
  },
  {
   "cell_type": "markdown",
   "metadata": {},
   "source": [
    "Como a variância da população é desconhecida deveremos utilizar a distribuição \"t\" de Student para calcular a estatística de teste. Vide abaixo:\n",
    "<br>\n",
    "#### $ t_{observado} = {(\\bar{x}-\\mu) * \\sqrt{n} \\over {\\sigma}} $<br>\n",
    "$ \\bar{x} = ? $<br>\n",
    "$ \\mu = 7.4 $<br>\n",
    "$ \\sigma = ? $<br>\n",
    "$ n = 10 $<br><br>\n",
    "Considerando que a variabilidade possa ter sido alterada, vamos usar a variância da amostra. Fazendo os cálculos com as 10 observações, teremos que obter a média, a variância e o desvio padrão da amostra. Conjunto de observações: 6,8; 7,1; 5,9; 7,5; 6,3; 6,9; 7,2; 7,6; 6,6; 6,3. O grau de liberdade \"gl\" será dado pela quantidade de observações - 1, ou seja, 10 - 1 = 9.\n",
    "<br><br>\n",
    "$ H_{0} = 7.4 $ s<br>\n",
    "$ H_{1} < 7.4 $ s<br>\n",
    "$ \\alpha = 1.0 $ %<br>\n",
    "$ t_{observado} = t_{crítico} \\to $ Aceita $ H_{0} $.<br>\n",
    "$ t_{observado} < t_{crítico} \\to $ Rejeita $ H_{0} $.<br>"
   ]
  },
  {
   "cell_type": "markdown",
   "metadata": {},
   "source": [
    "**Cálculos no R da estatística de teste e dos valores de \"t\" para o Exercício 3:**"
   ]
  },
  {
   "cell_type": "code",
   "execution_count": 5,
   "metadata": {
    "vscode": {
     "languageId": "r"
    }
   },
   "outputs": [
    {
     "name": "stdout",
     "output_type": "stream",
     "text": [
      "mu = 7.4 \n",
      "alpha = 0.01 \n",
      "xbar = 6.82 \n",
      "S = 0.304 \n",
      "sigma = 0.551362 \n",
      "to = -3.326528 \n",
      "tc = -2.821438 \n",
      "Aceita H0? FALSE \n",
      "Rejeita H0? TRUE"
     ]
    }
   ],
   "source": [
    "# população\n",
    "mu <- 7.4; cat('mu =', mu, '\\n') # média da população\n",
    "alpha <- 0.01; cat('alpha =', alpha, '\\n') # nível de significância unilateral de 1%\n",
    "\n",
    "# amostra\n",
    "xbar <- mean(c(6.8, 7.1, 5.9, 7.5, 6.3, 6.9, 7.2, 7.6, 6.6, 6.3))\n",
    "cat('xbar =', xbar, '\\n') # média da amostra\n",
    "S <- var(c(6.8, 7.1, 5.9, 7.5, 6.3, 6.9, 7.2, 7.6, 6.6, 6.3))\n",
    "cat('S =', S, '\\n') # variância da amostra\n",
    "sigma <- sqrt(S); cat('sigma =', sigma, '\\n') # desvio padrão da amostra\n",
    "n <- 10 # tamanho da amostra\n",
    "gl <- n - 1 # grau de liberdade da amostra\n",
    "\n",
    "# cálculo dos Ts\n",
    "to <- (((xbar - mu) * sqrt(n)) / sigma); cat('to =', to, '\\n') # t observado\n",
    "tc <- qt(alpha, df = gl); cat('tc =', tc, '\\n') # t crítico\n",
    "\n",
    "# resultado do teste\n",
    "res_aceita_h0 <- to == tc; cat('Aceita H0?', res_aceita_h0, '\\n') # aceita H0\n",
    "res_rejeita_h0 <- to < tc; cat('Rejeita H0?', res_rejeita_h0) # rejeita H0"
   ]
  },
  {
   "cell_type": "markdown",
   "metadata": {},
   "source": [
    "**Conclusão do Exercício 3:**"
   ]
  },
  {
   "cell_type": "markdown",
   "metadata": {},
   "source": [
    "A estatística de teste to = -3.33 está fora da região de aceitação, pois é menor que -2.82. Assim, de acordo com os dados coletados e adotando um nível de significância de 1%, podemos rejeitar a hipótese nula de que o tempo médio de transmissão não foi reduzido."
   ]
  }
 ],
 "metadata": {
  "colab": {
   "name": "Trilha7_ExercicioAprofundamento.ipynb",
   "provenance": []
  },
  "kernelspec": {
   "display_name": "R",
   "language": "R",
   "name": "ir"
  },
  "language_info": {
   "codemirror_mode": "r",
   "file_extension": ".r",
   "mimetype": "text/x-r-source",
   "name": "R",
   "pygments_lexer": "r",
   "version": "4.2.0"
  },
  "toc": {
   "base_numbering": 1,
   "nav_menu": {},
   "number_sections": true,
   "sideBar": true,
   "skip_h1_title": false,
   "title_cell": "Table of Contents",
   "title_sidebar": "Contents",
   "toc_cell": false,
   "toc_position": {},
   "toc_section_display": true,
   "toc_window_display": false
  },
  "vscode": {
   "interpreter": {
    "hash": "37ed6dae9db4498ef1a8e176fbcebe5d295d56bee001a8e3185c66917fbe56fb"
   }
  }
 },
 "nbformat": 4,
 "nbformat_minor": 1
}
